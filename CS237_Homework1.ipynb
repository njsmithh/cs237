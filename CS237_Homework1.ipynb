{
 "cells": [
  {
   "cell_type": "markdown",
   "metadata": {},
   "source": [
    "# CS 237 Summer 2018, Homework 01\n",
    "### Due date: Monday 5/28 at midnight in Websubmit \n",
    "\n",
    "See the link on the class web page for Websubmit instructions. There is a \"grace period\" of an hour or so after the deadline in case you have trouble submitting. \n",
    "\n",
    "\n",
    "### General Instructions\n",
    "\n",
    "There are two parts to this homework: (1) analytical problems to practice the mathematical concepts from the previous week, and (2) Python programming problems to be started in lab after lecture on Thursday 5/24.  Please complete this notebook by filling in solutions where indicated. Be sure to \"Run All\" from the Cell menu before submitting. \n",
    "\n",
    "You may use ordinary ASCII text to write your solutions, or (preferably) Latex. A nice introduction to Latex in Jupyter notebooks may be found here: http://data-blog.udacity.com/posts/2016/10/latex-primer/"
   ]
  },
  {
   "cell_type": "markdown",
   "metadata": {},
   "source": [
    "## Part One: Analytical Problems\n",
    "\n",
    "\n",
    "\n",
    "For the following problems, analyze means to specify (i) the sample space S, (ii) probability function P, (iii) the events listed (i.e.,list the members of each event), and (iv) their probabilities. In some cases, additional information may be required. You may abbreviate or schematize as necessary, as long as the answer is perfectly clear.\n",
    "\n",
    "Sometimes it is useful to first write down a \"pre-sample space\" which helps to think about the actual sample space. This is often useful when the literal outcome of the random experiment is non-numeric but the sample space is numeric.\n",
    "\n",
    "Example: Toss a fair coin and report the number of heads that appear. Let A = \"one head appears.\" \n",
    "Analyze, providing the \"pre-sample space\" (the appearance of the two sides of the coin).\n",
    "\n",
    "Solution:  The pre-sample space is { T, H }. Then:\n",
    "       \n",
    "           S = { 0,   1   }\n",
    "           P = { 0.5, 0.5 }\n",
    "           A = { 1 }\n",
    "           P(A) = 0.5\n",
    "           \n",
    "Quantitative answers may be given in fractional form, as long as they are reduced (e.g., 1/5 instead of 20/100), or as decimals; in the latter case round to 4 decimal places, with trailing zeros suppressed (i.e., 0.2500 would be expressed as 0.25). If rounding to 4 places would give 0.0000, then give the result in scientific notation with 4 significant digits with trailing digits suppressed, e.g., 0.00000023 would be expressed as $2.3 * 10 ^{-7}$"
   ]
  },
  {
   "cell_type": "markdown",
   "metadata": {},
   "source": [
    "### Problem 1"
   ]
  },
  {
   "cell_type": "markdown",
   "metadata": {},
   "source": [
    "Suppose that a study is being done on all families with 1, 2, or 3 children (all having different ages, i.e., no twins), and let the outcomes be the genders (G = girl and B = boy) of the children in each family in ascending order of their ages (e.g., BG means an older girl and a younger boy). Assume all possible configurations of genders and numbers of children is equally likely (i.e., this will be an equiprobable probability space). Let events A = \"families where the oldest child is a boy\" and B = \"families with exactly two girls and any number of boys.\" Analyze. (No pre-sample space necessary.)"
   ]
  },
  {
   "cell_type": "markdown",
   "metadata": {
    "collapsed": true
   },
   "source": [
    "Solution:"
   ]
  },
  {
   "cell_type": "markdown",
   "metadata": {},
   "source": [
    "### Problem 2"
   ]
  },
  {
   "cell_type": "markdown",
   "metadata": {},
   "source": [
    "Suppose that each time Wayne charges an item to his credit card, he rounds the amount to the nearest dollar in his records (assume that for x dollars, the amount x.50 is rounded to x + 1 dollars). The round-off error is defined as (recorded - actual); the units are dollars, so if Wayne charges \\$4.25, he records it as \\$4, and the round-off error is \\$-0.25, but if he charges \\$4.75, the value recorded is \\$5 and the round-off error is \\$0.25. Assume this is random, so that each time Wayne charges to his card, he performs a equiprobable random experiment whose outcome is the round-off error. Let event A = \"at most 3 cents is rounded off in either direction\" (i.e., | recorded - actual | ≤ 0.03). Analyze. (No pre-sample space necessary.)"
   ]
  },
  {
   "cell_type": "markdown",
   "metadata": {
    "collapsed": true
   },
   "source": [
    "Solution:"
   ]
  },
  {
   "cell_type": "markdown",
   "metadata": {},
   "source": [
    "### Problem 3"
   ]
  },
  {
   "cell_type": "markdown",
   "metadata": {},
   "source": [
    "Suppose an experiment consists of two steps. First a coin is tossed; if the result is heads, then a six-sided die is thrown; if the result of the coin toss is tails, then the coin is tossed again (no die involved). Let A = \"at least one head is thrown during the experiment\" and B = \"an odd outcome in the case the die is tossed\". Analyze. This is not equiprobable, so a tree diagram may help. You do not need to give the tree diagram in your answer"
   ]
  },
  {
   "cell_type": "markdown",
   "metadata": {
    "collapsed": true
   },
   "source": [
    "Solution:"
   ]
  },
  {
   "cell_type": "markdown",
   "metadata": {},
   "source": [
    "### Problem 4"
   ]
  },
  {
   "cell_type": "markdown",
   "metadata": {},
   "source": [
    "Consider the random experiment of flipping a fair coin until a head appears. The result of the random experiment is the number of flips. Let A = \"it takes an odd number of flips.\" Give the probability P(A). (No need to analyze, since we did it in class.) Show your reasoning, not just give the answer. (Hint: compare the sequence of probabilities in the case of an odd number of flips, and the sequence of probabilities in the case of an even number.)"
   ]
  },
  {
   "cell_type": "markdown",
   "metadata": {
    "collapsed": true
   },
   "source": [
    "Solution:"
   ]
  },
  {
   "cell_type": "markdown",
   "metadata": {},
   "source": [
    "### Problem 5"
   ]
  },
  {
   "cell_type": "markdown",
   "metadata": {},
   "source": [
    "Consider the random experiment of flipping a fair coin until the second head appears. (The heads need not occur one after the other.) The result of the random experiment is the number of flips. Analyze. Hint: think of it as repeating the previous experiment twice, and summing the total number of flips. Draw a 2D grid, similar to the one we used for tossing two dice in lecture on 5/24, but infinite: \n",
    "<br>\n",
    "&nbsp;&nbsp; 1&nbsp; 2&nbsp; 3&nbsp; 4&nbsp; ... <br>\n",
    "1 <br>\n",
    "2 <br>\n",
    "3 <br>\n",
    "... <br>\n",
    "<br>\n",
    "Since the two trials are independent, you can figure out the probability of each square, and then sum across the diagonals as in the dice example. Prove that this is indeed a probability space by showing that the sum of the probabilities is indeed 1.0."
   ]
  },
  {
   "cell_type": "markdown",
   "metadata": {
    "collapsed": true
   },
   "source": [
    "Solution:"
   ]
  },
  {
   "cell_type": "markdown",
   "metadata": {},
   "source": [
    "### Problem 6"
   ]
  },
  {
   "cell_type": "markdown",
   "metadata": {},
   "source": [
    "Two students are supposed to take the final exam in CS 237 but don't show up. They come to Snyder's office several hours after the exam and explain that they had to drive to visit a sick friend the morning of the exam, but got a flat tire on the way back, and missed the exam; they ask to be given a makeup exam. Snyder, with a mysterious smile, agrees. When they get the exam, it consists of two problems, the first (worth 5%) a simple problem from the course, and the second (worth 95%) consists of the single question \"Which tire was it?\" If the students have a 10% probability of actually having had a flat tire, then what is their chance of passing the exam? Assume a score of 95 is passing. Assume that if they didn't have a flat tire, they have to guess randomly at the exam, and if they did indeed have a flat time, they would both remember which one. Assume they drove a car and the car has 4 tires. Let A = \"they pass the exam.\" Analyze, giving a tree diagram of the situation (do the best you can to format it, don't worry about making it pretty)."
   ]
  },
  {
   "cell_type": "markdown",
   "metadata": {
    "collapsed": true
   },
   "source": [
    "Solution:"
   ]
  },
  {
   "cell_type": "markdown",
   "metadata": {},
   "source": [
    "### Problem 7"
   ]
  },
  {
   "cell_type": "markdown",
   "metadata": {},
   "source": [
    "Supposing you shuffle the deck thoroughly and draw a single card, give the probability that the card is:\n",
    "\n",
    "(a) the King of Diamonds\n",
    "\n",
    "(b) a black card \n",
    "\n",
    "(c) not a face card (i.e., not Jack, Queen, King) \n",
    "\n",
    "(d) a spade or an Ace (hint: remember that or in English is the \"inclusive or\" not the \"exclusive or\")"
   ]
  },
  {
   "cell_type": "markdown",
   "metadata": {
    "collapsed": true
   },
   "source": [
    "Solution:"
   ]
  },
  {
   "cell_type": "markdown",
   "metadata": {},
   "source": [
    "### Problem 8"
   ]
  },
  {
   "cell_type": "markdown",
   "metadata": {},
   "source": [
    "Suppose we throw a dart at a square target 1 meter on a side, which has a bullseye in the center of radius 0.1 meters. Assume the dart lands with equal probability anywhere inside the square target. Give the probabilities of the following events:\n",
    "\n",
    "(a) The dart lands in the bullseye;\n",
    "\n",
    "(b) The dart lands within 0.1 meter of an edge of the square target (i.e., the shortest distance from the dart to the closest edge is ≤ 0.1);\n",
    "\n",
    "(c) The dart lands within 0.1 meter of a corner of the square target (i.e., the distance from the dart to the closest corner point is ≤ 0.1);\n",
    "\n",
    "(d) The dart lands in the exact center of the square (equivalently, in the exact center of the bullseye)."
   ]
  },
  {
   "cell_type": "markdown",
   "metadata": {
    "collapsed": true
   },
   "source": [
    "Solution:"
   ]
  },
  {
   "cell_type": "markdown",
   "metadata": {},
   "source": [
    "### Problem 9"
   ]
  },
  {
   "cell_type": "markdown",
   "metadata": {},
   "source": [
    "Suppose we consider the random experiment of randomly choosing a real number x in the range [0..1) for example using a spinner as discussed in class. Give the probability of the following events occurring.\n",
    "\n",
    "(a) x is larger than 0.5 but smaller than 0.61 (probability problems are often written, unfortunately, in English, so you have to translate, in this case into \"0.5 < x < 0.61\")\n",
    "\n",
    "(b) x is larger than or equal to 0.5 but smaller than 0.61 (i.e., 0.5 ≤ x < 0.61)\n",
    "\n",
    "(c) x is one of the values 0.1, 0.3, 0.5, or 0.545\n",
    "\n",
    "(d) x is one of the values in the infinite list 0.1, 0.11, 0.111, 0.1111, etc. (a finite sequence of 1s)\n",
    "\n",
    "(e) x is a rational number (can be expressed as a fraction)\n",
    "\n",
    "Hint: Consider the role of Axiom $P_3$ in (c), (d), and (e)."
   ]
  },
  {
   "cell_type": "markdown",
   "metadata": {
    "collapsed": true
   },
   "source": [
    "Solution:"
   ]
  },
  {
   "cell_type": "markdown",
   "metadata": {},
   "source": [
    "### Problem 10"
   ]
  },
  {
   "cell_type": "markdown",
   "metadata": {},
   "source": [
    " Consider the formula: $P( ( A ∩ B^c ) ∪ ( A^c ∩ B ) ) = P(A) + P(B) - 2*P(A ∩ B)$. (This is called the \"symmetric difference.\")\n",
    "\n",
    "(a) Draw a Venn Diagram illustrating this formula and explain in words why it is true. (Do the best you can with the diagram, using \"ASCII Art.\")\n",
    "\n",
    "(b) Prove this formula using the axiomatic method described in lecture on 5/24 (you may use any of the formulae that I proved in class as lemmas in your proof if you wish--you do not need to restate the proofs I gave)."
   ]
  },
  {
   "cell_type": "markdown",
   "metadata": {
    "collapsed": true
   },
   "source": [
    "Solution: "
   ]
  },
  {
   "cell_type": "markdown",
   "metadata": {},
   "source": [
    "## Part B: Programming Problems\n",
    "\n",
    "In this lab we will complement our theoretical investigation of random experiments by simulating them in Python. This will be done by thinking about how to use pseudo-random numbers generated by the appropriate Python library to simulate various random events. Simulation is an important area of interest in computer science, since many of the things we study (e.g., the Internet) can not be understood in any other way. In our course, this amounts to interpreting probability theory using the \"frequentist\" interpretation.\n",
    "\n",
    "Write all your code in this file. **You have to run your code before submission, so that solution contains both the code and the outcomes.**"
   ]
  },
  {
   "cell_type": "markdown",
   "metadata": {},
   "source": [
    "### Problem Zero: The Python Random Library"
   ]
  },
  {
   "cell_type": "markdown",
   "metadata": {},
   "source": [
    "Go to https://docs.python.org/2/library/random.html and read about the random library. We will use the following two functions, which you should understand well before proceeding:"
   ]
  },
  {
   "cell_type": "code",
   "execution_count": null,
   "metadata": {
    "collapsed": true
   },
   "outputs": [],
   "source": [
    "import random\n",
    "#random.randint(a,b)\n",
    "random.randint(0, 10)\n",
    "#random.random()\n",
    "random.random()"
   ]
  },
  {
   "cell_type": "markdown",
   "metadata": {},
   "source": [
    "### Problem One: Verification of Randomness\n",
    "\n",
    "In this problem, we are going to verify that the randint(...) function produces a sequence of integers in the range [a..b] which appear to be truly random, in that they can pass various \"tests of randomness.\" For each, we can imagine that we are calling the function a very large number of times (e.g., $10^6$ times), and examining the sequence of $10^6$ random numbers for signs of randomness.\n",
    "\n",
    "(a) The first test of randomness (the \"spectral test\") is that if we generate a large number of random integer values in the range [a..b], each number in this range should occur about the same number of times. For example, if we generate N = 10^6 numbers in the range [0..9], we should see about 10^5 of each number (this is called a \"uniform distribution\"). Write a function randomness_test1(N) which tests this assumption, i.e., declare a list X = [0]\\*10 which will record how many times each of the digits 0 .. 9 is generated in 10^6 calls to randint(....), and prints out the array X at the end. \n",
    "\n",
    "Answer this question in a comment at the end of your code: Does the function randint(...) pass this test?"
   ]
  },
  {
   "cell_type": "code",
   "execution_count": 8,
   "metadata": {
    "collapsed": true
   },
   "outputs": [],
   "source": [
    "# Your randomness_test1(N) solution here:\n",
    "\n"
   ]
  },
  {
   "cell_type": "markdown",
   "metadata": {},
   "source": [
    "(b) Another test of randomness is called the Permutation Test -- If we take pairs of successive numbers (e.g., if the sequence is .2, .3, .5, .14, .7, .01, ..., then you would consider (.2,.3), (.5,.14), (.7,.01), etc.) and compare the relative ordering of a pair (x,y) then there should be about 50% with x < y and 50% with y < x (the chance that x = y is very, very small, and can be ignored); similarly, if we take successive sequences of K numbers, the relative ordering of the K-tuples should be uniformly distributed. Let us just consider the case of pairs of numbers and again use random.random() to generate a sequence of floating point numbers in the range [0 .. 1). Write a function randomness_test2(N) which considers N pair of numbers (note you will generate 2N numbers), for N = 10^6, and records in an array X = [0]\\*2 how many times a pair was in ascending order, versus how many times it was in descending order. \n",
    "\n",
    "Answer in a comment at the end of your code: Does the function random() pass this test?"
   ]
  },
  {
   "cell_type": "code",
   "execution_count": 9,
   "metadata": {
    "collapsed": true
   },
   "outputs": [],
   "source": [
    "# Your randomness_test2(N) function here\n",
    "\n"
   ]
  },
  {
   "cell_type": "markdown",
   "metadata": {},
   "source": [
    "### Problem Two: Simulation of Dice Rolls\n",
    "\n",
    "In this problem we will develop various functions which simulate random experiments. These should, of course, correspond to our theoretical understanding of the same experiments using probability theory.\n",
    "\n",
    "(a) Write a function dieRoll(N) which simulates rolling a single die N times, and which prints out the probability, based on the experiment, that each of the numbers 1, 2, ..., 6, appeared. To calculate the probabilities, take the number of times each number appeared, and divide by N. (This is the \"frequentist\" interpretation of probability, that probabilities are determined from such practical experience with random processes.) Run the function for N = 10, 10^3, and 10^6. \n",
    "\n",
    "Answer at the end of your solution in a comment: What do you observe as N increases?"
   ]
  },
  {
   "cell_type": "code",
   "execution_count": null,
   "metadata": {
    "collapsed": true
   },
   "outputs": [],
   "source": []
  },
  {
   "cell_type": "markdown",
   "metadata": {},
   "source": [
    "(b) Now write a function twoDiceRolls(N) which prints out the probability of each of the outcomes 2, 3, ...., 12 for the sum of the dots in a roll of two independent dice (or two independent rolls of a single die), over N trials. Use N = 10^6 iterations of a double roll to do the calculations. \n",
    "\n",
    "Answer at the end of your solution in a comment: Is this equiprobable? Explain why or why not."
   ]
  },
  {
   "cell_type": "code",
   "execution_count": null,
   "metadata": {
    "collapsed": true
   },
   "outputs": [],
   "source": []
  },
  {
   "cell_type": "markdown",
   "metadata": {},
   "source": [
    "### Problem Three: Simulation of Coin Flips (fair and unfair)\n",
    "\n",
    "Now suppose that you have a coin, but it is NOT necessarily a fair coin: you only know that the chance of getting heads is p and the chance of tails is 1-p. You can simulate this by writing a function nextFlip(p) which returns true (heads) or false (tails) and proceeds by using random.random() and checking if the returned value is < p (heads) or >= p (tails). (Note: the chance of getting exactly p is so small we could use < or <= with little difference in the results).\n",
    "\n",
    "For each of these problems, you will run the same experiment for p = 0.5 (i.e., a fair coin), and p = 0.7 and N (the number of times you try the experiment) will be 10^6."
   ]
  },
  {
   "cell_type": "markdown",
   "metadata": {},
   "source": [
    "(a) Set p = 0.5 and flip the coin N = 10^6 times, and then repeat the experiment for p = 0.7. Code your solultion as a function coinSimulation(p,N). \n",
    "\n",
    "Answer in a comment: Explain what you see by expressing the number of heads and the number of tails as a function of N and p."
   ]
  },
  {
   "cell_type": "code",
   "execution_count": null,
   "metadata": {
    "collapsed": true
   },
   "outputs": [],
   "source": []
  },
  {
   "cell_type": "markdown",
   "metadata": {},
   "source": [
    "(b) Set p = 0.5. Suppose we call it a \"trial\" when you you flip this coin 4 times and count the number of heads that appears in these 4 flips. Code your solution to this as a function coinTrial(p). Now our question is: what is the probability of K heads in a trial? To answer this, perform N = 10^6 trials (each of which consists of flipping the coin 4 times and recording how many heads appear). Keep track of the results in an array X = [0]\\*5 (you need 5 totals for each of K = 0, 1, 2, 3, 4). Then divide each of these 5 totals by N = 10^6 to obtain the probability of each K. Repeat the experiment for p = 0.7. Code your solution as a function coinExperiment(p,N). \n",
    "\n",
    "Answer in a comment: Explain why the results are different for p = 0.5 and p = 0.7."
   ]
  },
  {
   "cell_type": "code",
   "execution_count": null,
   "metadata": {
    "collapsed": true
   },
   "outputs": [],
   "source": []
  },
  {
   "cell_type": "markdown",
   "metadata": {},
   "source": [
    "(c) Now we will perform the experiment mentioned in class several times: How many flips does it take to get the first head? The sample space is infinite, i.e., S = { 1, 2, 3, 4, .... }, but we will only keep track of results in the range [1 .. 20], ignoring any cases where it takes more than 20 flips (very unlikely in any case!). Write a short function which performs this experiment 10^6 times and prints out the probabilities for outcomes in the range [1 .. 20] in two cases: (i) when p = 0.5 and (ii) when p = 0.7. Your results should confirm the theoretical result that P(k) = (1-p)^(k-1)\\*p (i.e., in the case p = 0.5, you should get 0.5, 0.25, 0.125, etc., and for p = 0.7 you should get 0.7, 0.21, 0.063, .... ). Code your solution as a function firstHead(p,N). \n",
    "\n",
    "Answer at the end in a comment: Explain why the results are different for p = 0.5 and p = 0.7, i.e., why does the sequence converge to 0 more quickly for 0.7?"
   ]
  },
  {
   "cell_type": "code",
   "execution_count": null,
   "metadata": {
    "collapsed": true
   },
   "outputs": [],
   "source": []
  },
  {
   "cell_type": "markdown",
   "metadata": {},
   "source": [
    "### Problem Four: Let's Gamble!\n",
    "\n",
    "Now suppose we want to actually figure out the right way to gamble, using a computer simulation. We'll go back to dice....\n",
    "\n",
    "We will play a version of blackjack and figure out the best strategy for the game \"Twenty One.\"\n",
    "\n",
    "This game is similar to the famous card game blackjack. We will play a one-player version of the game. The game is played for some number N of rounds (we will use N = 10^6), at the end of which the player wins points. The player accumlates points during the whole game, and the objective is, of course, to end up with the maximum number of points.\n",
    "\n",
    "The objective in each round of the game is to score as close to 21 as possible by rolling a die as many times as you wish and adding all the numbers that appear. When a player's total exceeds 21, he is 'busted' and gets 0 points. If the player chooses to stop rolling before he exceeds 21, then the sum of the numbers rolled in that round is the number of points he wins. (There are many variations on this game, some involving multiple players, or a \"banker\" or different numbers of dice, or alcohol..... here is a short YT video explaining the basic game.)\n",
    "\n",
    "A computer can play this game with a suitable strategy. For this problem, we will consider a strategy to be simply an integer K which is the value at which you stop rolling (thinking that you are close enough to 21). The number K is fixed for the entire game. For example, if you set K = 19, then in every round, you will keep rolling if your sum to that point is less than or equal to 19; if you get more than 19 you stop.\n",
    "\n",
    "You should write a function playRound(K) which rolls a single die until you reach K or get busted, and either return your score (if you reached K), or 0 (if you were busted). Then write a function playGame() which calls playRound(K) for N = 10^6 times for each K and returns an array of 21 numbers giving the average payoff for each K = 1, ..., 21.\n",
    "\n",
    "Your task is to answer the following questions in a comment at the end of your code:\n",
    "\n",
    "- For each K = 1 .. 21, what is the average payoff per round for a game played with this strategy?\n",
    "- What is the best strategy for the game, meaning what value of K wins the most points on average?"
   ]
  },
  {
   "cell_type": "markdown",
   "metadata": {},
   "source": [
    "Hint: For the first question, write playGame() with a double loop that tries each value of K for N rounds:\n",
    "\n",
    "<pre> for K in range(1,22):\n",
    "    for i in range(N):\n",
    "        #call playRound(K) and record the results\n",
    " #divide your totals in the array by N to get the average payoff for each K</pre>"
   ]
  },
  {
   "cell_type": "code",
   "execution_count": null,
   "metadata": {
    "collapsed": true
   },
   "outputs": [],
   "source": []
  }
 ],
 "metadata": {
  "kernelspec": {
   "display_name": "Python 3",
   "language": "python",
   "name": "python3"
  },
  "language_info": {
   "codemirror_mode": {
    "name": "ipython",
    "version": 3
   },
   "file_extension": ".py",
   "mimetype": "text/x-python",
   "name": "python",
   "nbconvert_exporter": "python",
   "pygments_lexer": "ipython3",
   "version": "3.6.4"
  }
 },
 "nbformat": 4,
 "nbformat_minor": 2
}
