{
 "cells": [
  {
   "cell_type": "markdown",
   "metadata": {},
   "source": [
    "# Lab 06: Pandas Data Analysis Library\n",
    "\n",
    "In this lab/discussion, we will start to learn about the Pandas library for data analysis. Pandas is part of the Anaconda distribution, and there are decent tutorials on most aspects of Pandas; I would recommend the following:\n",
    "\n",
    "Panda Tutorial: http://pandas.pydata.org/pandas-docs/stable/tutorials.html\n",
    "\n",
    "Basic functionality: http://pandas.pydata.org/pandas-docs/stable/basics.html\n",
    "\n",
    "Indexing and selecting data: http://pandas.pydata.org/pandas-docs/stable/indexing.html\n",
    "\n",
    "There are three problems, the first an extended tutorial, and the last two actual problems. You should read through problem 0 carefully, perhaps with a partner, and try all the examples. Problems 1 and 2 are actual activities based on the material in problem 0, you should do these yourself to hand in with the homework."
   ]
  },
  {
   "cell_type": "markdown",
   "metadata": {},
   "source": [
    "## Problem Zero: Basic Pandas data manipulation\n",
    "\n",
    "We will first learn how to read data sets from a text or CSV (\"Comma Separated Values\") file, understand the DataFrame data structure, and learn how to extract data from a dataframe; then we will understand how to select rows and columns from a table, and to apply various functions to tables; finally, we will learn how to display histograms of the data. There is a LOT of complexity in all these various aspects of Pandas, but we will learn a \"novice subset\" of the most important features.\n",
    "\n",
    "Note: There is a lot of reading and thinking to do in this first problem; when we want you to do something on your own computer, we will indicate it with a **TODO**. There will be nothing to hand in for this problem, but **PLEASE DO NOT SKIP ANY OF THIS**!"
   ]
  },
  {
   "cell_type": "markdown",
   "metadata": {},
   "source": [
    "### Data as Tables\n",
    "\n",
    "The basic form of the data sets manipulated in Pandas (and indeed in all modern database systems) is a 2D table of data with rows and columns; for example, here is a data set we will use as an example:\n",
    "\n",
    "| Userid   | Gender | ClassYear | GPA  | Credits | Transfer | AP |\n",
    "|----------|--------|-----------|------|---------|----------|----|\n",
    "| sanders  | M      | U2        | 4.00 | 33      | 0        | 12 |\n",
    "| clinton  | F      | U4        | 3.63 | 45      | 71.1     | 8  |\n",
    "| carson   | M      | U4        | 3.38 | 113     | 0        | 12 |\n",
    "| fiorina  | F      | U2        | 2.21 | 28      | 0        | 0  |\n",
    "| christie | M      | U2        | 3.81 | 33      | 0        | 4  |\n",
    "| cruz     | M      | U3        | 3.04 | 56      | 28       | 0  |\n",
    "| huckabee | M      | U4        | 3.20 | 80      | 44       | 24 |\n",
    "| trump    | M      | U4        | 2.58 | 66      | 30       | 0  |\n",
    "| bush     | M      | U3        | 2.84 | 64      | 0        | 0  |\n",
    "| rubio    | M      | U4        | 3.92 | 106     | 3        | 24 |\n",
    "\n",
    "This is a hypothetical list of 10 students at BU; each row is an individual student, and each column gives a specific piece of information about that student. Note that each column contains the same kind of data (i.e., the first three columns have strings, and the remaining are floats--we will assume that all numberic data is represented as floating-point), and each column has a header giving a description of the information in that column. Column headers are not absolutely necessary, but we will make this assumption for now.\n",
    "\n",
    "**Note on terminology**: In Pandas, a table is called a dataframe; in databases we often call the rows in a table records, the columns are called fields, and the headers are then called field names. This terminology is sometimes used in data analysis."
   ]
  },
  {
   "cell_type": "markdown",
   "metadata": {},
   "source": [
    "### Comma Separated Value (CSV) Files\n",
    "\n",
    "A common file format for data stored as text is a CSV file, in which each row is stored on a separate line, with commas between all the fields. The table above would look like this if I opened it with TextEdit on my Mac (there would be a newline \\n at the end of each line; on a Windows machine there would be \\r\\n):\n",
    "\n",
    "![](textfile.png)\n",
    "\n",
    "This is a file format supported by Excel as well, and you can import it into an Excel spreadsheet or save a spreadsheet as a CSV file:\n",
    "\n",
    "![](excel.png)\n",
    "\n",
    "If you want to create such a file, the easiest way is probably to start with an Excel spreadsheet and simply save it in .csv format!"
   ]
  },
  {
   "cell_type": "markdown",
   "metadata": {},
   "source": [
    "### Reading and Writing CSV Files in Pandas\n",
    "\n",
    "To manipulate such data tables in Python, the best library is Pandas, which you should import as follows:"
   ]
  },
  {
   "cell_type": "code",
   "execution_count": 8,
   "metadata": {
    "collapsed": true
   },
   "outputs": [],
   "source": [
    "import pandas as pd"
   ]
  },
  {
   "cell_type": "markdown",
   "metadata": {},
   "source": [
    "The function *read_csv* takes a filename (which must be a complete path to a text file in csv format, although it will manage fairly well with other kinds of text files, such as those where the fields are separated by tabs) and reads the data into a dataframe. In order to simplify your life, you should declare a variable with the pathname of your work directory, here is mine:"
   ]
  },
  {
   "cell_type": "code",
   "execution_count": 9,
   "metadata": {
    "collapsed": true
   },
   "outputs": [],
   "source": [
    "labDirectory = '/Users/Jiatonghao/Desktop/cs237/lab06/lab06/'"
   ]
  },
  {
   "cell_type": "markdown",
   "metadata": {},
   "source": [
    "Here is an example of reading the csv file students.csv into a Pandas dataframe, which I call *stud*; if you ask for the value of the dataframe to be printed out, it will add sequential index numbers to each row:"
   ]
  },
  {
   "cell_type": "code",
   "execution_count": 10,
   "metadata": {
    "scrolled": true
   },
   "outputs": [
    {
     "name": "stdout",
     "output_type": "stream",
     "text": [
      "     Userid Gender ClassYear   GPA  Credits  Transfer  AP\n",
      "0   sanders      M        U2  4.00       33       0.0  12\n",
      "1   clinton      F        U4  3.63       45      71.1   8\n",
      "2    carson      M        U4  3.38      113       0.0  12\n",
      "3   fiorina      F        U2  2.21       28       0.0   0\n",
      "4  christie      F        U2  3.81       33       0.0   4\n",
      "5      cruz      M        U3  3.04       56      28.0   0\n",
      "6  huckabee      M        U4  3.20       80      44.0  24\n",
      "7     trump      M        U4  2.58       66      30.0   0\n",
      "8      bush      M        U3  2.84       64       0.0   0\n",
      "9     rubio      M        U4  3.92      106       3.0  24\n"
     ]
    }
   ],
   "source": [
    "stud = pd.read_csv(labDirectory + 'students.csv')\n",
    "print(stud)"
   ]
  },
  {
   "cell_type": "markdown",
   "metadata": {},
   "source": [
    "Although we won't need to do this right now, for reference, you can also write out a dataframe to a csv file; the default is to write out the index numbers on each row--in general you want to avoid this. The following command will create an identical file to the one read in, without the pesky index numbers:"
   ]
  },
  {
   "cell_type": "code",
   "execution_count": 11,
   "metadata": {
    "collapsed": true
   },
   "outputs": [],
   "source": [
    "stud.to_csv('temp.csv', encoding='utf-8', index=False)"
   ]
  },
  {
   "cell_type": "markdown",
   "metadata": {},
   "source": [
    "### TODO \n",
    "\n",
    "Download the file *students.csv*, put it in your work directory, import the pandas library, and (your choice, but a good idea), create a name for your work directory as shown above. Try out the code just shown and open up the file temp.csv which you wrote out to verify that this all works as expected."
   ]
  },
  {
   "cell_type": "markdown",
   "metadata": {},
   "source": [
    "### Selecting Rows and Columns from the Dataframe using Slices\n",
    "\n",
    "Pandas gives you a truly bewildering variety of ways to manipulate dataframes, but first we will only need to think about the basics: selecting rows and columns from the table. This amounts to either selecting rows from the table, or selecting columns from the table (or both).\n",
    "\n",
    "The basic ideas here are that we think of the dataframe as a two-dimensional list, where the rows are indexed by numbers and the columns are indexed by column headers, so that\n",
    "\n",
    "*rows are selecting by using array slices, e.g., [0:3]*\n",
    "\n",
    "and\n",
    "\n",
    "*columns are selecting by using a list of column headers, e.g., [ ['Userid','GPA'] ]*\n",
    "\n",
    "The double brackets are not a typo! The outer brackets enclose the parameter, which is a list of header names. If there is only a single header name, then you can use a single set of brackets."
   ]
  },
  {
   "cell_type": "markdown",
   "metadata": {},
   "source": [
    "### TODO\n",
    "\n",
    "For the following, first try to predict what will happen, and then try it to confirm your understanding:\n",
    "\n",
    "- stud[0:3]\n",
    "- stud[5:]\n",
    "- stud[:]\n",
    "- stud[1:7:2]\n",
    "- stud[::-1]"
   ]
  },
  {
   "cell_type": "code",
   "execution_count": 12,
   "metadata": {
    "scrolled": true
   },
   "outputs": [
    {
     "name": "stdout",
     "output_type": "stream",
     "text": [
      "    Userid Gender ClassYear   GPA  Credits  Transfer  AP\n",
      "0  sanders      M        U2  4.00       33       0.0  12\n",
      "1  clinton      F        U4  3.63       45      71.1   8\n",
      "2   carson      M        U4  3.38      113       0.0  12\n"
     ]
    }
   ],
   "source": [
    "print(stud[0:3])"
   ]
  },
  {
   "cell_type": "code",
   "execution_count": 13,
   "metadata": {
    "collapsed": true,
    "scrolled": false
   },
   "outputs": [],
   "source": [
    "# Try it!"
   ]
  },
  {
   "cell_type": "markdown",
   "metadata": {},
   "source": [
    "So the point here is that selecting rows is really the same as slicing a list."
   ]
  },
  {
   "cell_type": "markdown",
   "metadata": {},
   "source": [
    "### TODO\n",
    "\n",
    "For the following, first try to predict what will happen, and then try it to confirm your understanding:\n",
    "- stud[ ['Userid', 'GPA'] ]\n",
    "- stud[ ['GPA', 'Gender'] ]\n",
    "- stud[ ['Credits'] ]\n",
    "- stud['Credits']\n",
    "- stud[ ['GPA', 'Userid', 'GPA'] ]"
   ]
  },
  {
   "cell_type": "code",
   "execution_count": 14,
   "metadata": {
    "collapsed": true
   },
   "outputs": [],
   "source": [
    "# Try it to comfirm"
   ]
  },
  {
   "cell_type": "markdown",
   "metadata": {},
   "source": [
    "So, selecting columns is done by giving a list of column headers; just remember the double brackets when you have more than one header.\n",
    "\n",
    "You can also combine these two, to get a slice of rows and a selection of columns."
   ]
  },
  {
   "cell_type": "markdown",
   "metadata": {},
   "source": [
    "### TODO\n",
    "\n",
    "For the following, first try to predict what will happen, and then try it to confirm your understanding:\n",
    "- stud[0:3][['GPA','Userid']]\n",
    "- stud[::-1][['AP','Gender','Credits']]\n",
    "- stud['GPA'][2:7]\n",
    "- stud[2:7][['GPA']]\n"
   ]
  },
  {
   "cell_type": "code",
   "execution_count": 15,
   "metadata": {
    "collapsed": true
   },
   "outputs": [],
   "source": [
    "# Try it to confirm"
   ]
  },
  {
   "cell_type": "markdown",
   "metadata": {
    "collapsed": true
   },
   "source": [
    "Note carefully the last two examples: it does not matter what order you put the selectors in.\n",
    "\n",
    "Finally, you would expect that you could do a slice on column names; try this:\n",
    "\n",
    "- stud[ ['GPA' : 'AP'] ] # error!\n",
    "\n",
    "Nope! In order to do this, you need to use the loc function, and give it two slices separated by a comma."
   ]
  },
  {
   "cell_type": "markdown",
   "metadata": {},
   "source": [
    "### TODO\n",
    "\n",
    "For the following, first try to predict what will happen, and then try it to confirm your understanding:\n",
    "\n",
    "- stud.loc[ 0:3 , 'GPA':'AP' ]\n",
    "- stud.loc[:, 'Userid':'GPA']\n",
    "- stud.loc[2:8, 'GPA':'Userid']\n",
    "- stud.loc[:5, 'ClassYear': ]\n",
    "- stud.loc[2:7, 'Userid':'Transfer':2]\n",
    "- stud.loc[::-1, ::-1]\n"
   ]
  },
  {
   "cell_type": "code",
   "execution_count": 16,
   "metadata": {
    "collapsed": true
   },
   "outputs": [],
   "source": [
    "# Try it to confirm"
   ]
  },
  {
   "cell_type": "markdown",
   "metadata": {},
   "source": [
    "### Selecting Rows and Columns from the Dataframe using Boolean Expressions\n",
    "\n",
    "Pandas gives you lots of ways of selecting data, and a particularly useful way of selecting rows is to specify a boolean expression that the row values must satisfy. For example, to select only those rows representing men, we could do this:"
   ]
  },
  {
   "cell_type": "code",
   "execution_count": 17,
   "metadata": {
    "scrolled": true
   },
   "outputs": [
    {
     "name": "stdout",
     "output_type": "stream",
     "text": [
      "     Userid Gender ClassYear   GPA  Credits  Transfer  AP\n",
      "0   sanders      M        U2  4.00       33       0.0  12\n",
      "2    carson      M        U4  3.38      113       0.0  12\n",
      "5      cruz      M        U3  3.04       56      28.0   0\n",
      "6  huckabee      M        U4  3.20       80      44.0  24\n",
      "7     trump      M        U4  2.58       66      30.0   0\n",
      "8      bush      M        U3  2.84       64       0.0   0\n",
      "9     rubio      M        U4  3.92      106       3.0  24\n"
     ]
    }
   ],
   "source": [
    "men = stud[stud['Gender'] == 'M']\n",
    "print(men)"
   ]
  },
  {
   "cell_type": "markdown",
   "metadata": {},
   "source": [
    "and here we select the rows where the Credits are less than the Transfer:"
   ]
  },
  {
   "cell_type": "code",
   "execution_count": 18,
   "metadata": {
    "scrolled": true
   },
   "outputs": [
    {
     "name": "stdout",
     "output_type": "stream",
     "text": [
      "    Userid Gender ClassYear   GPA  Credits  Transfer  AP\n",
      "1  clinton      F        U4  3.63       45      71.1   8\n"
     ]
    }
   ],
   "source": [
    "lessCredits = stud[stud['Credits'] < stud['Transfer']]\n",
    "print(lessCredits)"
   ]
  },
  {
   "cell_type": "markdown",
   "metadata": {},
   "source": [
    "### TODO\n",
    "\n",
    "For the following, first try to predict what will happen, and then try it to confirm your understanding:\n",
    "- stud[ stud['Userid'] >= 'cruz' ]\n",
    "- stud[ stud['AP'] == 0 ]\n",
    "- stud[ stud['GPA'] < 3.5 ]"
   ]
  },
  {
   "cell_type": "code",
   "execution_count": 19,
   "metadata": {
    "collapsed": true
   },
   "outputs": [],
   "source": [
    "# Try it!"
   ]
  },
  {
   "cell_type": "markdown",
   "metadata": {},
   "source": [
    "To do compound boolean expressions when selecting rows, you have to enclose the expressions in parentheses and use the \"bitwise\" boolean operations ~, &, | (instead of the normal Python not, and, or); here is an example:"
   ]
  },
  {
   "cell_type": "code",
   "execution_count": 20,
   "metadata": {
    "scrolled": false
   },
   "outputs": [
    {
     "name": "stdout",
     "output_type": "stream",
     "text": [
      "     Userid Gender ClassYear   GPA  Credits  Transfer  AP\n",
      "2    carson      M        U4  3.38      113       0.0  12\n",
      "5      cruz      M        U3  3.04       56      28.0   0\n",
      "6  huckabee      M        U4  3.20       80      44.0  24\n",
      "7     trump      M        U4  2.58       66      30.0   0\n",
      "8      bush      M        U3  2.84       64       0.0   0\n"
     ]
    }
   ],
   "source": [
    "menGPA = stud[(stud['Gender'] == 'M')&(stud['GPA'] < 3.5 )]\n",
    "print(menGPA)"
   ]
  },
  {
   "cell_type": "markdown",
   "metadata": {},
   "source": [
    "### Printing out a Table from a Python Program\n",
    "\n",
    "If you are using the console interatively, of course the results of the expressions you type in are automatically displayed. How do you do this in a Python program? Easy:"
   ]
  },
  {
   "cell_type": "code",
   "execution_count": 21,
   "metadata": {
    "scrolled": true
   },
   "outputs": [
    {
     "name": "stdout",
     "output_type": "stream",
     "text": [
      "     Userid Gender ClassYear   GPA  Credits  Transfer  AP\n",
      "2    carson      M        U4  3.38      113       0.0  12\n",
      "3   fiorina      F        U2  2.21       28       0.0   0\n",
      "5      cruz      M        U3  3.04       56      28.0   0\n",
      "6  huckabee      M        U4  3.20       80      44.0  24\n",
      "7     trump      M        U4  2.58       66      30.0   0\n",
      "8      bush      M        U3  2.84       64       0.0   0\n"
     ]
    }
   ],
   "source": [
    "print(str( stud[ stud['GPA'] < 3.5 ] ) )"
   ]
  },
  {
   "cell_type": "markdown",
   "metadata": {},
   "source": [
    "### Saving your work to a file\n",
    "\n",
    "Note that each of these expressions we have explored returns a new dataframe, so that if you wanted to create a new data set derived from an existing set, you could assign an expression to a variable and write it out, e.g.,"
   ]
  },
  {
   "cell_type": "code",
   "execution_count": 22,
   "metadata": {
    "collapsed": true
   },
   "outputs": [],
   "source": [
    "studrev = stud.loc[::-1, ::-1]\n",
    "studrev.to_csv(labDirectory + \"studentrev.csv\", index=False)"
   ]
  },
  {
   "cell_type": "markdown",
   "metadata": {},
   "source": [
    "or just combine without bothering with the variable:"
   ]
  },
  {
   "cell_type": "code",
   "execution_count": 23,
   "metadata": {
    "collapsed": true
   },
   "outputs": [],
   "source": [
    "stud.loc[::-1, ::-1].to_csv(labDirectory + \"studentrev.csv\", index=False)"
   ]
  },
  {
   "cell_type": "markdown",
   "metadata": {},
   "source": [
    "Both of these would put the file studentrev.csv into my work directory, which I could then import into Excel"
   ]
  },
  {
   "cell_type": "markdown",
   "metadata": {},
   "source": [
    "### Functions on DataFrames\n",
    "\n",
    "Having read in a dataframe, or created a new one using one of the expressions just shown, we can use a variety of functions to explore and organize the data. Most of these are very intuitive, so we will mostly try a bunch of examples, you can easily explore these in the link Basic Fuctionality: http://pandas.pydata.org/pandas-docs/stable/basics.html"
   ]
  },
  {
   "cell_type": "markdown",
   "metadata": {},
   "source": [
    "### TODO\n",
    "\n",
    "For the following, which sort the dataframe, first try to predict what will happen, and then try it to confirm your understanding:\n",
    "\n",
    "- stud.sort_values('Userid')\n",
    "- stud.sort_values('Userid', ascending=False)\n",
    "- stud.sort_values( ['Gender', 'Userid'] )\n",
    "- stud.sort_values( ['Gender', 'Userid'], ascending=[False,True] )"
   ]
  },
  {
   "cell_type": "code",
   "execution_count": 24,
   "metadata": {
    "scrolled": false
   },
   "outputs": [
    {
     "name": "stdout",
     "output_type": "stream",
     "text": [
      "     Userid Gender ClassYear   GPA  Credits  Transfer  AP\n",
      "8      bush      M        U3  2.84       64       0.0   0\n",
      "2    carson      M        U4  3.38      113       0.0  12\n",
      "4  christie      F        U2  3.81       33       0.0   4\n",
      "1   clinton      F        U4  3.63       45      71.1   8\n",
      "5      cruz      M        U3  3.04       56      28.0   0\n",
      "3   fiorina      F        U2  2.21       28       0.0   0\n",
      "6  huckabee      M        U4  3.20       80      44.0  24\n",
      "9     rubio      M        U4  3.92      106       3.0  24\n",
      "0   sanders      M        U2  4.00       33       0.0  12\n",
      "7     trump      M        U4  2.58       66      30.0   0\n"
     ]
    }
   ],
   "source": [
    "print(stud.sort_values('Userid'))"
   ]
  },
  {
   "cell_type": "code",
   "execution_count": 25,
   "metadata": {
    "collapsed": true
   },
   "outputs": [],
   "source": [
    "# Try it!"
   ]
  },
  {
   "cell_type": "markdown",
   "metadata": {},
   "source": [
    "There are also many statistical functions which operate mostly on individual columns:"
   ]
  },
  {
   "cell_type": "markdown",
   "metadata": {},
   "source": [
    "### TODO\n",
    "\n",
    "Let us assume that we have created a new dataframe\n",
    "\n",
    "*st = stud['GPA']*\n",
    "\n",
    "First try to predict what will happen, and then try it to confirm your understanding.\n",
    "\n",
    "- st.max()\n",
    "- st.min()\n",
    "- st.median()\n",
    "- stud['Gender'].mode() # the mode is the most frequent value in the list\n",
    "- stud['Credits'].sum()\n",
    "- st.count() * 2 + st.max() # weird, just to show that values can be used any way you want!\n",
    "- stud[ ['GPA','Credits']].max() # ok, another weird one, it returns the max in each column!"
   ]
  },
  {
   "cell_type": "code",
   "execution_count": 26,
   "metadata": {},
   "outputs": [
    {
     "name": "stdout",
     "output_type": "stream",
     "text": [
      "4.0\n"
     ]
    }
   ],
   "source": [
    "st = stud['GPA']\n",
    "print(st.max())"
   ]
  },
  {
   "cell_type": "code",
   "execution_count": 27,
   "metadata": {
    "collapsed": true
   },
   "outputs": [],
   "source": [
    "# Try it!"
   ]
  },
  {
   "cell_type": "markdown",
   "metadata": {},
   "source": [
    "### Displaying Distributions from DataFrames\n",
    "\n",
    "A final function that we should look at is the hist(...) function, which will (as you might expect), produce a graphical display of the histogram for a column of values. It is precisely the same function that we studied in the last lab, except that it takes as its values the data in the column(s) of the dataframe. If you give it a whole dataframe, it will give you histograms of all the numeric columns:"
   ]
  },
  {
   "cell_type": "code",
   "execution_count": 28,
   "metadata": {
    "scrolled": true
   },
   "outputs": [
    {
     "data": {
      "image/png": "[encoded data removed]",
      "text/plain": [
       "<matplotlib.figure.Figure at 0x11113e240>"
      ]
     },
     "metadata": {},
     "output_type": "display_data"
    }
   ],
   "source": [
    "import matplotlib.pyplot as plt \n",
    "\n",
    "stud.hist()\n",
    "plt.show()"
   ]
  },
  {
   "cell_type": "markdown",
   "metadata": {},
   "source": [
    "It is usually more useful to consider a single column at a time:"
   ]
  },
  {
   "cell_type": "code",
   "execution_count": 29,
   "metadata": {},
   "outputs": [
    {
     "data": {
      "image/png": "[encoded data removed]",
      "text/plain": [
       "<matplotlib.figure.Figure at 0x11167b630>"
      ]
     },
     "metadata": {},
     "output_type": "display_data"
    }
   ],
   "source": [
    "stud['GPA'].hist()\n",
    "plt.show()"
   ]
  },
  {
   "cell_type": "markdown",
   "metadata": {},
   "source": [
    "## Problem One\n",
    "\n",
    "Download the following file of student data: studentdata.csv and write a function Prob01() which does the following:\n",
    "\n",
    "- Print out the mean GPA for men;\n",
    "- Print out the mean GPA for seniors (U4);\n",
    "- Print out the 10 individuals with the largest number of credits earned, sorted in descending order by GPA;\n",
    "- Display a histogram of the GPA of all individuals, with bins for each letter grade, i.e., 0.0, 1.0, 2.0, 2.33, 2.67, 3.0, 3.33, 3.67, and 4.0."
   ]
  },
  {
   "cell_type": "code",
   "execution_count": 30,
   "metadata": {
    "collapsed": true
   },
   "outputs": [],
   "source": [
    "# round4(x): round to 4 decimal places\n",
    "# use round4(x) to display the numerical outcomes: mean, max, min, etc.\n",
    "def round4(x):\n",
    "    return round(x+0.00000000001,4) \n",
    "\n",
    "# Your solution here\n",
    "# Make sure to run it before submitting it"
   ]
  },
  {
   "cell_type": "code",
   "execution_count": 31,
   "metadata": {},
   "outputs": [
    {
     "name": "stdout",
     "output_type": "stream",
     "text": [
      "\n",
      "Problem One\n",
      "\n",
      "(1) GPA of Men is 3.1148\n",
      "\n",
      "(2) GPA for Seniors is 3.196\n",
      "\n",
      "(3)\n",
      "     Gender ClassYear   GPA  CreditsEarned  TransferCredits  APCredits\n",
      "2929      F        U4  3.65          159.5              0.0        0.0\n",
      "1287      M        U4  3.63          155.0              0.0        0.0\n",
      "3499      M        U4  3.37          173.0              0.0        0.0\n",
      "333       F        U4  3.32          154.0              0.0        0.0\n",
      "396       M        U4  3.12          167.0              0.0        0.0\n",
      "1374      M        U4  3.10          152.0              0.0        0.0\n",
      "3876      F        U4  2.89          152.0              0.0        0.0\n",
      "4070      M        U4  2.87          152.0              0.0        0.0\n",
      "478       M        U4  2.64          162.0              0.0        0.0\n",
      "2733      F        U4  2.06          156.0              4.0        0.0\n",
      "\n",
      "(4)\n"
     ]
    },
    {
     "data": {
      "image/png": "[encoded data removed]",
      "text/plain": [
       "<matplotlib.figure.Figure at 0x1117dc2e8>"
      ]
     },
     "metadata": {},
     "output_type": "display_data"
    }
   ],
   "source": [
    "def Prob1():\n",
    "    print(\"\\nProblem One\")\n",
    "    \n",
    "    Students = pd.read_csv(labDirectory + 'studentdata.csv')\n",
    "    \n",
    "    print(\"\\n(1) GPA of Men is \" + str(round4(Students[Students['Gender'] == 'M']['GPA'].mean())))\n",
    "\n",
    "    print(\"\\n(2) GPA for Seniors is \" + str(round4(Students[Students['ClassYear'] == 'U4']['GPA'].mean())))\n",
    "\n",
    "    print(\"\\n(3)\")\n",
    "\n",
    "    A3 = (Students.sort_values('CreditsEarned',ascending=False)[0:10]).sort_values('GPA',ascending=False)\n",
    "\n",
    "    print(str(A3))\n",
    "\n",
    "    print(\"\\n(4)\")\n",
    "    \n",
    "    plt.title(\"GPA\")\n",
    "    Students['GPA'].hist(bins=[0.0, 1.0, 2.0, 2.33, 2.67, 3.0, 3.33, 3.67,4.0,4.5])\n",
    "    plt.show()\n",
    "    plt.close()\n",
    "    \n",
    "Prob1()"
   ]
  },
  {
   "cell_type": "markdown",
   "metadata": {},
   "source": [
    "## Problem Two\n",
    "\n",
    "Download the following file of heights and weights of 25,000 individuals: biometricdata.csv and write a function Prob02() which does the following:\n",
    "\n",
    "- Print out the maximum, minimum, mean, and (unbiased) standard deviation (all functions listed above) for the heights of all individuals;\n",
    "- Print out the mean height for all individuals weighing more than 130 pounds;\n",
    "- Print out how many individuals have a height >= 65 inches and <= 70 inches;\n",
    "- Display a histogram of the heights of all individuals from the minimum to the maximum, where each bin represents 1 inch.\n",
    "\n",
    "\n",
    "When doing your histograms, change the figure size so that they are large enough to see:\n",
    "\n",
    "import matplotlib.pyplot as plt             # assuming you called the library plt\n",
    "\n",
    ".....\n",
    "\n",
    "plt.figure(figsize=(10,5))                  #  this will change size of figure when you call hist(....)\n",
    "\n",
    "Students.hist(.....)\n",
    "\n",
    "Play around with the parameters 10 and 5 until you like the result.\n",
    "\n",
    "Also, I found that when I called hist(...) several times, Pandas would add the new histogram to the old one (in weird colors). To keep them separate, you need to show a histogram and then close it; after a class to hist(....), add these two lines:\n",
    "\n",
    "Students['GPA'].hist(.....)    \n",
    "plt.show()     \n",
    "plt.close()"
   ]
  },
  {
   "cell_type": "code",
   "execution_count": 35,
   "metadata": {
    "scrolled": false
   },
   "outputs": [
    {
     "name": "stdout",
     "output_type": "stream",
     "text": [
      "\n",
      "Problem 2\n",
      "(1) \n",
      "\tMax of Heights: 75.1528\n",
      "\tMin of Heights: 60.2784\n",
      "\tMean of Heights: 67.9931\n",
      "\tStd of Heights: 1.9017\n",
      "\n",
      "\n",
      "(2) \n",
      "\tMean height with weight > 130:     75.1528\n",
      "\n",
      "\n",
      "(3) \n",
      "\tHow many with 65 <= height <= 70:   19846\n",
      "\n",
      "\n",
      "(4) \n"
     ]
    },
    {
     "data": {
      "image/png": "[encoded data removed]",
      "text/plain": [
       "<matplotlib.figure.Figure at 0x111971668>"
      ]
     },
     "metadata": {},
     "output_type": "display_data"
    }
   ],
   "source": [
    "# Your solution\n",
    "\n",
    "Bio = pd.read_csv(labDirectory + 'biometricdata.csv')\n",
    "\n",
    "def Prob2():\n",
    "    \n",
    "    print(\"\\nProblem 2\\n(1) \")\n",
    "    \n",
    "    print(\"\\tMax of Heights: \" + str(round4(Bio['Height'].max())))\n",
    "    print(\"\\tMin of Heights: \" + str(round4(Bio['Height'].min())))\n",
    "    print(\"\\tMean of Heights: \" + str(round4(Bio['Height'].mean())))\n",
    "    print(\"\\tStd of Heights: \" + str(round4(Bio['Height'].std())))\n",
    "    \n",
    "    print(\"\\n\\n(2) \")    \n",
    "    print(\"\\tMean height with weight > 130:     \" + str((Bio[Bio['Weight'] > 130])['Height'].max()))\n",
    "    \n",
    "    print(\"\\n\\n(3) \")    \n",
    "    print(\"\\tHow many with 65 <= height <= 70:   \" + str(Bio['Height'][(Bio['Height'] >= 65) & (Bio['Height'] <= 70)].count()))\n",
    "\n",
    "    print(\"\\n\\n(4) \") \n",
    "    plt.title(\"Height\")\n",
    "    Bio['Height'].hist(bins=[x for x in range(60, 74)])\n",
    "\n",
    "    \n",
    "          \n",
    "Prob2()\n",
    "\n",
    "Bio['Height'].hist(bins=[x for x in range(int(Bio['Height'].min()), int(Bio['Height'].max() + 2))])\n",
    "\n",
    "plt.show()\n",
    "plt.close()"
   ]
  }
 ],
 "metadata": {
  "kernelspec": {
   "display_name": "Python 3",
   "language": "python",
   "name": "python3"
  },
  "language_info": {
   "codemirror_mode": {
    "name": "ipython",
    "version": 3
   },
   "file_extension": ".py",
   "mimetype": "text/x-python",
   "name": "python",
   "nbconvert_exporter": "python",
   "pygments_lexer": "ipython3",
   "version": "3.6.1"
  }
 },
 "nbformat": 4,
 "nbformat_minor": 2
}
