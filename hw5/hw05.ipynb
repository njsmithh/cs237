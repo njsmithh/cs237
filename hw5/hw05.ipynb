{
 "cells": [
  {
   "cell_type": "markdown",
   "metadata": {},
   "source": [
    "# CS 237 Summer 2018, Homework 05\n",
    "### Due date: Friday June 15th at midnight (10% off if up to 24 hours late) via Websubmit\n",
    "\n",
    " Hand in HW 05 and Lab 05 together by the due date and time; the submission time is the submission of the LAST file to be submitted. \n",
    "\n",
    "### General Instructions\n",
    "\n",
    "Please complete this notebook by filling in solutions where indicated. Be sure to \"Run All\" from the Cell menu before submitting. \n",
    "\n",
    "You may use ordinary ASCII text to write your solutions, or (preferably) Latex. A nice introduction to Latex in Jupyter notebooks may be found here: http://data-blog.udacity.com/posts/2016/10/latex-primer/"
   ]
  },
  {
   "cell_type": "markdown",
   "metadata": {},
   "source": [
    "# Problem One (Continuous Distributions)\n",
    "\n",
    "<p>Let X be a continuous random variable with a PDF of the form </p>\n",
    "<blockquote>\n",
    "  <pre>f_X(x)  =  x/4              if  1 &lt;= x &lt;= 3\n",
    "           0                otherwise\n",
    "  </pre>\n",
    "</blockquote>\n",
    "<p> graphed as follows:</p>\n",
    "<p><img src=\"http://www.cs.bu.edu/fac/snyder/cs237/Homeworks/Screen%20Shot%202016-06-22%20at%2012.55.20%20AM.png\" width=\"400\" height=\"200\" > </p>\n",
    "<blockquote>\n",
    "  <p>(a) Determine the formula  for the CDF F<sub>X</sub>(x) using geometrical techniques (i.e., not using integrals, but considering what happens to the area to the left of a point $k$ by considering the area of geometrical shapes)</p>\n",
    "  <p>(b) Determine the formula  for the CDF F<sub>X</sub>(x) using an integral. </p>\n",
    "  <p>(c) Sketch or plot the CDF F<sub>X</sub>(x)  </p>\n",
    "  <p>(d) Determine P(X &ge; 2) </p>\n",
    "  <p>(e) Determine E(X) </p>\n",
    "  <p>(f) Determine Var(X) </p>\n",
    "</blockquote>\n",
    "\n"
   ]
  },
  {
   "cell_type": "markdown",
   "metadata": {},
   "source": [
    "Your solution:\n",
    "\n",
    "A) \n",
    "B) "
   ]
  },
  {
   "cell_type": "markdown",
   "metadata": {},
   "source": [
    "# Problem Two (Poisson compared with Exponential)\n",
    "\n",
    "Suppose the emergency room at Mass General opens at 6am and has a mean arrival rate throughout the day of 6.9 patients per hour (that is<span> &lambda;</span> = 6.9). </p>\n",
    "<p>(a) What is the probability that 12 patients arrive between 6am and 7am?</p>\n",
    "<p>(b) What is the probability that no patient arrives before 7am?</p>\n",
    "<p>(c) What is the probability that<span> the first</span> patient arrives between 6am and 7am? </p>\n",
    "<p>(d) What is the probability that<span> the first</span> patient arrives between 6:15 and 6:45? </p>\n",
    "<p>[Hint: Use the Poisson for (a) and (b) and the Exponential for (c) and (d).  Question (d) implicitly uses the &quot;memory-less property,&quot; since you KNOW that no one has shown up by 6:15. Also, make sure you understand the difference between the mean arrival rate &lambda; and the mean interarrival interval &beta; = 1/&lambda;]</p>\n"
   ]
  },
  {
   "cell_type": "markdown",
   "metadata": {},
   "source": [
    "\n"
   ]
  },
  {
   "cell_type": "markdown",
   "metadata": {},
   "source": [
    "Solution:\n",
    "\n",
    "A) $P(A) = 0.0245$\n",
    "B) $P(B) = 0.0010$\n",
    "C) $P(C) = 0.9989$\n",
    "D) $P(D) = "
   ]
  },
  {
   "cell_type": "markdown",
   "metadata": {},
   "source": [
    "\n"
   ]
  },
  {
   "cell_type": "markdown",
   "metadata": {},
   "source": [
    "# Problem Three (Normal Distribution)\n",
    "\n",
    "Suppose that in a population of individuals, their height is  normally distributed with a mean of 68 inches and a standard deviation of 1.45 inches. (Use the Distributions Notebook posted online or the online calculator found here: <a href=\"http://stattrek.com/online-calculator/normal.aspx\">HTML</a>.)</p>\n",
    "\n",
    "<p> (a) \n",
    "  What is the probability that a randomly-selected individual has a height less than 66 inches?</p>\n",
    "\n",
    "\n",
    "<p>(b) What is the probability that a randomly-selected individual has a height more than 72 inches?</p>\n",
    "\n",
    "\n",
    "\n",
    "<p>(c) What is the probability that a randomly-selected individual has a height between 66.5 and 71inches?</p>\n",
    "\n",
    "\n",
    "\n",
    " "
   ]
  },
  {
   "cell_type": "markdown",
   "metadata": {},
   "source": [
    "Solution:\n",
    "\n",
    "A) $P(A) = 0.0839$ <br\\>\n",
    "B) $P(B) = 0.0029$ <br\\>\n",
    "C) $P(C) = 0.8303$ <br\\>"
   ]
  },
  {
   "cell_type": "markdown",
   "metadata": {},
   "source": [
    " # Problem Four (Standard Normal Distribution)\n",
    "    \n",
    "Using the same mean and standard deviation as in the previous problem, show how to answer the following questions by first converting to the standard normal distribution (with mean 0 and standard deviation 1), and then calculating the answer in terms of the standard normal (i.e., when you calculate the probabilities, you will be using N(0,1).)  Show all work. For (c) you will not need to convert, but simply use the standard normal directly. \n",
    " \n",
    "<p>(a) What is the probability that a randomly-selected individual has a height more than 69 inches?</p>\n",
    "\n",
    "<p>(b) What is the probability that a randomly-selected individual has a height between 63.2 and 70.7 inches?</p>\n",
    "\n",
    "<p>(c) What is the probability that someone is more than 2.7 standard deviations taller than the average height?</p>\n",
    "\n"
   ]
  },
  {
   "cell_type": "markdown",
   "metadata": {},
   "source": [
    "Solution:\n",
    "\n",
    "A): Conversion:<br\\>\n",
    "$ (69-68)/1.45 = 0.6897$ (Plug this Z-Score into a normal distribution calculator.)<br\\>\n",
    "$P(A) = 0.2452$ <br\\>\n",
    "\n",
    "B: Conversion:<br\\>\n",
    "$ (63.2-68)/1.45 = -3.3103$<br\\>\n",
    "$ (70.7-68)/1.45 = 1.8621$<br\\>\n",
    "$P(B) = P(X > -3.3103) - P(X > 18621) = 0.9682$ <br\\>\n",
    "\n",
    "C: $P(C) = 1 - \\frac{1}{1 \\sqrt{2 \\pi}}e^{\\frac{(2.7 - 0)^2}{2(1)^2}}= 0.0035$"
   ]
  },
  {
   "cell_type": "markdown",
   "metadata": {},
   "source": [
    "# Problem Five (Normal Distribution)\n",
    "\n",
    "Suppose the grades on the 237 midterm are normally distributed with mean 83 and variance of 33. Answer the following questions.  By the \"k<sup>th</sup> percentile\" we mean the x value for which P(X &le; x) = k/100 (meaning k is in percentages, and k/100 is in terms of probabilities.) \n",
    "\n",
    "<p>(a) If an A is 93 or above, what percentage of the class will get an A?</p>\n",
    "\n",
    "<p>(b) What is the exam score which represents the 90<sup>th</sup> percentile?</p>\n",
    "\n",
    "<p>(c) If a score between 70 and 80 results in a C, and there are 88 people in the class, approximately how many people will get a C? (Round to the nearest integer.) </p>\n"
   ]
  },
  {
   "cell_type": "markdown",
   "metadata": {},
   "source": [
    "Solution:\n",
    "\n",
    "A) $P(A) = 0.0409 = 4.1%$ <br\\>\n",
    "B) $P(B) = 75.65%$ <br\\>\n",
    "C) $P(C) = 0.2889%$ of students or about $25$ students."
   ]
  },
  {
   "cell_type": "markdown",
   "metadata": {},
   "source": [
    "# Problem Six (Normal Approximation to the Binomial)\n",
    "\n",
    "This problem concerns the normal approximation to the binomial. The &quot;continuity correction&quot; (sometimes called Yates's Continuity Correction) is the technique I showed in lecture for improving the accurate of the normal approximation. </p>\n",
    "<p>(a) Suppose of all the kids that show up on Halloween night, 58% are dressed in Starwars costumes. If 60 kids show up, what is the probability that <span>between 33 and 38</span> (inclusive) kids will be dressed in Starwars costumes? (Use the binomial.)</p>\n",
    "<p>(b) Repeat the previous question, but using the normal approximation to the binomial, without using the continuity correction.</p>\n",
    "<p>(c) Repeat the previous question, but now using the continuity correction.</p>\n",
    "\n"
   ]
  },
  {
   "cell_type": "markdown",
   "metadata": {},
   "source": []
  },
  {
   "cell_type": "markdown",
   "metadata": {},
   "source": [
    "# Problem Seven (Empirical Verification of the Normal)\n",
    "\n",
    "<p>For this problem we are going to use Pandas analyze a collection of real data on heights and weights of individuals. \n",
    "The file <a href=\"http://www.cs.bu.edu/fac/snyder/cs237/Homeworks/biometricdata.csv\">biometricdata.csv</a> has a header line and then comma separated values for the heights and weights:</p>\n",
    "\n",
    "<p>You can think of the Height and Weight columns in this data set  as random variables which equiprobably select one of the values in the list each time it is referenced; hence if we were to randomly select one individual from this data set, they could be considered discrete random variables H and W. </p>\n",
    "<p>(a) Find the mean and standard deviation of each of these random variables.\n",
    "</p>\n",
    "<p>(b) Under the assumption that H is normally distributed (now we pretend that H is a continuous RV), find the probability p, using the normal distribution with mean and standard deviation as in (a), that an individual is between 67 and 69 inches (inclusive). </p>\n",
    "<p>(c) What is the probability in the actual data set that an individual's height is between 67 and 69 inches (inclusive)? [Hint: calculate it explicitly from the data set.]</p>\n",
    "<p>(d) How does the &quot;68-95-99 rule&quot; work out in the height data? What percentage of individuals in the actual data set are within 1 standard deviation in terms of their height? How about 2 standard deviations? How about 3?</p>\n",
    "\n"
   ]
  },
  {
   "cell_type": "markdown",
   "metadata": {},
   "source": []
  },
  {
   "cell_type": "markdown",
   "metadata": {},
   "source": [
    "# Problem Eight (Central Limit Theorem)\n",
    "\n",
    "<p>Consider a population X consisting of the five numbers { 2, 3, 6, 8, 11 }, so that the random variable X uniformly selects a number from this population and returns it.</p>\n",
    "<p>(a) Find the mean and the standard deviation of this population.</p>\n",
    "<p>Now consider all 25 possible samples of size 2 that can be selected with replacements from this population, i.e.,</p>\n",
    "<p>(2, 2)       (2, 3)   ....    (2, 11)\n",
    "(3, 2)       (3, 2)   ....    (3, 11)</p>\n",
    "<pre><code> ....\n",
    "</code></pre><p>(11, 2)      (11, 3)  ....     (11, 11)\n",
    "Let us denote by XBar2 the random variable that selects one of these pairs (i.e., a random sample of size 2) and returns the mean of these two numbers; XBar2 has a distribution, mean, and standard deviation, the same as any random variable, and the CLT tells us something about these statistics.</p>\n",
    "<p>(b) Calculate the precise value of E(XBar2), i.e., the mean of the sample distribution of means for samples of size 2 from this population. (Note that this should demonstrate to you that this value is the same as the value found in part (a).)</p>\n",
    "<p>(c) What is the precise value of the standard deviation of XBar2, i.e., the standard deviation of the sample distribution of means for samples of size 2 from this population?</p>"
   ]
  },
  {
   "cell_type": "markdown",
   "metadata": {},
   "source": [
    "# Problem Nine (Sampling Theory)\n",
    "\n",
    "<p>Suppose the heights of 3400 male students at a university are normally distributed with mean 68 inches and standard deviation 3 inches.</p>\n",
    "<p>(a) Supposing samples of size 25 are taken from this population (with replacement). What would be the expected mean and standard deviation of the resulting sample distribution of means?</p>\n",
    "<p>(b) Supposing we wanted to get more accuracy in our sampling procedure, so that we wanted the standard deviation of the sample distribution of means to be at most 0.25 inches. What is the smallest sample size we could use to insure this?</p>\n",
    "<p>(c) Supposing you take 80 samples of size 25, in how many samples would you expect to find the mean between 66.8 and 68.3 inches?</p>"
   ]
  },
  {
   "cell_type": "markdown",
   "metadata": {},
   "source": []
  },
  {
   "cell_type": "markdown",
   "metadata": {},
   "source": [
    "# Problem Ten (Sampling Theory)\n",
    "\n",
    "<p>This problem considers three different ways of answering a question about samples from an infinite population. Suppose you flip a fair coin 120 times. What is the probability that 5/8's or more of the flips will be heads?</p>\n",
    "<p>(a) First solve this problem precisely using the binomial, explaining your procedure.</p>\n",
    "<p>(b) Next, solve the problem by using the normal approximation to the binomial (using the continuity correction), explaining your procedure.</p>\n",
    "<p>(c) Finally, solve it as a problem in sampling: consider the population to be normally distributed, and note that this is a question about proportions (so use the mean and standard deviation derived from the Bernoulli) and the sample size is 120. The sample distribution of means now gives us an estimate of the proportion of the population which is heads (which we know to be 0.5), the expected standard deviation, and we want to know the probability that the proportion (i.e., the mean) of the sample is 5/8's or more. Show all work.</p>\n"
   ]
  },
  {
   "cell_type": "markdown",
   "metadata": {},
   "source": []
  }
 ],
 "metadata": {
  "kernelspec": {
   "display_name": "Python 3",
   "language": "python",
   "name": "python3"
  },
  "language_info": {
   "codemirror_mode": {
    "name": "ipython",
    "version": 3
   },
   "file_extension": ".py",
   "mimetype": "text/x-python",
   "name": "python",
   "nbconvert_exporter": "python",
   "pygments_lexer": "ipython3",
   "version": "3.6.4"
  }
 },
 "nbformat": 4,
 "nbformat_minor": 2
}
