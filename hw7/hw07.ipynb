{
 "cells": [
  {
   "cell_type": "markdown",
   "metadata": {},
   "source": [
    "# CS 237 Summer 2018, Homework 07\n",
    "### Due date: Friday, June 22nd at midnight (10% off if up to 24 hours late) via Websubmit\n",
    "\n",
    " Hand in HW 07 and Lab 07 together by the due date and time; the submission time is the submission of the LAST file to be submitted. \n",
    "\n",
    "### General Instructions\n",
    "\n",
    "Please complete this notebook by filling in solutions where indicated. Be sure to \"Run All\" from the Cell menu before submitting. \n",
    "\n",
    "You may use ordinary ASCII text to write your solutions, or (preferably) Latex. A nice introduction to Latex in Jupyter notebooks may be found here: http://data-blog.udacity.com/posts/2016/10/latex-primer/"
   ]
  },
  {
   "cell_type": "code",
   "execution_count": 1,
   "metadata": {},
   "outputs": [
    {
     "data": {
      "text/plain": [
       "array([ 65.75082795,  69.92728193,  51.49385198, -42.64789414,\n",
       "        28.74388752,  87.40121022,   3.1563672 ,  93.82366284,\n",
       "        34.75062868,  74.96841794])"
      ]
     },
     "execution_count": 1,
     "metadata": {},
     "output_type": "execute_result"
    }
   ],
   "source": [
    "# Jupyter notebook specific \n",
    "from IPython.display import Image\n",
    "from IPython.core.display import HTML \n",
    "from IPython.display import display_html\n",
    "from IPython.display import display\n",
    "from IPython.display import Math\n",
    "from IPython.display import Latex\n",
    "from IPython.display import HTML \n",
    "\n",
    "# General useful imports\n",
    "import numpy as np\n",
    "from numpy import arange,linspace, mean, var, std\n",
    "import matplotlib.pyplot as plt  \n",
    "from numpy.random import random, randint,uniform, choice,  binomial, geometric, poisson \n",
    "import math\n",
    "from collections import Counter\n",
    "import pandas as pd\n",
    "%matplotlib inline\n",
    "\n",
    "\n",
    "# Number of K-permutations from N objects\n",
    "def P(N,K):\n",
    "    count = 1\n",
    "    for i in range(N,N-K,-1):\n",
    "        count *= i\n",
    "    return count\n",
    "\n",
    "# N choose K, calculated efficiently using dynamic programming\n",
    "def C(N,K):\n",
    "    if(K > N):\n",
    "        return 0\n",
    "    if(K < N/2):\n",
    "        K = N - K\n",
    "    X = [1]*(K+1)\n",
    "    for row in range(1,N-K+1):\n",
    "        X[row] *= 2\n",
    "        for col in range(row+1,K+1):\n",
    "            X[col] = X[col]+X[col-1]\n",
    "    return X[K]\n",
    "\n",
    "def round4(x):\n",
    "    return round(float(x)+0.00000000001,4)\n",
    "\n",
    "def roundList(S):\n",
    "    return [round4(s) for s in S]\n",
    "\n",
    "\n",
    "# Numpy basic stats functions\n",
    "\n",
    "# https://docs.scipy.org/doc/numpy-1.13.0/reference/routines.statistics.html\n",
    "\n",
    "\n",
    "X = [1,2,3]\n",
    "\n",
    "# mean of a list\n",
    "mean(X)\n",
    "\n",
    "# population variance\n",
    "var(X)\n",
    "\n",
    "# sample variance\n",
    "var(X,ddof=1)\n",
    "\n",
    "# population standard deviation\n",
    "std(X)\n",
    "\n",
    "# sample standard deviation\n",
    "std(X,ddof=1)\n",
    "\n",
    "\n",
    "# Scipy statistical functions\n",
    "\n",
    "from scipy.stats import norm \n",
    "\n",
    "# https://docs.scipy.org/doc/scipy/reference/stats.html\n",
    "\n",
    "# NOTE:  These functions use \"loc\" for the mean and \"scale\" for the standard deviation\n",
    "\n",
    "#a. Find P(X<50)  for normal distribution with mean 60 and std dev 10\n",
    "norm.cdf(x=50,loc=60,scale=10) \n",
    "\n",
    "#b. Find P(X>50)\n",
    "norm.sf(x=50,loc=60,scale=10) \n",
    "\n",
    "#c. Find P(60<X<80)\n",
    "norm.cdf(x=80,loc=60,scale=40) - norm.cdf(x=60,loc=60,scale=40)\n",
    "\n",
    "#d. how much top most 5% expensive house cost at least? or find x where P(X>x) = 0.05\n",
    "norm.isf(q=0.05,loc=60,scale=40)\n",
    "\n",
    "#e. how much top most 5% cheapest house cost at least? or find x where P(X<x) = 0.05\n",
    "norm.ppf(q=0.05,loc=60,scale=40)\n",
    "\n",
    "#f give the endpoints of the range for the central alpha percent of the distribution\n",
    "norm.interval(alpha=0.3, loc=60, scale=140)\n",
    "\n",
    "#g. generate random variates\n",
    "norm.rvs(loc=60, scale=40, size=10)\n"
   ]
  },
  {
   "cell_type": "markdown",
   "metadata": {},
   "source": [
    "# Problem One (Joint Random Variables)\n",
    "\n",
    "Suppose we flip a coin and roll a single die. Define the following RVs based on this trial:\n",
    "\n",
    "X = # heads in the toss of the coin.\n",
    "\n",
    "Y = # dots showing on the die\n",
    "\n",
    "Z = total number of dots and heads showing (sum of previous two).\n",
    "\n",
    "(a) Calculate the Joint Probability Distribution (showing the matrix of the joint probabilities), the Covariance, and the Correlation Coefficient for the JRV (X,Y).\n",
    "\n",
    "(b) Calculate the Joint Probability Distribution, the Covariance, and the Correlation Coefficient for the JRV (X,Z).\n",
    "\n",
    "(c) Calculate the Joint Probability Distribution, the Covariance, and the Correlation Coefficient for the JRV (Y,Z).\n",
    "\n",
    "You may use Python or the Excel spreadsheet posted on the class web site. \n"
   ]
  },
  {
   "cell_type": "markdown",
   "metadata": {},
   "source": [
    "Solution\n",
    "\n",
    "X = {0, 1}\n",
    "<br\\> Y = {1, 2, 3, 4, 5, 6}\n",
    "<br\\> Z = {1, 2, 3, 4, 5, 6, 7}\n",
    "\n",
    "A) \n",
    " |1 2 3 4 5 6\n",
    " ............\n",
    "0|\n",
    "1|"
   ]
  },
  {
   "cell_type": "markdown",
   "metadata": {},
   "source": [
    "# Problem Two (Covariance)\n",
    "\n",
    "<p> In this problem we show that Cov(X,Y) = 0 does not necessarily imply that X and Y are \n",
    "independent (we did this in class with a different example). Consider the following joint distribution of X and Y, and explain carefully \n",
    "what this example shows about this question. Calculate Cov(X,Y). Are they independent? \n",
    "What is the exact relationship between X and Y, if any (e.g., is one a function of the \n",
    "                                                        other)?</p>\n",
    "![a](http://www.cs.bu.edu/fac/snyder/cs237/Homeworks/hw12.p1.png)\n"
   ]
  },
  {
   "cell_type": "markdown",
   "metadata": {},
   "source": [
    "# Problem Three (Correlation)\n",
    "\n",
    "Suppose X and Y are random variables such that Y = a*X + b, where a and b are \n",
    "constant and a != 0; thus Y is a linear function of X. What is \n",
    "the correlation &rho;(X,Y)?  You will have two cases: a &gt; 0 and a &lt; 0.  Prove your answer and show all work. </p>"
   ]
  },
  {
   "cell_type": "markdown",
   "metadata": {},
   "source": [
    "# Problem Four (Linear Models)\n",
    "\n",
    "Now we will graph some bivariate data which we will create by simulation. Suppose we have the following random experiment: <i> We wish to measure the height of all 720 CS majors, which we assume are normally distributed with mean 66 inches and standard deviation 2.5 inches.</i> It would be nice to assume that we can do the measurements precisely, but of course we will make mistakes in our measurements. Suppose we know that our guesses will have a random error which is normally distributed with mean 0 inches and standard deviation of 0.5 inches. \n",
    "\n"
   ]
  },
  {
   "cell_type": "markdown",
   "metadata": {},
   "source": [
    "## Part A\n",
    "  \n",
    "   - Generate a list X of 720 normally distributed random numbers as specified representing the *true* measurements (use norm.rvs(...))\n",
    "   - Generate a list E of 720 errors normally distributed as stated representing the errors when the 720 measurements are taken\n",
    "   - Add X and E pairwise to get Y, the measurements actually obtained.\n",
    "   - Graph X against X using a line plot to obtain the baseline; and\n",
    "   - Graph X against Y on the same graph using a scatterplot (these will appear in a different color). \n",
    "   - Give the $\\rho^2$ coefficient of determination. "
   ]
  },
  {
   "cell_type": "markdown",
   "metadata": {},
   "source": [
    "## Part B\n",
    "\n",
    "   - Graph the residuals as we did in lab\n",
    "   - Create a \"residual histogram\" by binning the values in E into equally-spaced bins of some appropriate \n",
    "width (play around with the number of bins to get the best result). These should follow approximately a binomial/normal distribution. "
   ]
  }
 ],
 "metadata": {
  "kernelspec": {
   "display_name": "Python 3",
   "language": "python",
   "name": "python3"
  },
  "language_info": {
   "codemirror_mode": {
    "name": "ipython",
    "version": 3
   },
   "file_extension": ".py",
   "mimetype": "text/x-python",
   "name": "python",
   "nbconvert_exporter": "python",
   "pygments_lexer": "ipython3",
   "version": "3.6.4"
  }
 },
 "nbformat": 4,
 "nbformat_minor": 2
}
