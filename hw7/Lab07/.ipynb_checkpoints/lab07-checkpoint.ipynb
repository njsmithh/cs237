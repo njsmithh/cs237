{
 "cells": [
  {
   "cell_type": "markdown",
   "metadata": {},
   "source": [
    "# Lab 07: Linear Regression: Building a Linear Model of a Data Set \n",
    "\n",
    "In this lab we will explore Linear Regression as a first look at what might broadly be called Machine Learning, the process of summarizing, finding patterns in, and generally extracting useful information from data.  \n",
    "\n",
    "The approach we will take is to build a model for a joint random variable (X,Y), attempting to discover a linear relationship \n",
    "\n",
    "$$Y = \\theta_1 X + \\theta_0$$\n",
    "\n",
    "using the techniques of linear regression from lecture. "
   ]
  },
  {
   "cell_type": "code",
   "execution_count": 1,
   "metadata": {},
   "outputs": [],
   "source": [
    "# Jupyter notebook specific \n",
    "from IPython.display import Image\n",
    "from IPython.core.display import HTML \n",
    "from IPython.display import display_html\n",
    "from IPython.display import display\n",
    "from IPython.display import Math\n",
    "from IPython.display import Latex\n",
    "from IPython.display import HTML \n",
    "\n",
    "# General useful imports\n",
    "import numpy as np\n",
    "from numpy import arange,linspace,mean, var, std\n",
    "import matplotlib.pyplot as plt \n",
    "import matplotlib.mlab as mlab\n",
    "from numpy.random import seed, random, randint, uniform, choice, binomial, geometric, poisson, exponential, normal \n",
    "import math\n",
    "from collections import Counter\n",
    "import pandas as pd\n",
    "%matplotlib inline\n",
    "\n",
    "\n",
    "# Numpy basic stats functions\n",
    "\n",
    "# https://docs.scipy.org/doc/numpy-1.13.0/reference/routines.statistics.html\n",
    "\n",
    "\n",
    "X = [1,2,3]\n",
    "\n",
    "# mean of a list\n",
    "mean(X)\n",
    "\n",
    "# population variance\n",
    "var(X)\n",
    "\n",
    "# sample variance\n",
    "var(X,ddof=1)\n",
    "\n",
    "# population standard deviation\n",
    "std(X)\n",
    "\n",
    "# sample standard deviation\n",
    "std(X,ddof=1)\n",
    "\n",
    "\n",
    "# Scipy statistical functions\n",
    "\n",
    "from scipy.stats import norm,expon \n",
    "\n",
    "# https://docs.scipy.org/doc/scipy/reference/stats.html\n",
    "\n",
    "# given random variable X (e.g., housing prices) normally distributed with  mu = 60, sigma = 40\n",
    "\n",
    "#a. Find P(X<50)\n",
    "norm.cdf(x=50,loc=60,scale=40) # 0.4012936743170763\n",
    "\n",
    "#b. Find P(X>50)\n",
    "norm.sf(x=50,loc=60,scale=40) # 0.5987063256829237\n",
    "\n",
    "#c. Find P(60<X<80)\n",
    "norm.cdf(x=80,loc=60,scale=40) - norm.cdf(x=60,loc=60,scale=40)\n",
    "\n",
    "# Same as previous but in one function: returns P(lo < X < hi)\n",
    "def rangeNormal(lo,hi,loc,scale):\n",
    "    return norm.cdf(x=hi,loc=loc,scale=scale) - norm.cdf(x=lo,loc=loc,scale=scale)\n",
    "\n",
    "#d. how much top most 5% expensive house cost at least? or find x where P(X>x) = 0.05\n",
    "norm.isf(q=0.05,loc=60,scale=40)\n",
    "\n",
    "#e. how much top most 5% cheapest house cost at least? or find x where P(X<x) = 0.05\n",
    "norm.ppf(q=0.05,loc=60,scale=40)\n",
    "\n",
    "#f give the endpoints of the range for the central alpha percent of the distribution\n",
    "norm.interval(alpha=0.3, loc=60, scale=140)\n",
    "\n",
    "# Utility functions\n",
    "\n",
    "# Round to 4 decimal places\n",
    "def round4(x):\n",
    "    return round(float(x)+0.00000000001,4)\n",
    "\n",
    "def round4List(X):\n",
    "    return [round(float(x)+0.00000000001,4) for x in X]"
   ]
  },
  {
   "cell_type": "markdown",
   "metadata": {},
   "source": [
    "# Problem 0: Comparing a Linear Model with Experimental Data\n",
    "\n",
    "Linear Regression is the process of constructing a model for a bivariate random variable (X,Y) which shows a linear relationship between X (the independent variable) and Y (the dependent variable). It is assumed that the values taken on by Y are mostly explained by a linear relationship between X and Y with some variation explained as errors (random deviations from the linear model). \n",
    "\n",
    "We will start our investigation by considering a model which is true by definition, and consider how\n",
    "experimental data may depart from that data. This is the opposite of what is normally done in studying\n",
    "regressions of data, but it is useful to set the framework of linear regression. \n",
    "\n",
    "<b> Therefore, suppose we have two thermometers which measure the daily temperature, one in Farenheit and one in Celsius.</b> We take 10 measurements on 10 different days, obtaining the following pairs of values (X is the Farenheit measurements and Y is the Celsius), which for convenience we have sorted along the X axis:\n",
    "\n",
    "<pre>\n",
    "[(45.2, 7.8752), (47.1, 8.117), (47.5, 9.2009), (49.6, 9.3167), (49.8, 9.7564), (52.0, 11.4075), (54.3, 12.9236), (58.6, 15.0762), (61.2, 15.983), (63.2, 17.4678), (64.1, 18.4362)]\n",
    "</pre>\n"
   ]
  },
  {
   "cell_type": "markdown",
   "metadata": {},
   "source": [
    "## Step 1: Displaying a scatter plot of the data\n",
    "\n",
    "To display a scatter plot of the data, we separate it into X-values and Y-values in two different lists\n",
    "and give it to the appropriate pyplot function, as shown below. "
   ]
  },
  {
   "cell_type": "code",
   "execution_count": 2,
   "metadata": {},
   "outputs": [
    {
     "name": "stdout",
     "output_type": "stream",
     "text": [
      "\n"
     ]
    },
    {
     "data": {
      "image/png": "[encoded data removed]",
      "text/plain": [
       "<matplotlib.figure.Figure at 0x19148e0c50>"
      ]
     },
     "metadata": {},
     "output_type": "display_data"
    },
    {
     "name": "stdout",
     "output_type": "stream",
     "text": [
      "\n"
     ]
    }
   ],
   "source": [
    "X0 = [45.2, 47.1, 47.5, 49.6, 49.8, 52.0, 54.3, 58.6, 61.2, 63.2, 64.1] \n",
    "Y0 = [7.8752, 8.117, 9.2009, 9.3167, 9.7564, 11.4075, 12.9236, 15.0762, 15.983, 17.4678, 18.4362]\n",
    "\n",
    "plt.figure(figsize=(12,8))\n",
    "plt.title(\"Farenheit vs Celsius Measurements\")\n",
    "plt.xlabel(\"X = Farenheit\")\n",
    "plt.ylabel(\"Y = Celsius\")\n",
    "plt.scatter(X0,Y0)\n",
    "print()\n",
    "plt.show()\n",
    "print()"
   ]
  },
  {
   "cell_type": "markdown",
   "metadata": {},
   "source": [
    "## Step 2: Displaying the Model\n",
    "\n",
    "Now we know that by the definition of Farenheit and Celsius there is a perfect linear relationship between these two, expressed by the formula for a line: \n",
    "\n",
    "$$y =  \\theta_1 x + \\theta_0$$\n",
    "\n",
    "with $\\theta_1 = 0.5556$ and $\\theta_0 = -17.7778.$ This is simply the linear relationship between these two definitions.  We can think of this as an idealized <i>model</i> of the data. It is also a prediction of what y value should result from a given x value. In the real world, actual measurements by actual thermometers will not be absolutely accurate, of course. \n",
    "\n",
    "To display this model along with the data, we can simply plot values on the line using the formula. "
   ]
  },
  {
   "cell_type": "code",
   "execution_count": 3,
   "metadata": {},
   "outputs": [
    {
     "data": {
      "image/png": "[encoded data removed]",
      "text/plain": [
       "<matplotlib.figure.Figure at 0x1a1a469b70>"
      ]
     },
     "metadata": {},
     "output_type": "display_data"
    },
    {
     "name": "stdout",
     "output_type": "stream",
     "text": [
      "\n"
     ]
    }
   ],
   "source": [
    "\n",
    "def prediction(x):\n",
    "    return 0.5556*x - 17.7778\n",
    "\n",
    "plt.figure(figsize=(12,8))\n",
    "plt.title(\"Farenheit vs Celsius Measurements\")\n",
    "plt.xlabel(\"X = Farenheit\")\n",
    "plt.ylabel(\"Y = Celsius\")\n",
    "\n",
    "# draw the data\n",
    "plt.scatter(X0,Y0)\n",
    "\n",
    "# now draw the model\n",
    "\n",
    "# C values predicted by linear model\n",
    "Ypredicted = [prediction(x) for x in X0]\n",
    "\n",
    "# plot them on the same graph\n",
    "plt.plot(X0,Ypredicted,color='red')\n",
    "plt.show()\n",
    "print()\n"
   ]
  },
  {
   "cell_type": "markdown",
   "metadata": {},
   "source": [
    "## Step 3: Displaying the Residual Errors\n",
    "\n",
    "When actual measurements depart from the prediction, since this is the definition of Farenheit and Celsius temperatures, we can regard the departures as errors (due to defects of manufacture or human error). In this\n",
    "framework of linear regression, these are called <i>residuals</i>. \n",
    "\n",
    "To calculate the errors (positive and negative) and display them, we can simply subtract the predicted value from the actual value and then display it with a zero line showing where the prediction says the value should be:"
   ]
  },
  {
   "cell_type": "code",
   "execution_count": 4,
   "metadata": {},
   "outputs": [
    {
     "name": "stdout",
     "output_type": "stream",
     "text": [
      "\n"
     ]
    },
    {
     "data": {
      "image/png": "[encoded data removed]",
      "text/plain": [
       "<matplotlib.figure.Figure at 0x1a1db02f60>"
      ]
     },
     "metadata": {},
     "output_type": "display_data"
    },
    {
     "name": "stdout",
     "output_type": "stream",
     "text": [
      "\n"
     ]
    }
   ],
   "source": [
    "E = [(Y0[k] - prediction(X0[k])) for k in range(len(X0))]\n",
    "\n",
    "plt.figure(figsize=(12,8))\n",
    "plt.title(\"Plot of Residuals\")\n",
    "plt.xlabel(\"X = Farenheit\")\n",
    "plt.ylabel(\"Yerror = Error in Celsius\")\n",
    "\n",
    "# draw the errors\n",
    "plt.scatter(X0,E)\n",
    "\n",
    "# draw the model (errors of 0)\n",
    "Ymodel = [0] * len(X0)\n",
    "plt.plot(X0,Ymodel,color='red')\n",
    "print()\n",
    "plt.show()\n",
    "print()"
   ]
  },
  {
   "cell_type": "markdown",
   "metadata": {},
   "source": [
    "## Conclusions: How well does the model fit the data?\n",
    "\n",
    "In this case, the model seems to fit fairly well, but we can definitely see a positive bias to the errors,\n",
    "both in the number of positive errors and in their extent.  Perhaps this could lead to some\n",
    "changes to the design of one or the other of the devices!"
   ]
  },
  {
   "cell_type": "markdown",
   "metadata": {},
   "source": [
    "#  Problem 1: Inferring a Model from the Data\n",
    "\n",
    "<b> Now suppose we don't know this model and are trying to determine the model from the data!</b> \n",
    "\n",
    "Of course, even with a perfect model, the problem is that the data is \"noisy\" and contains errors (due to the thermometers and our ability to read them).  But we can attempt to construct a model using linear regression, which will fit the data with the least sum of squared errors.  \n",
    "\n",
    "We can generate this model and investigate the errors as we did in the \"perfect\" model in Problem 0. \n",
    "\n",
    "Therefore we will assume we have a linear model of the relationship with unknown parameters; when we have quantities we are estimating, we will indicate the actual (usually unknown) parameter by $\\theta$ (possibly subscripted) and the estimate by $\\hat\\theta.$\n",
    "\n",
    "So we are trying to find a model\n",
    "\n",
    "$$\\hat Y = \\hat\\theta_0 + \\hat\\theta_1 X$$\n",
    "\n",
    "which best fits the data, by determining $\\hat\\theta_0$ and $\\hat\\theta_1$. Every time you see a hat over a variable, you know that somewhere in calculating it, an estimate or prediction was made from data using the model. \n",
    "\n",
    "Once we estimate these parameters, we can then calculate the errors, or residuals, from this\n",
    "model:\n",
    "\n",
    "$$y_i = \\hat\\theta_0 + \\hat\\theta_1 x_i + e_i$$ \n",
    "\n",
    " Note carefully that we have $y_i$ on the left-hand side, not $\\hat y_i$; the $e_i$ is what differentiates them, since $y_i = \\hat y_i + e_i.$ \n",
    "\n",
    "The goal of Linear Regression, of course, is to determine the parameters $\\hat\\theta_1$ and $\\hat\\theta_0$ which minimize the sum of the squares of the errors, the Residual Sum of Squares (RSS):\n",
    "\n",
    "$$RSS  =  \\sum_{i=1}^n e_i^2.$$\n",
    "\n"
   ]
  },
  {
   "cell_type": "markdown",
   "metadata": {},
   "source": [
    "## Part A\n",
    "\n",
    "In this part you will write functions to calculate various useful parameters for linear regression for the \n",
    "data in Problem 0. \n",
    "\n",
    "For the mean values you may simply use the function mean from the numpy library; here is the\n",
    "notation we will use:\n",
    "\n",
    "The mean of X:\n",
    "- $\\bar{x} = \\frac{1}{n} \\sum_{i=1}^{n} x_i$\n",
    "\n",
    "The mean of Y:\n",
    "- $\\bar{y} = \\frac{1}{n}\\sum_{i=1}^n y_i$\n",
    "\n",
    "For these, you must write your own Python functions:\n",
    "\n",
    "The sum of the squares of the deviations of X from its mean value:\n",
    "- $SSx = \\sum_{i=1}^{n}(x_i -\\bar{x})^2$\n",
    "\n",
    "The sum of the squares of the deviations of Y from its mean value:\n",
    "- $SSy = \\sum_{i=1}^{n}(y_i -\\bar{y})^2$\n",
    "\n",
    "The sum of the products of the deviations of X and Y \n",
    "- $Sxy = \\sum_{i=1}^n (x_i - \\bar{x})(y_i - \\bar{y})$\n",
    "\n",
    "The correlation of X and Y:\n",
    "\n",
    "- $\\rho = \\frac{Sxy}{\\sqrt{SSx}\\sqrt{SSy}}$\n",
    "\n",
    "The slope of the linear regression line:\n",
    "- $\\hat\\theta_1 = \\frac{Sxy}{SSx}$\n",
    "\n",
    "The y-intercept of the linear regression line:\n",
    "- $\\hat\\theta_0 =  \\bar{y} - \\hat\\theta_1 \\bar{x}$\n",
    "\n",
    "The Residual Sum of Squares:\n",
    "- $RSS  =  \\sum_{i=1}^n e_i^2.$"
   ]
  },
  {
   "cell_type": "code",
   "execution_count": 27,
   "metadata": {},
   "outputs": [
    {
     "name": "stdout",
     "output_type": "stream",
     "text": [
      "[45.2, 47.1, 47.5, 49.6, 49.8, 52.0, 54.3, 58.6, 61.2, 63.2, 64.1]\n",
      "[7.8752, 8.117, 9.2009, 9.3167, 9.7564, 11.4075, 12.9236, 15.0762, 15.983, 17.4678, 18.4362]\n",
      "x_hat = 53.8727272727\n",
      "y_hat = 12.3236818182\n",
      "Sxy = 424.3851654545454\n",
      "SSx = 827.3781818181815\n",
      "SSy = 217.67889535363636\n",
      "rho = 1.0000000000000002\n",
      "theta1_hat = 0.512927672955975\n",
      "theta0_hat = -15.3091308176\n",
      "Linear Regression Line:  y = 0.5129*x + -15.3091\n"
     ]
    }
   ],
   "source": [
    "# Solution\n",
    "\n",
    "X1 = X0 \n",
    "Y1 = Y0\n",
    "\n",
    "print(X1)\n",
    "print(Y1)\n",
    "\n",
    "x_hat = mean(X1)\n",
    "y_hat = mean(Y1)\n",
    "\n",
    "def Sxy_f(X, Y):\n",
    "    Sxy_val = 0\n",
    "    x_hat = mean(X)\n",
    "    y_hat = mean(Y)\n",
    "    x_sums = [(X[0] - x_hat) for x in range(len(X))]\n",
    "    y_sums = [(Y[0] - y_hat) for y in range(len(Y))]\n",
    "    mult = [(x_sums[i] * y_sums[i]) for i in range(len(x_sums))]\n",
    "    for i in range(len(mult)):\n",
    "        Sxy_val += mult[i]\n",
    "    return float(Sxy_val)\n",
    "\n",
    "Sxy = Sxy_f(X1, Y1)\n",
    "\n",
    "def SS_f(X):\n",
    "    SSx = 0\n",
    "    x_hat = mean(X)\n",
    "    sums = [((X[0] - x_hat)**2) for x in range(len(X))]\n",
    "    for i in range(len(sums)):\n",
    "        SSx += sums[i]\n",
    "    return float(SSx)\n",
    "\n",
    "SSx = SS_f(X1)\n",
    "\n",
    "SSy = SS_f(Y1)\n",
    "\n",
    "def rho_f(X, Y):\n",
    "    return (Sxy_f(X, Y) / ((SS_f(X) ** 0.5) * (SS_f(Y1) ** 0.5)))\n",
    "\n",
    "rho = rho_f(X1, Y1)\n",
    "\n",
    "def theta_hat1_f(j, k):\n",
    "    return (Sxy_f(j, k) / SS_f(j))\n",
    "\n",
    "theta1_hat = theta_hat1_f(X1, Y1)\n",
    "\n",
    "def theta_hat0_f(X, Y):\n",
    "    return (mean(Y) - (theta_hat1_f(X, Y) * mean(X)))\n",
    "\n",
    "theta0_hat = theta_hat0_f(X1, Y1)\n",
    "\n",
    "def RSS_f(X, Y):\n",
    "    # __________________________________________CODE THIS LATER!!!!!\n",
    "\n",
    "RSS = 0    # your code here\n",
    "\n",
    "print(\"x_hat = \" + str(x_hat))\n",
    "print(\"y_hat = \" + str(y_hat))\n",
    "print(\"Sxy = \" + str(Sxy))\n",
    "print(\"SSx = \" + str(SSx))\n",
    "print(\"SSy = \" + str(SSy))\n",
    "print(\"rho = \" + str(rho))\n",
    "print(\"theta1_hat = \" + str(theta1_hat))\n",
    "print(\"theta0_hat = \" + str(theta0_hat))\n",
    "\n",
    "print(\"Linear Regression Line:  y = \" + str(round4(theta1_hat)) + \"*x + \" + str(round4(theta0_hat)))\n"
   ]
  },
  {
   "cell_type": "markdown",
   "metadata": {},
   "source": [
    "## Part B: Graphing the Predicted Linear Model and the Residuals\n",
    "\n",
    "Now give a scatter plot of the data along with a line plot of the predicted linear model\n",
    "using linear regression, as we did in Problem 0. \n",
    "\n",
    "You must also print out the rho and the RSS value underneath the figure."
   ]
  },
  {
   "cell_type": "code",
   "execution_count": null,
   "metadata": {},
   "outputs": [],
   "source": [
    "# Solution\n",
    "\n"
   ]
  },
  {
   "cell_type": "markdown",
   "metadata": {},
   "source": [
    "## Part C: Displaying the Residuals\n",
    "\n",
    "Graph the residuals, as in Problem 0. "
   ]
  },
  {
   "cell_type": "code",
   "execution_count": null,
   "metadata": {
    "scrolled": false
   },
   "outputs": [],
   "source": [
    "# Solution"
   ]
  },
  {
   "cell_type": "markdown",
   "metadata": {},
   "source": [
    "## Analysis of Model\n",
    "\n",
    "Your answer here.  "
   ]
  },
  {
   "cell_type": "markdown",
   "metadata": {
    "collapsed": true
   },
   "source": [
    "\n"
   ]
  },
  {
   "cell_type": "markdown",
   "metadata": {},
   "source": [
    "# Problem 2\n",
    "\n",
    "For this problem you will use BU data about the relationship between high school GPA and BU GPA for a collection\n",
    "of 95 students. \n",
    "\n",
    "Perform the same analysis as in the previous problems for this data, using the HS_GPA on the x axis and the BU_GPA data on the y axis. \n",
    "\n",
    "Be sure to print out the rho and RSS underneath the regression plot. \n",
    "\n",
    "Describe anything notable you see; is this a good model of the data?"
   ]
  },
  {
   "cell_type": "code",
   "execution_count": null,
   "metadata": {},
   "outputs": [],
   "source": [
    "# Solution\n",
    "\n",
    "studs = pd.read_csv(\"StudentData3.csv\")\n",
    "#print(studs)\n",
    "X2 = list(studs['HS_GPA'])\n",
    "Y2 = list(studs['BU_GPA'])\n",
    "\n"
   ]
  },
  {
   "cell_type": "code",
   "execution_count": null,
   "metadata": {},
   "outputs": [],
   "source": [
    "# Solution"
   ]
  },
  {
   "cell_type": "markdown",
   "metadata": {},
   "source": [
    "# Problem 3\n",
    "\n",
    "For this problem, you must use the data below comparing airfare (X3) vs. distance (Y3) for\n",
    "17 flights. \n",
    "\n",
    "Perform the same analysis for this data. \n",
    "\n",
    "Describe anything notable you see; is this a good model of the data?"
   ]
  },
  {
   "cell_type": "code",
   "execution_count": null,
   "metadata": {},
   "outputs": [],
   "source": [
    "X3 = [360,360,207,111,93,141,291,183,309,300,90,162,477,84,231,54,429]\n",
    "Y3 = [1463,1448,681,270,190,393,1102,578,1204,1138,184,502,1828,179,818,90,1813]\n",
    "\n"
   ]
  }
 ],
 "metadata": {
  "kernelspec": {
   "display_name": "Python 3",
   "language": "python",
   "name": "python3"
  },
  "language_info": {
   "codemirror_mode": {
    "name": "ipython",
    "version": 3
   },
   "file_extension": ".py",
   "mimetype": "text/x-python",
   "name": "python",
   "nbconvert_exporter": "python",
   "pygments_lexer": "ipython3",
   "version": "3.6.4"
  }
 },
 "nbformat": 4,
 "nbformat_minor": 2
}
