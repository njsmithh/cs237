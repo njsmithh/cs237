{
 "cells": [
  {
   "cell_type": "markdown",
   "metadata": {},
   "source": [
    "# CS 237 Summer 2018, Homework 03\n",
    "### Due date: Tuesday 6/5 at midnight in Websubmit \n",
    "\n",
    "See the link on the class web page for Websubmit instructions. There is a \"grace period\" of an hour or so after the deadline in case you have trouble submitting. \n",
    "\n",
    "\n",
    "### General Instructions\n",
    "\n",
    "This consists of a set of analytical problems. Please hand it in together with Lab03 (Poker Probability) by the due date and time. \n",
    "\n",
    "You may use ordinary ASCII text to write your solutions, or (preferably) Latex. A nice introduction to Latex in Jupyter notebooks may be found here: http://data-blog.udacity.com/posts/2016/10/latex-primer/.\n",
    "\n",
    "You might also want to bookmark the following page, which contains a comprehensive list of Latex math symbols: http://www.rpi.edu/dept/arc/training/latex/LaTeX_symbols.pdf"
   ]
  },
  {
   "cell_type": "markdown",
   "metadata": {},
   "source": [
    "### Problem 1"
   ]
  },
  {
   "cell_type": "markdown",
   "metadata": {},
   "source": [
    "(Inclusion/Exclusion, Change of Representation) The elevator of a four-floor building leaves the first floor with six passengers and stops at all of the remaining three floors. If it is equally likely that a passenger gets off at any of these three floors, what is the probability that, at each stop of the elevator, at least one passenger departs?\n",
    "\n",
    "Hint: This is a problem in which you need to exercise your creativity by considering a change of representation. Instead of focussing on the sequence of floors and who gets off on them, focus on the sequence of passengers and what floor they get off on, e.g., 111111 means all passengers got off at floor 1, and 133332 means passenger 1 got off at 1, passenger 6 got off at 2, and the rest at 3. Then use Inclusion/Exclusion."
   ]
  },
  {
   "cell_type": "markdown",
   "metadata": {
    "collapsed": true
   },
   "source": [
    "Solution:\n",
    "We are looking for any sequence containing exactly one of each of the follow digits:$123456$. Note that each digit in the sequence $\\subset \\{1, 2, 3, 4, 5, 6\\}$. therefore:\n",
    "$P(A) = \\frac{6!}{6^6} = 0.015$"
   ]
  },
  {
   "cell_type": "markdown",
   "metadata": {},
   "source": [
    "### Problem 2"
   ]
  },
  {
   "cell_type": "markdown",
   "metadata": {},
   "source": [
    "Suppose you have an urn containing 2 red and 2 black balls. We will consider the situation where we select two balls from the urn, first (a & b) with replacement, and then (c & d) without replacement.\n",
    "\n",
    "Suppose you select one ball, observe its color, and then replace it, and draw a second ball and observe its color. What are the probabilities that you selected\n",
    "\n",
    "(a) First a red ball and then a black ball, i.e., a sequence ( R, B )? <br\\>\n",
    "\n",
    "(b) Two balls of different colors, i.e., a set { R, B }? <br\\>\n",
    "\n",
    "Now suppose you select one ball, observe its color, do NOT replace it, and draw a second ball and observe its color. What are the probabilities that you selected\n",
    "\n",
    "(c) First a red ball and then a black ball, i.e., a sequence ( R, B )?\n",
    "\n",
    "(d) Two balls of different colors, i.e., a set { R, B }?\n",
    "\n",
    "Your answers will be four probabilities.\n",
    "\n",
    "Hint: Draw a tree diagram for each of A and B and consider what the events are. Part A will be equiprobable but Part B will not be. "
   ]
  },
  {
   "cell_type": "markdown",
   "metadata": {
    "collapsed": true
   },
   "source": [
    "Solution:\n",
    "\n",
    "$P(A) = \\frac{1}{2} * \\frac{1}{2} = 0.25$ <br\\>\n",
    "$P(B) = 1 * \\frac{1}{2} = 0.5$ <br\\>\n",
    "$P(C) = \\frac{1}{2} * \\frac{2}{3} = 0.33$ <br\\>\n",
    "$P(D) = 1 * \\frac{2}{3} = 0.33$ <br\\>"
   ]
  },
  {
   "cell_type": "markdown",
   "metadata": {},
   "source": [
    "### Problem 3"
   ]
  },
  {
   "cell_type": "markdown",
   "metadata": {},
   "source": [
    "(Permutations) We draw eight cards at random from an ordinary deck of 52 cards (as usual, without replacement). In this case, we will think of the 8 cards as a sequence.\n",
    "\n",
    "(a) If the first three are spades, what is the probability that the remaining five are also spades?\n",
    "\n",
    "(b) If the first three cards are spades, what is the probability that among the remaining 5 cards there will be no diamonds?\n",
    "\n",
    "Hint: These are conditional probabilities and the outcome is a sequence."
   ]
  },
  {
   "cell_type": "markdown",
   "metadata": {
    "collapsed": true
   },
   "source": [
    "Solution:\n",
    "\n",
    "a) There are 49 cards remaining, with 10 being spades. There are six unique arrangements of the first three cards. <br/>\n",
    "$P(A) = \\frac{P(10, 5)}{P(49, 5)} = 0.00013$ <br/>\n",
    "a) There are 49 cards remaining, with 10 being spades. There are thirteen diamonds. <br/>\n",
    "$P(B) = 1 - \\frac{P(36, 5)}{P(49, 5)} = 0.8023$ <br/>"
   ]
  },
  {
   "cell_type": "markdown",
   "metadata": {},
   "source": [
    "### Problem 4"
   ]
  },
  {
   "cell_type": "markdown",
   "metadata": {},
   "source": [
    "(Permutations and Combinations) Suppose two cards are drawn without replacement (the usual situation with cards) from an ordinary deck of 52 randomly shuffled cards. Find the probability that:\n",
    "\n",
    "(a) The first card is not a ten of clubs or an ace;\n",
    "\n",
    "(b) The first card is an ace, but the second is not;\n",
    "\n",
    "(c) The cards have the same denomination (i.e., both are Aces, both are 2's, both are 3's, etc.);\n",
    "\n",
    "(d) At least one card is a diamond;\n",
    "\n",
    "(e) Not more than 1 card is a picture card (jack, queen, king).\n",
    "\n",
    "Hint: You can use permtuations for all of these; for some combinations may work as well. As usual, look for opportunities to use the \"inverse method,\" i.e., to find $P(A)$, find $P(A^c)$ (if it is way easier to compute) and then of course $P(A)=1.0-P(A^c)$"
   ]
  },
  {
   "cell_type": "markdown",
   "metadata": {
    "collapsed": true
   },
   "source": [
    "Solution:\n",
    "\n",
    "a) P(NOT Club or Ace) = 1 - P(Club or Ace) = 1 - (P(Club) + P(Ace)) <br/>\n",
    "$P(A) = 1 - (\\frac{4}{52} + \\frac{4}{52}) = 0.8462$ <br/>\n",
    "b) P(First card is an ace, second is not) = $\\frac{4}{52} * \\frac{48}{51} = 0.0724$ <br\\>\n",
    "c) P(Same Demonination) $= 1 * \\frac{C(3, 1)}{C(51, 1)} = 0.0588$ <br\\>\n",
    "d) P(At least one diamond) $= 1 - \\frac{C(39, 2)}{C(52, 2)} = 0.4412$ <br\\>\n",
    "e) P(Not more than one picture card) = 1 - P(Two picture cards) = <br\\>\n",
    "$P(E) = 1 - \\frac{C(12, 2)}{C(52, 2)} = 0.9502$"
   ]
  },
  {
   "cell_type": "markdown",
   "metadata": {},
   "source": [
    "### Problem 5"
   ]
  },
  {
   "cell_type": "markdown",
   "metadata": {},
   "source": [
    "(Permutations and Combinations) Now suppose that you shuffle the deck thoroughly and deal a standard five-card hand without replacement. Give the probability that the hand:\n",
    "\n",
    "   (a) has only face cards (Jack, Queen, King);\n",
    "\n",
    "   (b) has only red cards and does not contain an Ace;\n",
    "\n",
    "   (c) is a Flush (all of one suit) containing only non-face cards;\n",
    "\n",
    "   (d) contains neither an even-numbered card (2,4,6,8,10) nor a Spade.\n",
    "\n",
    "   (e) contains at least one Ace and at least one Club."
   ]
  },
  {
   "cell_type": "markdown",
   "metadata": {
    "collapsed": true
   },
   "source": [
    "Solution:"
   ]
  },
  {
   "cell_type": "markdown",
   "metadata": {},
   "source": [
    "### Problem 6"
   ]
  },
  {
   "cell_type": "markdown",
   "metadata": {},
   "source": [
    "(Combinations, Subsets, and Partitions) Suppose you have a committee of 10 people.\n",
    "\n",
    "(a) How many ways are there to choose a group of 4 people from these 10?\n",
    "\n",
    "(b) How many ways are there to choose a group of 4 people from these 10 if two particular people (say, John and Dave) can not be in the group together?\n",
    "\n",
    "(c) How many ways are there to separate these 10 people into two groups, if no group can have less than 2 people?\n",
    "\n",
    "(d) How many ways are there to separate these 10 people into two groups of 6 and 4 each?\n",
    "\n",
    "(e) How many ways are there to separate these 10 people into two groups of 5 each?\n",
    "\n",
    "[Hint: For (c) -- (e), think about whether you are over-counting or not. ]"
   ]
  },
  {
   "cell_type": "markdown",
   "metadata": {
    "collapsed": true
   },
   "source": [
    "Solution:"
   ]
  }
 ],
 "metadata": {
  "kernelspec": {
   "display_name": "Python 3",
   "language": "python",
   "name": "python3"
  },
  "language_info": {
   "codemirror_mode": {
    "name": "ipython",
    "version": 3
   },
   "file_extension": ".py",
   "mimetype": "text/x-python",
   "name": "python",
   "nbconvert_exporter": "python",
   "pygments_lexer": "ipython3",
   "version": "3.6.4"
  }
 },
 "nbformat": 4,
 "nbformat_minor": 2
}
