{
 "cells": [
  {
   "cell_type": "markdown",
   "metadata": {},
   "source": [
    "# CS 237 Summer 2018, Homework 02\n",
    "### Due date: Friday June 1st at midnight (10% off if up to 24 hours late) via Websubmit\n",
    "\n",
    "### General Instructions\n",
    "\n",
    "Please complete this notebook by filling in solutions where indicated. Be sure to \"Run All\" from the Cell menu before submitting. \n",
    "\n",
    "You may use ordinary ASCII text to write your solutions, or (preferably) Latex. A nice introduction to Latex in Jupyter notebooks may be found here: http://data-blog.udacity.com/posts/2016/10/latex-primer/"
   ]
  },
  {
   "cell_type": "markdown",
   "metadata": {},
   "source": [
    "# Part A: Analytical Problems\n",
    "\n",
    "Please answer the questions in the space provided; you may use ASCII test or Latex, but be clear and neat. If diagrams are necessary, then you may use \"ASCII Art\" or you may provide a graphics file (e.g., jpg or png)\n",
    "and link it as shown in problem 10 below; just be sure to provide such files with your submission by\n",
    "uploading them to Websubmit with your notebook.  Or, you may provide a zip file. "
   ]
  },
  {
   "cell_type": "markdown",
   "metadata": {},
   "source": [
    "# Problem One\n",
    "\n",
    "(Tree Diagrams) Wayne and Lenka keep playing chess until one of them wins two games in a row or one of them wins three games (not necessarily in a row).\n",
    "\n",
    "(a) In what percentage of all possible cases does the game end because Wayne wins three games without winning two in a row?\n",
    "\n",
    "(b) Supposing Wayne and Lenka are equally skilled at chess, so that the probability of one of them winning a particular game is 0.5. What is the probability that the game ends because Wayne wins three games without winning two in a row?\n",
    "\n",
    "(Note that the answer to the two questions is not the same: (a) asks for the percentage of all outcomes, as if all outcomes are all equally likely; but in fact in (b) they are NOT equally likely, so you'll need to attach probabilities to the branches. Do the best you can to show this tree, it doesn't have to be pretty, just clear; and then give the answer to the questions.)"
   ]
  },
  {
   "cell_type": "markdown",
   "metadata": {},
   "source": [
    "Your solution:"
   ]
  },
  {
   "cell_type": "markdown",
   "metadata": {},
   "source": [
    "$P(A) = 20.0\\%$ <br\\>\n",
    "$P(B) = 12.5\\%$ <br\\>"
   ]
  },
  {
   "cell_type": "markdown",
   "metadata": {},
   "source": [
    "# Problem Two\n",
    "\n",
    "(Tree Diagrams) Lenka has \\$4. She plays a game with Wayne in which she bets \\$1 on the flip of a fair coin: if the coin lands heads, Wayne gives her \\$1 and if tails, she gives Wayne \\$1. She decides to play this game four times.\n",
    "\n",
    "(a) Draw a tree diagram showing all the possible outcomes after four games, showing the amount of money Lenka has after each game (no need to make this pretty, just make it clear).\n",
    "\n",
    "(b) What is the probability that Lenka breaks even (has \\$4 at the end of four games)?\n",
    "\n",
    "(c) What is the probability that Lenka wins money (has more than \\$4 at the end)?\n",
    "\n",
    "Your solution:"
   ]
  },
  {
   "cell_type": "markdown",
   "metadata": {},
   "source": [
    "A) See \"hw2pr2.png\" <br\\>\n",
    "B) $37.5\\%$ <br\\>\n",
    "C) $31.3\\%$ <br\\>"
   ]
  },
  {
   "cell_type": "markdown",
   "metadata": {},
   "source": [
    "### The next three problems have to do with the random experiment of rolling two fair dice and counting the number of dots that show on both.\n",
    "\n",
    "# Problem Three\n",
    "\n",
    "(Conditional Probability) What is the probability of a sum of 5 if\n",
    "\n",
    "(a) the second roll is not 3?\n",
    "\n",
    "(b) they land on different numbers?\n",
    "\n",
    "Your solution:"
   ]
  },
  {
   "cell_type": "markdown",
   "metadata": {},
   "source": [
    "$P(A) = 0. "
   ]
  },
  {
   "cell_type": "markdown",
   "metadata": {},
   "source": [
    "# Problem Four\n",
    "\n",
    "(Conditional Probability) Suppose that the total of the dots showing is found to be divisible by 5. What is the probability that both of them have shown 5 dots?\n",
    "\n",
    "Your solution: "
   ]
  },
  {
   "cell_type": "markdown",
   "metadata": {},
   "source": [
    "# Problem Four\n",
    "\n",
    "(Conditional Probability) Suppose that the total of the dots showing is found to be divisible by 5. What is the probability that both of them have shown 5 dots?\n",
    "\n",
    "Your solution: "
   ]
  },
  {
   "cell_type": "markdown",
   "metadata": {},
   "source": []
  },
  {
   "cell_type": "markdown",
   "metadata": {},
   "source": [
    "# Problem Five\n",
    "\n",
    "(Independence)\n",
    "\n",
    "(a) Let A = \"the sum of the dots showing on the two rolls is odd\" and B = \"both tosses were greater than 3.\" Are A and B independent? Be precise.\n",
    "\n",
    "(b) Let A = \"the two rolls showed the same number\" and B = \"the second toss was greater than 4.\" Are A and B independent? Be precise.\n",
    "\n",
    "Your solution:"
   ]
  },
  {
   "cell_type": "markdown",
   "metadata": {},
   "source": []
  },
  {
   "cell_type": "markdown",
   "metadata": {},
   "source": [
    "# Problem Six\n",
    "\n",
    "(Independence) We assumed in class that the relation of Independence is symmetric, that is, A and B are independent iff (if and only if) B and A are independent. Justify this assumption by proving that P(A|B) = P(A) iff P(B|A) = P(B).\n",
    "\n",
    "Your solution: "
   ]
  },
  {
   "cell_type": "markdown",
   "metadata": {},
   "source": [
    "$P(A|B) = \\frac{P(A \\cap B)}{B}$ <br/>\n",
    "$P(B|A) = \\frac{P(B \\cap A)}{A}$ <br/>"
   ]
  },
  {
   "cell_type": "markdown",
   "metadata": {},
   "source": [
    "# Problem Seven\n",
    "\n",
    "(Independence)\n",
    "\n",
    "(a) Prove that P(A) = P(AB) + P(AB'). (B' is the complement of B)\n",
    "\n",
    "(b) Prove that if A and B are independent, then so are A and B'.\n",
    "\n",
    "(c) Prove that if A and B are independent, then so are A' and B'.\n",
    "\n",
    "(Hint: for (a) use DeMorgan's Rule; use (a) to prove (b); (c) is a simply corollary of (b).)\n",
    "\n",
    "Your solution:"
   ]
  },
  {
   "cell_type": "markdown",
   "metadata": {},
   "source": []
  },
  {
   "cell_type": "markdown",
   "metadata": {},
   "source": [
    "# Problem Eight\n",
    "\n",
    "(Bayes Rule) A stack of cards consists of 6 red and 5 black cards. A second stack of cards consists of 9 red cards. A stack is selected at random (i.e., 0.5 probability for each) and a card is drawn and found to be red. What is the probability that it was drawn from the first stack?\n",
    "\n",
    "(a) Solve this using a tree diagram (draw as best you can). \n",
    "\n",
    "(b) Show how to solve this by explicitly using Bayes' Rule.\n",
    "\n",
    "Your solution:"
   ]
  },
  {
   "cell_type": "markdown",
   "metadata": {},
   "source": []
  },
  {
   "cell_type": "markdown",
   "metadata": {},
   "source": [
    "# Problem Nine\n",
    "\n",
    "(Bayes Rule) A faulty communication line for digital signals changes 1/4 of the 0's to 1's and 1/3 of the 1's to 0's. If 40% of a particular file being transmitted consists of 0's and 60% consists of 1's, what is the probability that when a 0 is received it was transmitted correctly (i.e., a 0 was transmitted)?\n",
    "\n",
    "(a) Solve this using a tree diagram\n",
    "\n",
    "(b) Show how to solve this by explicitly using Bayes' Rule.\n",
    "\n",
    "Your solution:"
   ]
  },
  {
   "cell_type": "markdown",
   "metadata": {},
   "source": []
  },
  {
   "cell_type": "markdown",
   "metadata": {},
   "source": [
    "# Problem Ten\n",
    "\n",
    "(Based on a true story, more or less....)\n",
    "\n",
    "Wayne falls asleep watching an old Clint Eastwood movie at 4am after preparing his lecture for CS 237, and has a nightmare that goes like this:\n",
    "\n",
    "He is lying on the sidewalk after robbing a bank, in pain and mulling over how to quantify the uncertainty of his survival, when Dirty Harry walks over. Dirty Harry pulls out his 44 Magnum and puts two bullets opposite each other in the six slots in the cylinder (e.g., if you number them 1 .. 6 clockwise, he puts them in 1 and 4), spins the cylinder randomly, and, saying \"The question is, are you feeling lucky, probabalistically speaking, computer science punk?\" points it at Wayne's head and pulls the trigger.... \"CLICK!\" goes the gun (no bullet) and Dirty Harry smiles... \"How about that .... Let's see if this gun is memory-less!\" Without spinning the cylinder again, he points the gun at Wayne's head and pulls the trigger again.\n",
    "\n",
    "(a) What is the probability that (at least in my dream) you will have to have another instructor finish out CS 237?\n",
    "\n",
    "(b) Now, suppose that when Dirty Harry put the bullets in the gun, he put them right next to each other (e.g., in slots 1 and 2). What is the probability in this case that you will have another instructor finish teaching CS 237?\n",
    "\n",
    "(c) Suppose Dirty Harry puts the bullets in two random positions in the cylinder and we don't have any idea where they are. Now what is the probability that I will not be able to finish teaching CS 237?\n",
    "\n",
    "Hint: This has nothing to do with the memory-less property (Dirty Harry never took CS 237) .... and we could solve it by just considering what the probability is for each of the patterns (no bullet, no bullet) and (no bullet, bullet) as we go around the circle of slots in the cylinder.\n",
    "\n",
    "Here is what the cylinder might look like in case (a) before Dirty Harry randomizes the positions by spinning it:\n",
    "\n",
    "![](hw2.p10.fig1.png)\n",
    "\n",
    "Here is what it might look like in case (b) before being randomized:\n",
    "\n",
    "![](hw2.p10.fig2.png)\n",
    "\n",
    "In case (c), of course, the bullets can be in any two slots.\n",
    "\n",
    "You may solve this using conditional probabilities, or by any other method you wish.\n",
    "\n",
    "Your solution:"
   ]
  },
  {
   "cell_type": "markdown",
   "metadata": {},
   "source": [
    "$P(A) = 0.5$ <br\\>\n",
    "$P(B) = 0.25$ <br\\>\n",
    "$P(C) = 0.417$ <br\\>"
   ]
  },
  {
   "cell_type": "markdown",
   "metadata": {},
   "source": [
    "# Part B: Simulation of Random Experiments Continued\n",
    "In this second lab we will continue with our theme of simulating random experiments to verify our theoretical analysis from lecture. We will focus on the Monty Hall problem that was covered in lecture this week. We will study a generalized version of the game in which there are N doors and the host opens K doors (in the original problem, N = 3 and K = 1, but the game works for more general situations). The goal is to determine empirically which is the better strategy: switch or stay?\n"
   ]
  },
  {
   "cell_type": "markdown",
   "metadata": {},
   "source": [
    "# Description of the Generalized Monty Hall Game\n",
    " The game is played as follows:\n",
    "- There are $N$ doors for $N\\ge3$.\n",
    "- Behind exactly one of the doors is a prize (e.g., a car).\n",
    "- The goal of the game is to select the door with the prize behind it. \n",
    "- Once you have made a selection, the host, who knows where the prize is, will open  $K$ doors, for $1\\le K\\le N-2$, that you did not select, and that do not contain the prize.  \n",
    "- You are then given the option to  pick a new door. The goal of this first section is to determine whether or not you should swap doors by using numpy to simulate this game. \n",
    "\n",
    "We will break this game up into a sequence of problems."
   ]
  },
  {
   "cell_type": "code",
   "execution_count": 1,
   "metadata": {},
   "outputs": [],
   "source": [
    "# CS 237: Lab 2\n",
    "#@Author: Kai Bernardini\n",
    "# Jupyter notebook specific \n",
    "from IPython.display import Image\n",
    "from IPython.core.display import HTML \n",
    "from IPython.display import display_html\n",
    "from IPython.display import display\n",
    "from IPython.display import Math\n",
    "from IPython.display import Latex\n",
    "from IPython.display import HTML\n",
    "\n",
    "# General useful imports\n",
    "import numpy as np\n",
    "from numpy import arange,linspace\n",
    "import matplotlib.pyplot as plt  \n",
    "from numpy.random import seed, randint, uniform, choice, shuffle\n",
    "from collections import Counter\n",
    "import pandas as pd\n",
    "%matplotlib inline"
   ]
  },
  {
   "cell_type": "markdown",
   "metadata": {},
   "source": [
    "# Problem 1\n",
    " - We will use the randint function from the numpy library to simulate selecting a door randomly and equiprobably (such a choice is usually phrased as \"uniformly at random\"). \n",
    " - You may assume that for $n\\in\\mathbb{N}, n\\geq 3$ doors, their numbers are $0,1,\\ldots, n-1$\n",
    " - Finish the stub for the code that initializes the game.\n",
    " - This function should return a pair <code>(doors,winning_door)</code> where\n",
    "- doors is a 1D array of length <code>number_of_doors</code>, where exactly one of the elements is a 1 (the winning door), and the rest are 0 (the losing doors)\n",
    "- winning_door is the index of the winning door\n",
    "    \n",
    "For example, if the array is [0,0,1], then the winning door is at index 2, while the losing doors are at 0,1, and the function would return ([0,0,1],2)\n",
    " \n"
   ]
  },
  {
   "cell_type": "code",
   "execution_count": 2,
   "metadata": {},
   "outputs": [
    {
     "name": "stdout",
     "output_type": "stream",
     "text": [
      "([1, 0, 0], 0)\n",
      "([0, 1, 0], 1)\n",
      "([1, 0, 0], 0)\n"
     ]
    }
   ],
   "source": [
    "def select_door(number_of_doors):\n",
    "    return randint(number_of_doors)\n",
    "\n",
    "def initialize_game(number_doors):\n",
    "    doors = [x for x in range(number_doors)]\n",
    "    winning_door = choice(doors, replace=False)\n",
    "    doors = [0 for x in doors]\n",
    "    doors[winning_door] = 1\n",
    "    return (doors,winning_door)\n",
    "\n",
    "# test\n",
    "print( initialize_game(3) )\n",
    "print( initialize_game(3) )\n",
    "print( initialize_game(3) )"
   ]
  },
  {
   "cell_type": "markdown",
   "metadata": {},
   "source": [
    "# Problem 2\n",
    "After the game is initialized (problem 1), the player will choose a door (this will be done in problem 4). Next, the host will open one or more doors, which we will simulate in this problem.  You must write a function <code>open_doors</code> which takes\n",
    "\n",
    " - doors: the list generated from <code>initialize_game</code>\n",
    " - ignore_doors: a list of doors (indices into the doors array) to exclude (i.e., the door selected by the player, and the winning door) and \n",
    " - num_doors_to_open\n",
    "\n",
    "You must randomly generate a list of doors (opened_doors) that the host opens; these must be chosen from doors that are NOT in the list ignore_doors. The function returns a pair <code>(opened_doors, remaining_doors)</code>, where\n",
    " - opened_doors is an array containing the indices of all doors opened. \n",
    " - remaining_doors is an array of possible doors that were not in fact opened. \n",
    " \n",
    "Basically, the game enters this function with doors separated into doors that can not be opened by the host, and doors that the host can possibly open; the game leaves this function with a partition into three subsets: doors which must be ignored, doors randomly opened by the host, and all others. This last group is the set of doors that the player could switch to.\n",
    "\n",
    "In the case that there are 3 doors, the function should be deterministic for a fixed array. "
   ]
  },
  {
   "cell_type": "code",
   "execution_count": 3,
   "metadata": {},
   "outputs": [
    {
     "name": "stdout",
     "output_type": "stream",
     "text": [
      "['1' 'suh']\n"
     ]
    }
   ],
   "source": [
    "# HINT: use the choice function from the reading!\n",
    "# Example: try changing size, which is another way of specifying the length of a 1D array\n",
    "\n",
    "print(choice([1,'suh','dude'], replace=False, size=2))"
   ]
  },
  {
   "cell_type": "code",
   "execution_count": 4,
   "metadata": {},
   "outputs": [
    {
     "name": "stdout",
     "output_type": "stream",
     "text": [
      "(['A', 'B'], [1, 'C', 'X'])\n",
      "([0, 0, 0], [0, 1])\n"
     ]
    }
   ],
   "source": [
    "def open_doors(lst, ign, n_doors):\n",
    "    i_opened_doors = list(choice([x for x in range(len(lst)) if (x not in ign)], replace=False, size=n_doors))\n",
    "    return([lst[x] for x in range(len(lst)) if x in i_opened_doors], [lst[x] for x in range(len(lst)) if x not in i_opened_doors])\n",
    "    \n",
    "print(open_doors(['A', 'B', 1, 'C', 'X'], [2, 4], 2))\n",
    "print(open_doors([0, 0, 1, 0, 0], [1, 2], 3))"
   ]
  },
  {
   "cell_type": "markdown",
   "metadata": {},
   "source": [
    "# Problem 3\n",
    "Now that the game has been initialized, and the host has opened a door, complete the code stub below.\n",
    "\n",
    "The function new_door_choice should take as input:\n",
    "    - swap_behavior: the strategy the player uses encoded as an integer:\n",
    "        - Always trade (0): the player will trade no matter what, and randomly select a remaining door. \n",
    "        - Never trade (1): the player will always keep their initial choice.\n",
    "        - Randomly trade (2): the player flips a fair coin:\n",
    "            - if heads, he trades his door;\n",
    "            - if tails, he keeps his current choice.\n",
    "    - current_door: the door currently selected by the player, and \n",
    "    - rem_doors: a list of the doors the player can choose from if he decides to trade. \n",
    " \n",
    "The function should return the index at which the newly selected door is located.\n"
   ]
  },
  {
   "cell_type": "code",
   "execution_count": 21,
   "metadata": {},
   "outputs": [
    {
     "name": "stdout",
     "output_type": "stream",
     "text": [
      "expected: 0\n",
      "0\n",
      "expected: 1\n",
      "[1]\n",
      "random expected\n",
      "0\n",
      "[1]\n",
      "0\n"
     ]
    }
   ],
   "source": [
    "def new_door_choice(swap_behavior, current_door, rem_doors):\n",
    "    indx = [x for x in range(len(rem_doors))]\n",
    "    if swap_behavior == 0:\n",
    "        return rem_doors[choice(indx)] \n",
    "    if swap_behavior == 1:\n",
    "        return current_door\n",
    "    if swap_behavior == 2:\n",
    "        flip = np.random.sample(1)\n",
    "        if (flip >= 0.5): #heads\n",
    "            return rem_doors[choice(indx)]\n",
    "        else: #tails\n",
    "            return current_door\n",
    "\n",
    "print(\"expected: 0\")\n",
    "print(new_door_choice(0, [1], [0, 0]))\n",
    "print(\"expected: 1\")\n",
    "print(new_door_choice(1, [1], [0, 0]))\n",
    "print(\"random expected\")\n",
    "print(new_door_choice(2, [1], [1, 0]))\n",
    "print(new_door_choice(2, [1], [1, 0]))\n",
    "print(new_door_choice(2, [1], [1, 0]))"
   ]
  },
  {
   "cell_type": "markdown",
   "metadata": {},
   "source": [
    "# Problem 4: Putting it all together\n",
    "- Implement the function below to simulate playing 1 round of the Monty Hall game. \n",
    "- It should first initialize the doors.\n",
    "- Then select the players choice\n",
    "- The host will then open one or more doors\n",
    "- Finally, the player either keeps his door or trades\n",
    "- The function should return a boolean value:\n",
    "    - True if the player won the prize\n",
    "    - False if he doesn't"
   ]
  },
  {
   "cell_type": "code",
   "execution_count": null,
   "metadata": {},
   "outputs": [],
   "source": [
    "def game(swap_behavior = 0, num_doors=3, num_doors_to_open=1):\n",
    "    \n",
    "\n",
    "# Hint: once implemented, uncomment this next line to test\n",
    "#Counter([game(swap_behavior=1) for i in range(1000)])"
   ]
  },
  {
   "cell_type": "markdown",
   "metadata": {},
   "source": [
    "# Problem 5 (A)\n",
    "- Simulate playing the game 10,000 times for each strategy with 3 doors, and 1 opened door. \n",
    "- Display a histogram to determine which strategy has the highest chance of winning (code provided for you below).  \n",
    "- To do this, build a function to determine the probability of winning for each of the three strategies.\n",
    "Note if you do not use numpy, this next step will take a long time."
   ]
  },
  {
   "cell_type": "code",
   "execution_count": null,
   "metadata": {},
   "outputs": [],
   "source": [
    "# return the probability of success using the given strategy\n",
    "def simulate_with_strategy( swap_behavior = 0,   num_doors=3, num_doors_to_open=1 ,N=10000):\n",
    "    pass    # replace this line with your solution\n",
    "\n",
    "# Don't touch the rest of this cell unless you know what you are doing\n",
    "strategy_map = {0: \"Always Trade\", 1: \"Never Trade\", 2: \"Randomly Trade\"}\n",
    "\n",
    "def evaluate_strategy(num_doors=3, num_doors_to_open=1 ,N=10000):\n",
    "    success = { }\n",
    "    for i in range(3):\n",
    "        success[ strategy_map[i]] = simulate_with_strategy(swap_behavior=i,\n",
    "                                           num_doors=num_doors, num_doors_to_open=num_doors_to_open, N=N)\n",
    "           \n",
    "    df = pd.DataFrame.from_dict( success, orient='index')\n",
    "    # results \n",
    "    df.plot.bar()\n",
    "    plt.title(\"Probability of Success with \" + str(num_doors)+ \" doors and \" + str(num_doors_to_open) + \" doors opened\" )\n",
    "    plt.xlabel(\"Strategy\")\n",
    "    plt.ylabel(\"Success\")\n",
    "    plt.show()"
   ]
  },
  {
   "cell_type": "code",
   "execution_count": null,
   "metadata": {},
   "outputs": [],
   "source": [
    "simulate_with_strategy(1) # Example"
   ]
  },
  {
   "cell_type": "markdown",
   "metadata": {
    "collapsed": true
   },
   "source": [
    "# Problem 5 (B)\n",
    "Use your solution to the previous problem to determine what happens as the number of doors is large (say 1000) and the number of doors opened is small (say 1)\n",
    "- Use N=1000\n",
    "\n",
    "Warning: This will take a minute or so to run!"
   ]
  },
  {
   "cell_type": "code",
   "execution_count": null,
   "metadata": {},
   "outputs": [],
   "source": []
  },
  {
   "cell_type": "markdown",
   "metadata": {},
   "source": [
    "# Problem 5 (C)\n",
    "As in the previous problem, use the evaluate_strategy function to determine what happens as the number of doors gets large (say 1000) and the number of doors opened is also large (say 998)\n",
    "- Use N=1000\n",
    "\n",
    "Warning: This will take a couple of minutes to run!"
   ]
  },
  {
   "cell_type": "code",
   "execution_count": null,
   "metadata": {},
   "outputs": [],
   "source": []
  }
 ],
 "metadata": {
  "kernelspec": {
   "display_name": "Python 3",
   "language": "python",
   "name": "python3"
  },
  "language_info": {
   "codemirror_mode": {
    "name": "ipython",
    "version": 3
   },
   "file_extension": ".py",
   "mimetype": "text/x-python",
   "name": "python",
   "nbconvert_exporter": "python",
   "pygments_lexer": "ipython3",
   "version": "3.6.4"
  }
 },
 "nbformat": 4,
 "nbformat_minor": 2
}
