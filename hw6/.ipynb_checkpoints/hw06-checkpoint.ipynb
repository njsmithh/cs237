{
 "cells": [
  {
   "cell_type": "markdown",
   "metadata": {},
   "source": [
    "# CS 237 Summer 2018, Homework 06\n",
    "### Due date: Monday, June 18th at midnight (10% off if up to 24 hours late) via Websubmit\n",
    "\n",
    " Hand in HW 05 and Lab 05 together by the due date and time; the submission time is the submission of the LAST file to be submitted. \n",
    "\n",
    "### General Instructions\n",
    "\n",
    "Please complete this notebook by filling in solutions where indicated. Be sure to \"Run All\" from the Cell menu before submitting. \n",
    "\n",
    "You may use ordinary ASCII text to write your solutions, or (preferably) Latex. A nice introduction to Latex in Jupyter notebooks may be found here: http://data-blog.udacity.com/posts/2016/10/latex-primer/"
   ]
  },
  {
   "cell_type": "code",
   "execution_count": 1,
   "metadata": {},
   "outputs": [
    {
     "name": "stdout",
     "output_type": "stream",
     "text": [
      "\n"
     ]
    }
   ],
   "source": [
    "# Jupyter notebook specific \n",
    "from IPython.display import Image\n",
    "from IPython.core.display import HTML \n",
    "from IPython.display import display_html\n",
    "from IPython.display import display\n",
    "from IPython.display import Math\n",
    "from IPython.display import Latex\n",
    "from IPython.display import HTML \n",
    "\n",
    "# General useful imports\n",
    "import numpy as np\n",
    "from numpy import arange,linspace, mean, var, std\n",
    "import matplotlib.pyplot as plt  \n",
    "from numpy.random import random, randint,uniform, choice,  binomial, geometric, poisson \n",
    "import math\n",
    "from collections import Counter\n",
    "import pandas as pd\n",
    "%matplotlib inline\n",
    "\n",
    "\n",
    "# Number of K-permutations from N objects\n",
    "def P(N,K):\n",
    "    count = 1\n",
    "    for i in range(N,N-K,-1):\n",
    "        count *= i\n",
    "    return count\n",
    "\n",
    "# N choose K, calculated efficiently using dynamic programming\n",
    "def C(N,K):\n",
    "    if(K > N):\n",
    "        return 0\n",
    "    if(K < N/2):\n",
    "        K = N - K\n",
    "    X = [1]*(K+1)\n",
    "    for row in range(1,N-K+1):\n",
    "        X[row] *= 2\n",
    "        for col in range(row+1,K+1):\n",
    "            X[col] = X[col]+X[col-1]\n",
    "    return X[K]\n",
    "\n",
    "def round4(x):\n",
    "    return round(float(x)+0.00000000001,4)\n",
    "\n",
    "def roundList(S):\n",
    "    return [round4(s) for s in S]\n",
    "\n",
    "\n",
    "# Numpy basic stats functions\n",
    "\n",
    "# https://docs.scipy.org/doc/numpy-1.13.0/reference/routines.statistics.html\n",
    "\n",
    "\n",
    "X = [1,2,3]\n",
    "\n",
    "# mean of a list\n",
    "mean(X)\n",
    "\n",
    "# population variance\n",
    "var(X)\n",
    "\n",
    "# sample variance\n",
    "var(X,ddof=1)\n",
    "\n",
    "# population standard deviation\n",
    "std(X)\n",
    "\n",
    "# sample standard deviation\n",
    "std(X,ddof=1)\n",
    "\n",
    "\n",
    "# Scipy statistical functions\n",
    "\n",
    "from scipy.stats import norm \n",
    "\n",
    "# https://docs.scipy.org/doc/scipy/reference/stats.html\n",
    "\n",
    "# NOTE:  These functions use \"loc\" for the mean and \"scale\" for the standard deviation\n",
    "\n",
    "#a. Find P(X<50)  for normal distribution with mean 60 and std dev 10\n",
    "norm.cdf(x=50,loc=60,scale=10) \n",
    "\n",
    "#b. Find P(X>50)\n",
    "norm.sf(x=50,loc=60,scale=10) \n",
    "\n",
    "#c. Find P(60<X<80)\n",
    "norm.cdf(x=80,loc=60,scale=40) - norm.cdf(x=60,loc=60,scale=40)\n",
    "\n",
    "#d. how much top most 5% expensive house cost at least? or find x where P(X>x) = 0.05\n",
    "norm.isf(q=0.05,loc=60,scale=40)\n",
    "\n",
    "#e. how much top most 5% cheapest house cost at least? or find x where P(X<x) = 0.05\n",
    "norm.ppf(q=0.05,loc=60,scale=40)\n",
    "\n",
    "#f give the endpoints of the range for the central alpha percent of the distribution\n",
    "norm.interval(alpha=0.3, loc=60, scale=140)\n",
    "\n",
    "#g. generate random variates\n",
    "norm.rvs(loc=60, scale=40, size=10)\n",
    "\n",
    "print()"
   ]
  },
  {
   "cell_type": "markdown",
   "metadata": {},
   "source": [
    "### NOTE : For the following problems, I want you to use the functions above from the numpy.norm library and provide your solution by printing out all answers. Round all results to four decimal places. Problem 0 is an example."
   ]
  },
  {
   "cell_type": "markdown",
   "metadata": {},
   "source": [
    "# Problem Zero (Normal Distribution)\n",
    " \n",
    "Suppose the grades on the 237 midterm are normally distributed with mean 83 and variance of 33.\n",
    "\n",
    "(a) If an A is 93 or above, what is the probability that a randomly-selected student will get an A?"
   ]
  },
  {
   "cell_type": "code",
   "execution_count": 2,
   "metadata": {},
   "outputs": [
    {
     "name": "stdout",
     "output_type": "stream",
     "text": [
      "Solution (a)\n",
      "\n",
      "The probability is 0.0409\n"
     ]
    }
   ],
   "source": [
    "print(\"Solution (a)\")\n",
    "print()\n",
    "\n",
    "AProb = 1.0 - norm.cdf(x=93, loc=83, scale=33**0.5)\n",
    "\n",
    "print(\"The probability is \" + str(round4(AProb)))"
   ]
  },
  {
   "cell_type": "markdown",
   "metadata": {},
   "source": [
    "# Problem One \n",
    "\n",
    "Suppose an experiment is conducted where 100 students at BU are measured and their average height is found to be 67.45 inches, and the sample standard deviation is found to be 2.93 inches. We may assume that heights are normally distributed.\n",
    "\n",
    "(a) Suppose that you want to report the 95.14% confidence interval (i.e., exactly 2 standard deviations). Give the results of this experiment, given that you know the population standard deviation.\n",
    "\n",
    "(b) Repeat (a) but for the 99.97 (exactlly 3 standard deviations) confidence interval.\n",
    "\n",
    "(c) Now suppose you want to report the precisely 95% confidence interval (which will be slightly less than 2 standard deviations -- what is the exact figure?) Repeat (a) using this figure.\n",
    "\n",
    "(d) Repeat (c) but for the precisely 99% confidence interval.\n"
   ]
  },
  {
   "cell_type": "code",
   "execution_count": 3,
   "metadata": {},
   "outputs": [
    {
     "name": "stdout",
     "output_type": "stream",
     "text": [
      "-- Solution (a) --\n",
      "With a confidence interval of 95.14%:\n",
      "Lower Limit: 66.8722, Upper Limit: 68.0278\n",
      "\n",
      "-- Solution (b) --\n",
      "With a confidence interval of 99.97%:\n",
      "Lower Limit: 66.3907, Upper Limit: 68.5093\n",
      "\n",
      "-- Solution (c) --\n",
      "With a confidence interval of 95.00%:\n",
      "Lower Limit: 66.8757, Upper Limit: 68.0243\n",
      "\n",
      "-- Solution (d) --\n",
      "With a confidence interval of 99.00%:\n",
      "Lower Limit: 66.6953, Upper Limit: 68.2047\n"
     ]
    }
   ],
   "source": [
    "print(\"-- Solution (a) --\")\n",
    "val = (2.93 / (100.00**0.5))\n",
    "prob1 = norm.interval(alpha=0.9514,loc=67.45,scale=val)\n",
    "print(\"With a confidence interval of 95.14%:\")\n",
    "print(\"Lower Limit: \" + str(round4(prob1[0])) + \", Upper Limit: \" + str(round4(prob1[1])))\n",
    "print()\n",
    "print(\"-- Solution (b) --\")\n",
    "prob2 = norm.interval(alpha=0.9997,loc=67.45,scale=val)\n",
    "print(\"With a confidence interval of 99.97%:\")\n",
    "print(\"Lower Limit: \" + str(round4(prob2[0])) + \", Upper Limit: \" + str(round4(prob2[1])))\n",
    "print()\n",
    "print(\"-- Solution (c) --\")\n",
    "prob3 = norm.interval(alpha=0.9500,loc=67.45,scale=val)\n",
    "print(\"With a confidence interval of 95.00%:\")\n",
    "print(\"Lower Limit: \" + str(round4(prob3[0])) + \", Upper Limit: \" + str(round4(prob3[1])))\n",
    "print()\n",
    "print(\"-- Solution (d) --\")\n",
    "prob4 = norm.interval(alpha=0.9900,loc=67.45,scale=val)\n",
    "print(\"With a confidence interval of 99.00%:\")\n",
    "print(\"Lower Limit: \" + str(round4(prob4[0])) + \", Upper Limit: \" + str(round4(prob4[1])))"
   ]
  },
  {
   "cell_type": "markdown",
   "metadata": {},
   "source": [
    "## Problem Two\n",
    "\n",
    "Let μ be the mean lifetime of Apple Pens, and suppose we set the hypothesis H0 = (μ = 1600) hours with a level of significance of 5%. Assume that this is a two-tailed test. We do an experiment where 200 Apple Pens are tested and the mean of the lifetimes is found to be 1570 hours with a (sample) standard deviation of 120 hours.\n",
    "\n",
    "The hypothesis  H0 = (μ = 1600) will remain the same for all parts of this problem, but we will change some of the other parameters.\n",
    "\n",
    "\n",
    "(a) Calculate the p-value and the result of the test as just stated.\n",
    "\n",
    "(b) Show how to perform the same calculations at the 10% level of significance where the sample size is 100 (instead of 200) with the same standard deviation of 120. BUT, solve this using the standard normal distribution for the sampling distribution of means (i.e., convert everything into N(0,1) and do the entire calculation using z-scores = number of standard deviations away from the mean). Basically, once you convert to a z-score, then you just compare with the z-score for the level of significance.\n",
    "\n",
    "(c) We could also phrase such a test in terms of confidence intervals, i.e., we could give the result of our test as a confidence interval, and then decide whether the test result is within the confidence interval (accept) or not (reject). (This is generally not the way such tests are done, because we want to emphasize the rejection or non-rejection of the hypothesis, but it is interesting to consider the relationship between hypothesis testing and confidence intervals.)\n",
    "\n",
    "Supposing that the mean of 100 samples is 1565 with a standard deviation of 120, give the result of testing H0 in terms of confidence intervals, using a confidence of 99% (= a level of significance of 1%).\n"
   ]
  },
  {
   "cell_type": "code",
   "execution_count": 4,
   "metadata": {},
   "outputs": [
    {
     "name": "stdout",
     "output_type": "stream",
     "text": [
      "-- Solution (a) --\n",
      "Z: -3.5355 s: 8.4853\n",
      "P <= -3.5355 = 0.0002 | P >= 3.5355 = 0.0002\n",
      "P-value of = 0.0004 therefore we can reject the null hypothesis.\n",
      "\n",
      "-- Solution (b) --\n",
      "Z: -2.5 s: 12.0\n",
      "P(-z <= Z <= z) translates to (-1.6449 <= Z <= 1.6449) for 10% significance.\n",
      "Z-score of -2.5 does not fall in this range, therefore we can reject the null hypothesis.\n",
      "\n",
      "-- Solution (c) --\n",
      "P(0.99) translates to +- 2.5758 for 1% significance.\n",
      "1565 +- 30.9096| 1600 +- 30.9096 is not within the first interval. Reject the null hypothesis.\n"
     ]
    }
   ],
   "source": [
    "print(\"-- Solution (a) --\")\n",
    "stdev = (120 / (200**0.5))\n",
    "zscore = ((1570 - 1600)/stdev)\n",
    "print(\"Z: \" + str(round4(zscore)), \"s: \" + str(round4(stdev)))\n",
    "cdf = round4(norm.cdf(x=zscore,loc=0,scale=1))\n",
    "sf = round4(norm.sf(x=(zscore * -1),loc=0,scale=1))\n",
    "print(\"P <= -3.5355 = \" + str(cdf) + \" | P >= 3.5355 = \"+ str(sf))\n",
    "print(\"P-value of = \" + str(cdf + sf) + \" therefore we can reject the null hypothesis.\")\n",
    "print()\n",
    "print(\"-- Solution (b) --\")\n",
    "stdev = (120 / (100**0.5))\n",
    "zscore = ((1570 - 1600)/stdev)\n",
    "print(\"Z: \" + str(round4(zscore)), \"s: \" + str(round4(stdev)))\n",
    "cdf = round4(norm.cdf(x=zscore,loc=0,scale=1))\n",
    "sf = round4(norm.sf(x=(zscore * -1),loc=0,scale=1))\n",
    "bounds = norm.interval(0.90, 0, 1)\n",
    "lower = round4(bounds[0])\n",
    "upper = round4(bounds[1])\n",
    "print(\"P(-z <= Z <= z) translates to (\" + str(lower) + \" <= Z <= \" + str(upper) + \") for 10% significance.\")\n",
    "print(\"Z-score of \" + str(zscore) + \" does not fall in this range, therefore we can reject the null hypothesis.\")\n",
    "print()\n",
    "print(\"-- Solution (c) --\")\n",
    "stdev = (120 / (100**0.5))\n",
    "bounds = norm.interval(0.99, 0, 1)\n",
    "lower = round4(bounds[0])\n",
    "upper = round4(bounds[1])\n",
    "print(\"P(0.99) translates to +- \" + (str(upper)) + \" for 1% significance.\")\n",
    "interval = upper * stdev\n",
    "print(\"1565 +- \" + str(round4(interval)) + \"| 1600 +- \" + str(round4(interval)) + \" is not within the first interval. Reject the null hypothesis.\")"
   ]
  },
  {
   "cell_type": "markdown",
   "metadata": {},
   "source": [
    "# Problem Three \n",
    "\n",
    "Suppose the Psychology department at BU decides to do an experiment on ESP involving a well-known psychic, in which the individual is asked to state the color (red or blue) of a card chosen (with replacement) from a deck of 50 well-shuffled cards (25 red, 25 blue) by an individual in another room. The experimenters decide on the null hypothesis \"the probability of selecting a red card is 0.5 and the subject is simply guessing, i.e., the results are due to chance.\" They will do a one-tailed test, since it is not significant if the subject identifies too few cards correctly, but only if the subject gets a high score (which would provide evidence of ESP). The experiment is run and the subject identifies 35 cards correctly out of the 50.\n",
    "\n",
    "Use the normal approximation to the binomial, but since the continuity correction does not usually work well at the extreme left or right of the distribution, we will NOT use it in this test.\n",
    "\n",
    "(a) Noting that this is a problem about proportions, test the hypothesis at a 0.05 level of significance and state the result, showing all work.\n",
    "\n",
    "(b) Test the hypothesis at a 0.01 level of significance and again give the outcome and show all work.\n",
    "\n",
    "(c) What is the smallest number of cards that the psychic would need to identify correct in order to reject the test at the 0.05 level of significance?\n",
    "\n",
    "(d) Do the same as (c) but for the 0.01 level of significance."
   ]
  },
  {
   "cell_type": "code",
   "execution_count": 18,
   "metadata": {},
   "outputs": [
    {
     "name": "stdout",
     "output_type": "stream",
     "text": [
      "-- Solution (a) --\n",
      "Subject Score: 0.7 (sample mean) | Null Hypothesis: 0.5\n",
      "Z: 2.8284 | s: 0.0707 for a 0.7 sample mean.\n",
      "P >= 2.8284 = 0.0023 which is below significance level of 0.05.\n",
      "The null hypothesis is rejected.\n",
      "\n",
      "-- Solution (b) --\n",
      "The p-value does not change (0.0023) and still rejects the null hypothesis.\n",
      "\n",
      "-- Solution (c) --\n",
      "Z-Score of 0.05 Significance: 1.6449\n",
      "Note this is a one-tailed test.\n",
      "Minimum required #: 30.8154 rounded to 31.\n",
      "\n",
      "-- Solution (d) --\n",
      "Z-Score of 0.01 Significance: 2.5758\n",
      "Note this is a one-tailed test.\n",
      "Minimum required #: 34.1069 rounded up to 35.\n",
      "\n"
     ]
    }
   ],
   "source": [
    "print(\"-- Solution (a) --\")\n",
    "print(\"Subject Score: 0.7 (sample mean) | Null Hypothesis: 0.5\")\n",
    "null_stdev = (0.5**2 / 50)**0.5\n",
    "zscore = (0.7 - 0.5)/null_stdev\n",
    "print(\"Z: \" + str(round4(zscore)) + \" | s: \" + str(round4(null_stdev)) + \" for a 0.7 sample mean.\")\n",
    "alpha = round4(norm.sf(zscore, 0, 1))\n",
    "print(\"P >= \" + str(round4(zscore)) + \" = \" + str(round4(alpha)) +\" which is below significance level of 0.05.\")\n",
    "print(\"The null hypothesis is rejected.\")\n",
    "print()\n",
    "print(\"-- Solution (b) --\")\n",
    "print(\"The p-value does not change (\" + str(round4(alpha)) + \") and still rejects the null hypothesis.\")\n",
    "print()\n",
    "print(\"-- Solution (c) --\")\n",
    "bounds = norm.interval(0.90, 0, 1)\n",
    "sig = bounds[1]\n",
    "print(\"Z-Score of 0.05 Significance: \" + str(round4(sig)))\n",
    "print(\"Note this is a one-tailed test.\")\n",
    "null_stdev = (0.5**2 / 50)**0.5\n",
    "adj_num = (((sig * null_stdev) + 0.5) * 50)\n",
    "print(\"Minimum required #: \" + str(round4(adj_num)) + \" rounded to 31.\")\n",
    "print()\n",
    "print(\"-- Solution (d) --\")\n",
    "bounds = norm.interval(0.99, 0, 1)\n",
    "sig = bounds[1]\n",
    "print(\"Z-Score of 0.01 Significance: \" + str(round4(sig)))\n",
    "print(\"Note this is a one-tailed test.\")\n",
    "null_stdev = (0.5**2 / 50)**0.5\n",
    "adj_num = (((sig * null_stdev) + 0.5) * 50)\n",
    "print(\"Minimum required #: \" + str(round4(adj_num)) + \" rounded up to 35.\")\n",
    "print()"
   ]
  },
  {
   "cell_type": "markdown",
   "metadata": {},
   "source": [
    "# Problem Four \n",
    "\n",
    "We wish to test if a coin is fair. In 200 tosses of a coin, 115 heads and 85 tails were observed. Our null hypothesis, as usual, is that the coin is fair. As usual, this is a two-tailed test.\n",
    "\n",
    "(a) Test whether the coin is fair at the 0.05 level of significance, using the binomial directly, and showing all work.\n",
    "\n",
    "(b) Now use the normal approximation to the binomial, without the continuity correction, at the 0.01 level of significance.\n",
    "\n",
    "(c) Now use the normal approximation to the binomial, with the continuity correction, at the 0.01 level of significance."
   ]
  },
  {
   "cell_type": "markdown",
   "metadata": {},
   "source": [
    "# Problem Five \n",
    "\n",
    "A manufacturer claims that its medicine will eliminate all symptoms of cold and flu within 24 hours in 90% of all cases. Consumer Reports tests this claim and finds that in testing 200 people, 160 people were cured of all symptoms within 24 hours. Is the company's claim correct? Perform the test to a level of significance of 1% and observe that this is a one-tailed test, with the critical region on the left side (low end of the normal distribution)."
   ]
  }
 ],
 "metadata": {
  "kernelspec": {
   "display_name": "Python 3",
   "language": "python",
   "name": "python3"
  },
  "language_info": {
   "codemirror_mode": {
    "name": "ipython",
    "version": 3
   },
   "file_extension": ".py",
   "mimetype": "text/x-python",
   "name": "python",
   "nbconvert_exporter": "python",
   "pygments_lexer": "ipython3",
   "version": "3.6.4"
  }
 },
 "nbformat": 4,
 "nbformat_minor": 2
}
