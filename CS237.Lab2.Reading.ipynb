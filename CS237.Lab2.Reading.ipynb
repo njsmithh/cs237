{
 "cells": [
  {
   "cell_type": "markdown",
   "metadata": {},
   "source": [
    "# CS 237 Lab 2 Reading: Python List Comprehensions and The Numpy Library\n",
    "\n",
    "This notebook contains a brief overview of list comprehensions and the main features of the numpy library, which we will use for many of the programming projects in this course. You have probably seen list comprehensions at some point, as they are an essential part of Python programming culture. They are actually very easy to understand will enable you to write very complicated algorithms quite simply, in a few lines of code. Numpy is probably less familiar to you; the basic things to know about the numpy library are\n",
    "\n",
    "- It is based on arrays (or \"vectors\") instead of lists so that it is more efficient than the normal Python list data structure; these arrays can be multi-dimensional, although we will pretty much stick to 1D arrays, which will look almost identical to ordinary Python lists.\n",
    "- It contains a wide variety of functions for scientific and mathematical computing, and the fact that these functions operate on arrays means they are much more efficient than the usual functions on Python lists.\n",
    "- Numpy functions can work on individual data points OR on entire lists, which means that most list manipulations can be specified very succinctly and compactly; you don't need to create and modify lists element by element!"
   ]
  },
  {
   "cell_type": "markdown",
   "metadata": {},
   "source": [
    "### This next cell contains various imports and settings, don't touch unless you know what you are doing!"
   ]
  },
  {
   "cell_type": "code",
   "execution_count": 1,
   "metadata": {},
   "outputs": [],
   "source": [
    "# CS 237: Lab 2\n",
    "#@Author: Kai Bernardini\n",
    "# Jupyter notebook specific \n",
    "from IPython.display import Image\n",
    "from IPython.core.display import HTML \n",
    "from IPython.display import display_html\n",
    "from IPython.display import display\n",
    "from IPython.display import Math\n",
    "from IPython.display import Latex\n",
    "from IPython.display import HTML\n",
    "\n",
    "# General useful imports\n",
    "import numpy as np\n",
    "from numpy import arange,linspace\n",
    "import matplotlib.pyplot as plt  \n",
    "from numpy.random import seed, randint, uniform, choice, shuffle\n",
    "from collections import Counter\n",
    "import pandas as pd\n",
    "%matplotlib inline"
   ]
  },
  {
   "cell_type": "markdown",
   "metadata": {},
   "source": [
    "## <font color='red'>NOTE: Don't just read this through passively -- run each cell (control-return) to see how it behaves!\n",
    "</font>"
   ]
  },
  {
   "cell_type": "markdown",
   "metadata": {},
   "source": [
    "# List Comprehensions in Python\n",
    "Python's primary data structure, lists, provide a very compact way of organizing algorithms that collect together lots of data that need to be processed in a similar way. We will do that quite often in CS 237, and you should carefully consider the powerful technique of list comprehensions as an essential component of your Python toolkit.\n",
    "\n",
    "The fundamental idea is that instead of building up a list element by element with a for loop, you can simply specify the structure of the list using one or more sfor loop and boolean conditions. Once you get used to doing things this way, you will never want to go back to writing for loops. List comprehensions are also more efficient! "
   ]
  },
  {
   "cell_type": "markdown",
   "metadata": {},
   "source": [
    "## Basic example of a list comprehension\n",
    "\n",
    "Here is probably how you would create a list of squares in the range 0 .. 10 if you translate your Java thinking into Python:"
   ]
  },
  {
   "cell_type": "code",
   "execution_count": 2,
   "metadata": {},
   "outputs": [
    {
     "name": "stdout",
     "output_type": "stream",
     "text": [
      "[0, 1, 4, 9, 16, 25, 36, 49, 64, 81, 100]\n",
      "[0, 1, 4, 9, 16, 25, 36, 49, 64, 81, 100]\n"
     ]
    }
   ],
   "source": [
    "# Creating a list of squares of the numbers from 0 to 10 using a for loop\n",
    "\n",
    "# Here's one way:\n",
    "\n",
    "X = [0]*11           # create a list of 11 zeros\n",
    "\n",
    "for k in range(11):\n",
    "    X[k] = k**2\n",
    "    \n",
    "print(X)\n",
    "\n",
    "# Here's another:\n",
    "\n",
    "Y = []\n",
    "\n",
    "for k in range(11):\n",
    "    Y.append( k** 2 )\n",
    "    \n",
    "print(Y)"
   ]
  },
  {
   "cell_type": "markdown",
   "metadata": {},
   "source": [
    "Here is how you can do this in one line using a list comprehension:"
   ]
  },
  {
   "cell_type": "code",
   "execution_count": 3,
   "metadata": {},
   "outputs": [
    {
     "name": "stdout",
     "output_type": "stream",
     "text": [
      "[0, 1, 4, 9, 16, 25, 36, 49, 64, 81, 100]\n"
     ]
    }
   ],
   "source": [
    "Z = [ k**2 for k in range(11) ]\n",
    "print(Z)"
   ]
  },
  {
   "cell_type": "markdown",
   "metadata": {
    "collapsed": true
   },
   "source": [
    "The basic syntax should be easy to see: you give an expression along with the first line of a for loop, and it constructs the whole list at once (at least, from your point of view). Here are some more examples:"
   ]
  },
  {
   "cell_type": "code",
   "execution_count": 4,
   "metadata": {},
   "outputs": [
    {
     "name": "stdout",
     "output_type": "stream",
     "text": [
      "[(0, 0), (1, 1), (2, 4), (3, 9), (4, 16), (5, 25), (6, 36), (7, 49), (8, 64), (9, 81), (10, 100)]\n"
     ]
    }
   ],
   "source": [
    "print( [ (k,k**2) for k in range(11) ] )"
   ]
  },
  {
   "cell_type": "code",
   "execution_count": 5,
   "metadata": {},
   "outputs": [
    {
     "name": "stdout",
     "output_type": "stream",
     "text": [
      "['aa', 'bb', 'cc']\n"
     ]
    }
   ],
   "source": [
    "print( [ c + c for c in ['a', 'b', 'c'] ] )"
   ]
  },
  {
   "cell_type": "code",
   "execution_count": 6,
   "metadata": {},
   "outputs": [
    {
     "name": "stdout",
     "output_type": "stream",
     "text": [
      "['CC', 'SS', '22', '33', '77']\n"
     ]
    }
   ],
   "source": [
    "print( [ c + c for c in 'CS237' ] )"
   ]
  },
  {
   "cell_type": "markdown",
   "metadata": {
    "collapsed": true
   },
   "source": [
    "## Multiple for loops\n",
    "You can also use multiple for loops, which would then replace nested for loops"
   ]
  },
  {
   "cell_type": "code",
   "execution_count": 7,
   "metadata": {},
   "outputs": [
    {
     "name": "stdout",
     "output_type": "stream",
     "text": [
      "[(0, 0), (0, 1), (0, 2), (1, 0), (1, 1), (1, 2), (2, 0), (2, 1), (2, 2), (3, 0), (3, 1), (3, 2), (4, 0), (4, 1), (4, 2)]\n",
      "[(0, 0), (0, 1), (0, 2), (1, 0), (1, 1), (1, 2), (2, 0), (2, 1), (2, 2), (3, 0), (3, 1), (3, 2), (4, 0), (4, 1), (4, 2)]\n"
     ]
    }
   ],
   "source": [
    "# Clunky old way to do it, if you are stuck in the Java mindset:\n",
    "\n",
    "A = []\n",
    "for r in range(5):\n",
    "    for c in range(3):\n",
    "       A.append( (r,c) ) \n",
    "    \n",
    "print(A)\n",
    "\n",
    "# Using snazzy new Python thinking:\n",
    "\n",
    "print(  [ (r,c) for r in range(5) for c in range(3) ] )    # note there is no comma between the two for expressions"
   ]
  },
  {
   "cell_type": "markdown",
   "metadata": {},
   "source": [
    "## Adding boolean conditions\n",
    "You can also add boolean expressions to filter the values you want to use to construct your list"
   ]
  },
  {
   "cell_type": "code",
   "execution_count": 8,
   "metadata": {},
   "outputs": [
    {
     "name": "stdout",
     "output_type": "stream",
     "text": [
      "[0, 2, 4, 6, 8, 10, 12, 14, 16, 18]\n",
      "[0, 2, 4, 6, 8, 10, 12, 14, 16, 18]\n"
     ]
    }
   ],
   "source": [
    "# Clunky old way to do it, if you are stuck in the Java mindset:\n",
    "\n",
    "Even = []\n",
    "for x in range(20):\n",
    "    if(x%2 == 0):\n",
    "       Even.append( x ) \n",
    "    \n",
    "print(Even)\n",
    "\n",
    "# Using snazzy new Python thinking:\n",
    "\n",
    "print(  [ x for x in range(20) if x % 2 == 0 ] )    # again, no comma between for an if expressions"
   ]
  },
  {
   "cell_type": "markdown",
   "metadata": {},
   "source": [
    "And you can mix for and if expressions:"
   ]
  },
  {
   "cell_type": "code",
   "execution_count": 9,
   "metadata": {},
   "outputs": [
    {
     "name": "stdout",
     "output_type": "stream",
     "text": [
      "[(0, 1), (0, 3), (2, 1), (2, 3), (4, 1), (4, 3)]\n"
     ]
    }
   ],
   "source": [
    "print(  [ (x,y) for x in range(5) if(x%2 == 0) for y in range(5) if(y%2 ==1)] )"
   ]
  },
  {
   "cell_type": "markdown",
   "metadata": {},
   "source": [
    "When you combine list comprehensions with ordinary list functions, or with numpy functions, you can do all kinds of complicated things very simply. Here are a couple of nice examples."
   ]
  },
  {
   "cell_type": "code",
   "execution_count": 10,
   "metadata": {},
   "outputs": [
    {
     "name": "stdout",
     "output_type": "stream",
     "text": [
      "mthmtics\n"
     ]
    }
   ],
   "source": [
    "# Here is a nice example of this technique: removing vowels from a word:\n",
    "\n",
    "word = 'mathematics'\n",
    "\n",
    "X = [ c for c in word if not c in ['a','e','e','o','u']]\n",
    "\n",
    "word2 = ''.join(X)\n",
    "\n",
    "print(word2)\n"
   ]
  },
  {
   "cell_type": "code",
   "execution_count": 11,
   "metadata": {},
   "outputs": [
    {
     "name": "stdout",
     "output_type": "stream",
     "text": [
      "588\n"
     ]
    }
   ],
   "source": [
    "# Counting how many numbers in range [1..10000] are divisible by 17\n",
    "# Should be the same as floor(10000/17)\n",
    "\n",
    "a = [ 1 for n in range(1,10000) if n % 17 == 0 ]\n",
    "print( sum(a) )"
   ]
  },
  {
   "cell_type": "code",
   "execution_count": 12,
   "metadata": {},
   "outputs": [
    {
     "name": "stdout",
     "output_type": "stream",
     "text": [
      "[0.5003714747617946, 0.44144700138925863, 0.027321275785590182, 0.18777286139551808, 0.9555742034187417, 0.006195201543716333, 0.6217040231554197, 0.3998900833715464, 0.08785049802346778, 0.1198794124700604, 0.7613830750225563, 0.9461153761681698, 0.6628201961321638, 0.9549214094498077, 0.8606344402197017, 0.6681865545003739, 0.9303666063682142, 0.20321289634231743, 0.3835126254478096, 0.8490877635154772]\n"
     ]
    }
   ],
   "source": [
    "# Generating a list of random floats in range [0..1]\n",
    "\n",
    "print( [np.random.random() for i in range(20) ] )"
   ]
  },
  {
   "cell_type": "code",
   "execution_count": 13,
   "metadata": {},
   "outputs": [
    {
     "name": "stdout",
     "output_type": "stream",
     "text": [
      "[3, 7, 10, 9, 8, 11, 7, 10, 10, 9, 5, 5, 8, 12, 7, 6, 9, 5, 2, 8]\n"
     ]
    }
   ],
   "source": [
    "# Simulating the rolling of two dice; list is the outcomes of rolling two dice 10 times\n",
    "\n",
    "print(  [np.random.randint(1,7)+np.random.randint(1,7) for i in range(20)] )"
   ]
  },
  {
   "cell_type": "markdown",
   "metadata": {},
   "source": [
    "# The Numpy Library"
   ]
  },
  {
   "cell_type": "code",
   "execution_count": 14,
   "metadata": {},
   "outputs": [],
   "source": [
    "# The standard abbreviation for numpy is given in the import statement:\n",
    "import numpy as np"
   ]
  },
  {
   "cell_type": "markdown",
   "metadata": {
    "collapsed": true
   },
   "source": [
    "# The basic data structure: Numpy arrays\n",
    "\n",
    "- Numpy arrays can be multi-dimensional or (as usual in this case) 1 dimensional\n",
    "- They can be created a number of ways, and when you print them out, they will look almost the same as normal Python lists (or, nested lists, in the case of multi-dimensional arrays)"
   ]
  },
  {
   "cell_type": "markdown",
   "metadata": {
    "collapsed": true
   },
   "source": [
    "## Creating Numpy Arrays \n",
    "- You can create an empty array filled with 0's or give it a Python list to convert to an array\n",
    "- print(...) will display these just the same as Python lists"
   ]
  },
  {
   "cell_type": "code",
   "execution_count": 15,
   "metadata": {
    "scrolled": true
   },
   "outputs": [
    {
     "name": "stdout",
     "output_type": "stream",
     "text": [
      "Here is what print(...) will display (default is floating point values):\n",
      "[ 0.  0.  0.  0.  0.]\n",
      "\n",
      "But here is what the function actually returned:\n"
     ]
    },
    {
     "data": {
      "text/plain": [
       "array([ 0.,  0.,  0.,  0.,  0.])"
      ]
     },
     "execution_count": 15,
     "metadata": {},
     "output_type": "execute_result"
    }
   ],
   "source": [
    "# Creating an empty 1D array filled with 0's\n",
    "X = np.zeros([5])            # you put the length of the array in braces, you'll see why in the next section\n",
    "print(\"Here is what print(...) will display (default is floating point values):\")\n",
    "print(X)\n",
    "print(\"\\nBut here is what the function actually returned:\")\n",
    "X"
   ]
  },
  {
   "cell_type": "code",
   "execution_count": 16,
   "metadata": {
    "scrolled": true
   },
   "outputs": [
    {
     "name": "stdout",
     "output_type": "stream",
     "text": [
      "Here is what print(...) will display, as a list of lists:\n",
      "[[ 0.  0.  0.  0.]\n",
      " [ 0.  0.  0.  0.]\n",
      " [ 0.  0.  0.  0.]\n",
      " [ 0.  0.  0.  0.]\n",
      " [ 0.  0.  0.  0.]]\n",
      "\n",
      "But here is what the function actually returned:\n"
     ]
    },
    {
     "data": {
      "text/plain": [
       "array([[ 0.,  0.,  0.,  0.],\n",
       "       [ 0.,  0.,  0.,  0.],\n",
       "       [ 0.,  0.,  0.,  0.],\n",
       "       [ 0.,  0.,  0.,  0.],\n",
       "       [ 0.,  0.,  0.,  0.]])"
      ]
     },
     "execution_count": 16,
     "metadata": {},
     "output_type": "execute_result"
    }
   ],
   "source": [
    "# Creating an empty 2D array filled with 0's\n",
    "X = np.zeros([5,4])                              # [5,4] means an array with 5 rows and 4 columns          \n",
    "print(\"Here is what print(...) will display, as a list of lists:\")\n",
    "print(X)\n",
    "print(\"\\nBut here is what the function actually returned:\")\n",
    "X"
   ]
  },
  {
   "cell_type": "code",
   "execution_count": 17,
   "metadata": {
    "scrolled": true
   },
   "outputs": [
    {
     "name": "stdout",
     "output_type": "stream",
     "text": [
      "[2 3 4 5 6]\n"
     ]
    }
   ],
   "source": [
    "# Creating an array from a Python list\n",
    "X = np.array([2,3,4,5,6])                      # Think of this as a constructor          \n",
    "print(X)"
   ]
  },
  {
   "cell_type": "code",
   "execution_count": 18,
   "metadata": {
    "scrolled": false
   },
   "outputs": [
    {
     "name": "stdout",
     "output_type": "stream",
     "text": [
      "[[2 3 4]\n",
      " [1 2 3]]\n"
     ]
    }
   ],
   "source": [
    "# Creating a 2D array from a Python list of lists\n",
    "X = np.array([[2,3,4],[1,2,3]])                      # Think of this as a constructor          \n",
    "print(X)"
   ]
  },
  {
   "cell_type": "markdown",
   "metadata": {},
   "source": [
    "## Numpy Versions of the Python range function: arange and linspace\n",
    "Numpy provides two useful functions for creating ranges of floating-point values"
   ]
  },
  {
   "cell_type": "code",
   "execution_count": 19,
   "metadata": {},
   "outputs": [
    {
     "name": "stdout",
     "output_type": "stream",
     "text": [
      "[ 1.   1.5  2.   2.5  3.   3.5  4.   4.5  5.   5.5  6.   6.5  7.   7.5  8.\n",
      "  8.5  9.   9.5]\n"
     ]
    }
   ],
   "source": [
    "from numpy import arange,linspace\n",
    "\n",
    "# arange(low,high,increment) is the floating point equivalent of the Python range function:\n",
    "\n",
    "print( arange(1,10,0.5) )"
   ]
  },
  {
   "cell_type": "code",
   "execution_count": 20,
   "metadata": {
    "scrolled": true
   },
   "outputs": [
    {
     "name": "stdout",
     "output_type": "stream",
     "text": [
      "[ 0.    0.03  0.06  0.09  0.12  0.15  0.18  0.21  0.24  0.27  0.3   0.33\n",
      "  0.36  0.39  0.42  0.45  0.48  0.51  0.54  0.57  0.6   0.63  0.66  0.69\n",
      "  0.72  0.75  0.78  0.81  0.84  0.87  0.9   0.93  0.96  0.99]\n"
     ]
    }
   ],
   "source": [
    "print( arange(0,1,0.03) )"
   ]
  },
  {
   "cell_type": "code",
   "execution_count": 21,
   "metadata": {
    "scrolled": true
   },
   "outputs": [
    {
     "name": "stdout",
     "output_type": "stream",
     "text": [
      "[  1.    2.8   4.6   6.4   8.2  10. ]\n"
     ]
    }
   ],
   "source": [
    "# linspace(low,high,num) provides a useful alternative, in which num values are spaced equally over [low..high]\n",
    "# The array returned will have num floats and include the endpoint of the range:\n",
    "\n",
    "print( linspace(1,10,6) )"
   ]
  },
  {
   "cell_type": "code",
   "execution_count": 22,
   "metadata": {
    "scrolled": true
   },
   "outputs": [
    {
     "name": "stdout",
     "output_type": "stream",
     "text": [
      "[ 0.          0.11111111  0.22222222  0.33333333  0.44444444  0.55555556\n",
      "  0.66666667  0.77777778  0.88888889  1.        ]\n"
     ]
    }
   ],
   "source": [
    "print( linspace(0,1,10))"
   ]
  },
  {
   "cell_type": "code",
   "execution_count": 23,
   "metadata": {
    "scrolled": true
   },
   "outputs": [
    {
     "name": "stdout",
     "output_type": "stream",
     "text": [
      "[ 0.   0.1  0.2  0.3  0.4  0.5  0.6  0.7  0.8  0.9]\n"
     ]
    }
   ],
   "source": [
    "# If you want to exclude the endpoint, you will get something more similar to what is returned by arange:\n",
    "print( linspace(0,1,10,endpoint=False))"
   ]
  },
  {
   "cell_type": "markdown",
   "metadata": {
    "collapsed": true
   },
   "source": [
    "## Creating Random Arrays using the Numpy random library\n",
    "- Numpy has a variety of functions which can create random values, as if from the output of a random experiment\n",
    "- The most useful discrete functions are randint(...), choice(....), and shuffle(....)\n",
    "- The most useful continuous functions (for now) are random(....) and uniform(...)\n",
    "- These functions can create an entire array of random values all at once, i.e., the entire list of output from multiple trials of a random experiment\n",
    "- See https://docs.scipy.org/doc/numpy-1.13.0/reference/routines.random.html for the complete set of such functions"
   ]
  },
  {
   "cell_type": "code",
   "execution_count": 24,
   "metadata": {},
   "outputs": [],
   "source": [
    "# Here is the import statement, which will let you simply call these without the \"np.\" prefix:\n",
    "from numpy.random import randint, random, uniform, choice, shuffle"
   ]
  },
  {
   "cell_type": "markdown",
   "metadata": {
    "collapsed": true
   },
   "source": [
    "## randint"
   ]
  },
  {
   "cell_type": "code",
   "execution_count": 25,
   "metadata": {},
   "outputs": [
    {
     "name": "stdout",
     "output_type": "stream",
     "text": [
      "3\n"
     ]
    }
   ],
   "source": [
    "# randint(low,high) returns a single random integer in the range [low .. high)\n",
    "print( randint(1,7) )\n",
    "\n",
    "# Run this cell multiple times by typing control-return and see the value change"
   ]
  },
  {
   "cell_type": "code",
   "execution_count": 26,
   "metadata": {},
   "outputs": [
    {
     "name": "stdout",
     "output_type": "stream",
     "text": [
      "[4 1 6 1 6 2 2 1 4 1]\n",
      "[5 4 6 4 6 4 2 2 1 6]\n"
     ]
    }
   ],
   "source": [
    "# randint(low,high,[length]) returns a 1D array of the given length, filled with random integer values [low .. high)\n",
    "# alternately, you can set the size parameter, which assumes the array is 1D\n",
    "\n",
    "print( randint(1,7,[10]) )\n",
    "print( randint(1,7,size=10) )\n",
    "\n",
    "# Run this cell multiple times by typing control-return and see the values change"
   ]
  },
  {
   "cell_type": "code",
   "execution_count": 27,
   "metadata": {},
   "outputs": [
    {
     "name": "stdout",
     "output_type": "stream",
     "text": [
      "[[6 2 4 6 3]\n",
      " [5 2 6 4 3]\n",
      " [4 2 5 4 4]\n",
      " [6 2 4 5 5]\n",
      " [1 1 4 1 2]\n",
      " [6 4 4 5 5]\n",
      " [3 6 5 5 2]\n",
      " [5 4 1 2 5]\n",
      " [5 3 3 2 6]\n",
      " [3 2 4 6 6]]\n"
     ]
    }
   ],
   "source": [
    "# You can also create 2D arrays:\n",
    "print( randint(1,7,[10,5]) )\n",
    "\n",
    "# Run this cell multiple times by typing control-return and see the values change"
   ]
  },
  {
   "cell_type": "markdown",
   "metadata": {},
   "source": [
    "## choice"
   ]
  },
  {
   "cell_type": "code",
   "execution_count": 28,
   "metadata": {
    "scrolled": false
   },
   "outputs": [
    {
     "name": "stdout",
     "output_type": "stream",
     "text": [
      "7\n"
     ]
    }
   ],
   "source": [
    "# choice( list ) returns a random element from the list, chosen equi-probably\n",
    "print( choice([2,5,7]))"
   ]
  },
  {
   "cell_type": "code",
   "execution_count": 29,
   "metadata": {
    "scrolled": true
   },
   "outputs": [
    {
     "name": "stdout",
     "output_type": "stream",
     "text": [
      "[2 7 2 2 7 2 2 7 5 2 7 7 2 2 5 5 2 2 5 2]\n",
      "[7 2 5 2 2 5 7 7 5 5 5 5 7 2 7 2 5 7 7 7]\n"
     ]
    }
   ],
   "source": [
    "# Or, of course, you can return a list of such values; the choices are made \"with replacement\" as if choosing cards\n",
    "# from a deck, but after each choice, you put the card back, so that you can choose the same element again:\n",
    "print( choice([2,5,7],[20]))\n",
    "print( choice([2,5,7],size=20))        # this is another way to do it"
   ]
  },
  {
   "cell_type": "code",
   "execution_count": 30,
   "metadata": {
    "scrolled": true
   },
   "outputs": [
    {
     "name": "stdout",
     "output_type": "stream",
     "text": [
      "['T' 'H' 'T' 'H' 'T' 'H' 'H' 'H' 'T' 'H']\n"
     ]
    }
   ],
   "source": [
    "# This is one of the few functions that can manipulate random lists of non-numeric data:\n",
    "print( choice(['H','T'],[10]))"
   ]
  },
  {
   "cell_type": "code",
   "execution_count": 31,
   "metadata": {},
   "outputs": [
    {
     "name": "stdout",
     "output_type": "stream",
     "text": [
      "2\n"
     ]
    }
   ],
   "source": [
    "# If you want to make the choice non-equiprobable, you can list the probability function for the list:\n",
    "print( choice([2,5,7],p=[0.5,0.1,0.4]))"
   ]
  },
  {
   "cell_type": "code",
   "execution_count": 32,
   "metadata": {},
   "outputs": [
    {
     "name": "stdout",
     "output_type": "stream",
     "text": [
      "[4 1 5]\n"
     ]
    }
   ],
   "source": [
    "# If you want to make the choice without replacement, as in dealing cards, when you can't choose the same card twice:\n",
    "print( choice([1,2,3,4,5],[3],replace=False) )"
   ]
  },
  {
   "cell_type": "markdown",
   "metadata": {},
   "source": [
    "## shuffle"
   ]
  },
  {
   "cell_type": "code",
   "execution_count": 33,
   "metadata": {
    "scrolled": false
   },
   "outputs": [
    {
     "name": "stdout",
     "output_type": "stream",
     "text": [
      "[1, 2, 3, 4, 5]\n",
      "[4, 3, 5, 2, 1]\n"
     ]
    }
   ],
   "source": [
    "# shuffle( list ) modifies the list in-place by shuffling its contents -- like shuffling a pack of cards!\n",
    "X = [1,2,3,4,5]\n",
    "print(X)\n",
    "shuffle(X)\n",
    "print(X)"
   ]
  },
  {
   "cell_type": "code",
   "execution_count": 34,
   "metadata": {},
   "outputs": [
    {
     "name": "stdout",
     "output_type": "stream",
     "text": [
      "['a', 'b', 'c', 'd']\n",
      "['d', 'a', 'b', 'c']\n"
     ]
    }
   ],
   "source": [
    "X = ['a', 'b', 'c', 'd']\n",
    "print(X)\n",
    "shuffle(X)\n",
    "print(X)"
   ]
  },
  {
   "cell_type": "markdown",
   "metadata": {},
   "source": [
    "## random"
   ]
  },
  {
   "cell_type": "code",
   "execution_count": 35,
   "metadata": {},
   "outputs": [
    {
     "name": "stdout",
     "output_type": "stream",
     "text": [
      "0.798219909145149\n"
     ]
    }
   ],
   "source": [
    "# random() returns a single random float in the range [0..1)\n",
    "print( random() )"
   ]
  },
  {
   "cell_type": "code",
   "execution_count": 36,
   "metadata": {
    "scrolled": false
   },
   "outputs": [
    {
     "name": "stdout",
     "output_type": "stream",
     "text": [
      "[ 0.60243327  0.29946146  0.63173777  0.05599351  0.53997251]\n"
     ]
    }
   ],
   "source": [
    "# random([length]) returns an array of random values of the given length\n",
    "print( random(size=5) )"
   ]
  },
  {
   "cell_type": "markdown",
   "metadata": {},
   "source": [
    "## uniform"
   ]
  },
  {
   "cell_type": "code",
   "execution_count": 37,
   "metadata": {},
   "outputs": [
    {
     "name": "stdout",
     "output_type": "stream",
     "text": [
      "4.567121322064692\n"
     ]
    }
   ],
   "source": [
    "# uniform(low,high) returns a random float in range [low..high), chosen equiprobably:\n",
    "print( uniform(3.14,5) )"
   ]
  },
  {
   "cell_type": "code",
   "execution_count": 38,
   "metadata": {
    "scrolled": true
   },
   "outputs": [
    {
     "name": "stdout",
     "output_type": "stream",
     "text": [
      "[ 0.05551349  0.05416124  0.02078735  0.07888795  0.02162473  0.04298986\n",
      "  0.02795184  0.07029143  0.02920001  0.05223106]\n"
     ]
    }
   ],
   "source": [
    "# creating a random array in a given interval:\n",
    "print( uniform(0,0.1, [10]) )"
   ]
  },
  {
   "cell_type": "markdown",
   "metadata": {
    "collapsed": true
   },
   "source": [
    "# Arithmetic Operations and Functions on Numpy Arrays\n",
    "Numpy provides the usual functions that return useful information about the contents of an array:"
   ]
  },
  {
   "cell_type": "code",
   "execution_count": 39,
   "metadata": {},
   "outputs": [
    {
     "name": "stdout",
     "output_type": "stream",
     "text": [
      "[1 2 3 4 5]\n",
      "Sum of elements in A:  15\n",
      "Minimum of elements in A:  1\n",
      "Maximum of elements in A:  5\n"
     ]
    }
   ],
   "source": [
    "A = np.array([1,2,3,4,5])\n",
    "print(A)\n",
    "print('Sum of elements in A:  ' + str( A.sum() ) )\n",
    "\n",
    "print('Minimum of elements in A:  ' + str( A.min() ) )\n",
    "\n",
    "print('Maximum of elements in A:  ' + str( A.max() ) )\n"
   ]
  },
  {
   "cell_type": "markdown",
   "metadata": {},
   "source": [
    "But, one of the very cool things about the numpy library is that is allows you to do arithmetic on arrays element by element, and also apply functions to a list as a whole:"
   ]
  },
  {
   "cell_type": "code",
   "execution_count": 40,
   "metadata": {},
   "outputs": [
    {
     "name": "stdout",
     "output_type": "stream",
     "text": [
      "[ 1.          1.41421356  1.73205081  2.          2.23606798]\n"
     ]
    }
   ],
   "source": [
    "# Numpy functions apply element by element to an entire array:\n",
    "X = np.array([1,2,3,4,5])\n",
    "print( np.sqrt(X) )"
   ]
  },
  {
   "cell_type": "code",
   "execution_count": 41,
   "metadata": {},
   "outputs": [
    {
     "name": "stdout",
     "output_type": "stream",
     "text": [
      "[ 0.          0.12822827  0.25645654  0.38468481  0.51291309  0.64114136\n",
      "  0.76936963  0.8975979   1.02582617  1.15405444  1.28228272  1.41051099\n",
      "  1.53873926  1.66696753  1.7951958   1.92342407  2.05165235  2.17988062\n",
      "  2.30810889  2.43633716  2.56456543  2.6927937   2.82102197  2.94925025\n",
      "  3.07747852  3.20570679  3.33393506  3.46216333  3.5903916   3.71861988\n",
      "  3.84684815  3.97507642  4.10330469  4.23153296  4.35976123  4.48798951\n",
      "  4.61621778  4.74444605  4.87267432  5.00090259  5.12913086  5.25735913\n",
      "  5.38558741  5.51381568  5.64204395  5.77027222  5.89850049  6.02672876\n",
      "  6.15495704  6.28318531]\n"
     ]
    },
    {
     "data": {
      "text/plain": [
       "[<matplotlib.lines.Line2D at 0x10fb5b390>]"
      ]
     },
     "execution_count": 41,
     "metadata": {},
     "output_type": "execute_result"
    },
    {
     "data": {
      "image/png": "[encoded data removed]",
      "text/plain": [
       "<matplotlib.figure.Figure at 0x10b1b6fd0>"
      ]
     },
     "metadata": {},
     "output_type": "display_data"
    }
   ],
   "source": [
    "# displaying a sin wave using np.sin:\n",
    "\n",
    "from matplotlib import pyplot as plt\n",
    "%matplotlib inline\n",
    "\n",
    "X = linspace(0,2*np.pi,50)        # Generate 100 evenly space points around the unit circle\n",
    "print(X)\n",
    "Y = np.sin(X)                      # Generate the corresponding Y values all at once in an array Y\n",
    "plt.plot(X,Y)\n"
   ]
  },
  {
   "cell_type": "code",
   "execution_count": 42,
   "metadata": {
    "scrolled": true
   },
   "outputs": [
    {
     "name": "stdout",
     "output_type": "stream",
     "text": [
      "[1 2 3 4]\n",
      "[2 3 4 5]\n",
      "[3 5 7 9]\n"
     ]
    }
   ],
   "source": [
    "# Adding two arrays element by element\n",
    "X = np.array([1,2,3,4])\n",
    "print(X)\n",
    "Y = np.array([2,3,4,5])\n",
    "print(Y)\n",
    "Z = X + Y\n",
    "print(Z)"
   ]
  },
  {
   "cell_type": "code",
   "execution_count": 43,
   "metadata": {},
   "outputs": [
    {
     "name": "stdout",
     "output_type": "stream",
     "text": [
      "[ 2  6 12 20]\n"
     ]
    }
   ],
   "source": [
    "# Works for most arithmetic operations:\n",
    "A = X * Y\n",
    "print(A)"
   ]
  },
  {
   "cell_type": "code",
   "execution_count": 44,
   "metadata": {},
   "outputs": [
    {
     "name": "stdout",
     "output_type": "stream",
     "text": [
      "[ 0.5         0.66666667  0.75        0.8       ]\n"
     ]
    }
   ],
   "source": [
    "A = X / Y\n",
    "print(A)"
   ]
  },
  {
   "cell_type": "code",
   "execution_count": 45,
   "metadata": {},
   "outputs": [
    {
     "name": "stdout",
     "output_type": "stream",
     "text": [
      "[2 3 4 5]\n"
     ]
    }
   ],
   "source": [
    "# The special assignment operations work as well\n",
    "X += 1\n",
    "print(X)"
   ]
  },
  {
   "cell_type": "code",
   "execution_count": 46,
   "metadata": {},
   "outputs": [
    {
     "name": "stdout",
     "output_type": "stream",
     "text": [
      "[ 4  6  8 10]\n"
     ]
    }
   ],
   "source": [
    "X += Y\n",
    "print(X)"
   ]
  },
  {
   "cell_type": "code",
   "execution_count": 47,
   "metadata": {
    "scrolled": true
   },
   "outputs": [
    {
     "name": "stdout",
     "output_type": "stream",
     "text": [
      "[[2 1 4 6]\n",
      " [2 1 6 5]\n",
      " [4 1 2 5]\n",
      " [3 5 5 4]\n",
      " [1 1 3 5]]\n"
     ]
    }
   ],
   "source": [
    "# So you can now do various idioms such as accumulation using arrays:\n",
    "X = randint(1,7,[5,4])\n",
    "print(X)"
   ]
  },
  {
   "cell_type": "code",
   "execution_count": 48,
   "metadata": {},
   "outputs": [
    {
     "name": "stdout",
     "output_type": "stream",
     "text": [
      "Sum of each column in X:\n",
      "[ 12.   9.  20.  25.]\n"
     ]
    }
   ],
   "source": [
    "Y = np.zeros([4])\n",
    "for k in range(len(X)):\n",
    "    Y += X[k]\n",
    "print(\"Sum of each column in X:\")\n",
    "print(Y)"
   ]
  },
  {
   "cell_type": "markdown",
   "metadata": {},
   "source": [
    "## Final Example: Using list comprehensions and numpy arrays to simulate random experiments\n",
    "Using list comprehensions and numpy together makes it easy to perform random experiments without a lot of messy for loops; here is the solution to Lab 1, Problem 3"
   ]
  },
  {
   "cell_type": "code",
   "execution_count": 49,
   "metadata": {},
   "outputs": [
    {
     "data": {
      "image/png": "[encoded data removed]",
      "text/plain": [
       "<matplotlib.figure.Figure at 0x10fbca390>"
      ]
     },
     "metadata": {},
     "output_type": "display_data"
    },
    {
     "data": {
      "image/png": "[encoded data removed]",
      "text/plain": [
       "<matplotlib.figure.Figure at 0x1140d3400>"
      ]
     },
     "metadata": {},
     "output_type": "display_data"
    }
   ],
   "source": [
    "from collections import Counter\n",
    "\n",
    "def show_distribution(outcomes, title='Probability Distribution'):\n",
    "    num_trials = len(outcomes)\n",
    "    X = range( int(min(outcomes)), int(max(outcomes))+1 )\n",
    "    freqs = Counter(outcomes)\n",
    "    Y = [freqs[i]/num_trials for i in X]\n",
    "    plt.bar(X,Y,width=1.0,edgecolor='black')\n",
    "    plt.title(title)\n",
    "    plt.show()\n",
    "    \n",
    "def roll_and_add_dice(n_dice, n_trials = 10000):\n",
    "    results = randint(1,7,(n_dice, n_trials))      # Each row is has 10,000 trials for 1 dice\n",
    "                                                   # The columns are n_dice values for each successive trial\n",
    "    acum =  np.zeros(n_trials)\n",
    "    for i in range(len(results)):\n",
    "        acum += results[i]                         # Add the columns to get result of rolls n_dice dice\n",
    "    return acum\n",
    "    \n",
    "\n",
    "show_distribution(roll_and_add_dice(2),title='Probability Distribution for Sum of Two Dice')\n",
    "\n",
    "# Here's another way to do it, showing the power of list comprehensions with numpy! A one-line solution!\n",
    "\n",
    "def roll_and_add_dice2(n_dice, n_trials = 10000):\n",
    "    return [ sum(randint(1,7,[n_dice])) for k in range(n_trials) ]\n",
    "\n",
    "show_distribution(roll_and_add_dice2(2),title='Probability Distribution for Sum of Two Dice')\n"
   ]
  },
  {
   "cell_type": "markdown",
   "metadata": {},
   "source": [
    "## For further information....\n",
    "For the most part, you can get good advice from StackOverflow or the documentation on numpy if you just Google \"numpy <function>\". For a somewhat more extensive tutoral on numpy, here is a good place to start: https://docs.scipy.org/doc/numpy-dev/user/quickstart.html"
   ]
  }
 ],
 "metadata": {
  "kernelspec": {
   "display_name": "Python 3",
   "language": "python",
   "name": "python3"
  },
  "language_info": {
   "codemirror_mode": {
    "name": "ipython",
    "version": 3
   },
   "file_extension": ".py",
   "mimetype": "text/x-python",
   "name": "python",
   "nbconvert_exporter": "python",
   "pygments_lexer": "ipython3",
   "version": "3.6.4"
  }
 },
 "nbformat": 4,
 "nbformat_minor": 2
}
