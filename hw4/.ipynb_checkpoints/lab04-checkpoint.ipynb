{
 "cells": [
  {
   "cell_type": "markdown",
   "metadata": {},
   "source": [
    "# CS 237 Lab Four: Simulating Random Variables\n",
    "In this lab we will explore the notion of random variables, which will be a very important topic for the next few weeks. We will think about creating random variables for certain characteristic frequency distributions corresponding to the various canonical problems (such as flipping a coin until a heads appears), and then explore the notion of expected value and the best strategy for a game. "
   ]
  },
  {
   "cell_type": "code",
   "execution_count": 1,
   "metadata": {},
   "outputs": [],
   "source": [
    "# Here are some imports which will be used in code that we write for CS 237\n",
    "\n",
    "# Jupyter notebook specific \n",
    "\n",
    "from IPython.display import Image\n",
    "from IPython.core.display import HTML \n",
    "from IPython.display import display_html\n",
    "from IPython.display import display\n",
    "from IPython.display import Math\n",
    "from IPython.display import Latex\n",
    "from IPython.display import HTML   \n",
    "\n",
    "# Imports potentially used for this lab\n",
    "\n",
    "import numpy as np                # arrays and functions which operate on array\n",
    "from numpy import linspace, arange\n",
    "import matplotlib.pyplot as plt   # normal plotting\n",
    "import seaborn as sns             # Fancy plotting \n",
    "import pandas as pd               # Data input and manipulation\n",
    "\n",
    "from numpy.random import random, randint, uniform, choice, shuffle\n",
    "from collections import Counter\n",
    "\n",
    "%matplotlib inline\n"
   ]
  },
  {
   "cell_type": "markdown",
   "metadata": {},
   "source": [
    "## Problem One: Generating Random Floating-Point Numbers in [0..1)\n",
    "In this problem we will investigate how to implement the <code>function numpy.random.random()</code>, which generates random 32-bit floating-point numbers in the range [0..1). Essentially, this is a random variable implemented in Python. This will form the basis for a variety of similar random variables representing other canonical problems, such as flipping coins. \n",
    "\n",
    "<b>Hash functions</b> \n",
    "As you may recall from CS 112, hash functions map key values to buckets in a hash table: the hash function appears to be spreading the keys uniformly randomly over the buckets, but in fact there is nothing random about it, since we can easily repeat the computation to find the key later. This is called pseudo-random behavior: the hash function is not random, but appears to be so unless you know the rule used to compute the hash function. \n",
    "\n",
    "The simplest hash functions use the linear-congruential method, which you may remember from CS 112; using prime numbers as multiplier and modulus are a good way to simulate random behavior:"
   ]
  },
  {
   "cell_type": "code",
   "execution_count": 2,
   "metadata": {},
   "outputs": [
    {
     "name": "stdout",
     "output_type": "stream",
     "text": [
      "872611562\n",
      "565521749\n",
      "694301348\n",
      "634864610\n",
      "710811553\n",
      "694301348\n"
     ]
    }
   ],
   "source": [
    "A = 492876847     # the 26 millionth prime\n",
    "M = 982451653     # the 50 millionth prime   \n",
    "\n",
    "def hash(x):\n",
    "    return (A * x) % M\n",
    "\n",
    "# Test it!\n",
    "X = [231,45,123,87,133,123]\n",
    "for x in X:\n",
    "    print(hash(x))"
   ]
  },
  {
   "cell_type": "markdown",
   "metadata": {
    "scrolled": true
   },
   "source": [
    "### Part (A): Pseudo-random number generation (done for you!).\n",
    "However, we want to generate a series of numbers which appear to be uniformly randomly distributed over the range [0 .. M), and so we will start with a seed value and successively apply the hash function to generate a series of pseudo-random numbers $n_0$, $n_1$, $n_2$, etc.\n",
    "\n",
    "<blockquote>\n",
    "\n",
    "$n_0 = \\text{hash(seed)}$<br>\n",
    "\n",
    "$n_2 = \\text{hash(hash(seed))}$<br>\n",
    "\n",
    "...<br>\n",
    "\n",
    "$n_k = \\text{hash}^{k+1}\\text{(seed)}$\n",
    "</blockquote>\n",
    "NOTE: You should NOT put this in a loop and apply the hash function $k$ times the $k^{th}$ time you call the function, but store the previous value in a global variable and apply the hash function ONCE each time the function is called. "
   ]
  },
  {
   "cell_type": "code",
   "execution_count": 3,
   "metadata": {},
   "outputs": [
    {
     "name": "stdout",
     "output_type": "stream",
     "text": [
      "646681346\n",
      "895509231\n",
      "325074873\n",
      "292163047\n",
      "611220391\n",
      "881986056\n",
      "973416690\n",
      "145543584\n",
      "538375161\n",
      "697934142\n"
     ]
    }
   ],
   "source": [
    "seed = 15485863    # The millionth prime\n",
    "prev = seed\n",
    "\n",
    "def next_random():\n",
    "    global prev\n",
    "    prev = hash(prev)\n",
    "    return prev\n",
    "\n",
    "# Test it\n",
    "for x in range(10):\n",
    "    print(next_random())"
   ]
  },
  {
   "cell_type": "markdown",
   "metadata": {},
   "source": [
    "###  Part (B): Pseudo-random Floats.\n",
    "Now convert this into a random variable which produces floating-point values in the range [0..1). "
   ]
  },
  {
   "cell_type": "code",
   "execution_count": 9,
   "metadata": {},
   "outputs": [
    {
     "name": "stdout",
     "output_type": "stream",
     "text": [
      "0.121837778\n",
      "0.675652352\n",
      "0.979142896\n",
      "0.096779988\n",
      "0.789785487\n",
      "0.441582631\n",
      "0.81498591\n",
      "0.520285579\n",
      "0.957466911\n",
      "0.858776953\n"
     ]
    }
   ],
   "source": [
    "def next_uniform():\n",
    "    x = next_random() / (10**9)\n",
    "    return x\n",
    "\n",
    "# Test it!\n",
    "for x in range(0,10):\n",
    "    print(next_uniform())"
   ]
  },
  {
   "cell_type": "markdown",
   "metadata": {},
   "source": [
    "###  Part (C) Testing for Randomness: The Spectral Test.\n",
    "\n",
    "For this part, we would like you to simply repeat the spectral test from Lab 01 which\n",
    "tests that the values are distributed equinumerously over the range.\n",
    "\n",
    "Convert these floating-point numbers into integers in the range [0, ..., 100) by multiplying by 100 and then converting to an int (which will truncate the fractional part). If we histogram a sequence of 1 million such values, we should get an approximately equinumerous distribution over the range [0, .., 100). "
   ]
  },
  {
   "cell_type": "code",
   "execution_count": 10,
   "metadata": {
    "scrolled": false
   },
   "outputs": [
    {
     "name": "stdout",
     "output_type": "stream",
     "text": [
      "[10190, 10127, 10183, 9994, 10011, 10309, 10023, 10292, 10073, 10105, 10203, 10254, 10387, 10087, 10127, 10091, 10297, 10135, 10184, 10146, 10179, 10113, 9969, 10180, 10150, 10223, 9989, 10394, 10228, 10142, 9969, 10319, 10203, 10297, 10184, 9912, 10326, 10263, 10445, 10348, 10123, 10221, 10195, 10263, 9992, 10173, 9963, 10029, 10185, 10252, 10140, 9975, 10177, 10230, 10209, 10381, 10366, 10151, 10188, 10242, 10016, 10137, 10300, 10208, 10241, 10127, 10226, 10218, 10063, 10181, 10167, 10175, 10294, 10306, 10275, 10114, 10113, 10189, 10144, 10257, 10173, 10120, 10129, 10141, 10200, 10271, 10333, 10256, 10039, 10166, 10007, 10315, 10153, 10144, 10007, 10331, 10171, 10319, 2468, 0]\n"
     ]
    }
   ],
   "source": [
    "num_trials = 10**6\n",
    "\n",
    "def randomness_test1(N):\n",
    "    X = [0]*100\n",
    "    for i in range(N):\n",
    "        z = int(next_uniform() * 100)\n",
    "        X[z] += 1\n",
    "    print(X)\n",
    "    \n",
    "\n",
    "randomness_test1(num_trials)"
   ]
  },
  {
   "cell_type": "markdown",
   "metadata": {},
   "source": [
    "## Problem Two (A): Generating Random Integers in a Range [a, ..., b)\n",
    "Now we will investigate generating random integers in a specific range, from a (inclusive) to b (exclusive, as usual in ranges in Python); this is\n",
    "equivalent to the numpy.random function <code>randint(a,b)</code>; the random variable looks like this:\n",
    "\n",
    "    S = { a,       a+1,     ...., b-1 }\n",
    "    P = { 1/(b-a), 1/(b-a), ...., 1/(b-a) }\n",
    "    \n"
   ]
  },
  {
   "cell_type": "code",
   "execution_count": null,
   "metadata": {},
   "outputs": [],
   "source": [
    "# To convert a float [0..1) into [a, ..., b),\n",
    "# First, convert float [0..1) into [0 .. (b-a))\n",
    "# Next, convert into float [a .. b)\n",
    "# Finally, convert to ints. \n",
    "\n",
    "def next_rand_int(a,b):\n",
    "    return 0           # your code here \n",
    "\n",
    "# Test it!\n",
    "for k in range(10):\n",
    "    print(next_rand_int(0,10))"
   ]
  },
  {
   "cell_type": "code",
   "execution_count": null,
   "metadata": {
    "scrolled": true
   },
   "outputs": [],
   "source": [
    "# your code here \n",
    "\n",
    "# Test this by running this cell several times!"
   ]
  },
  {
   "cell_type": "markdown",
   "metadata": {},
   "source": [
    "###  Part (B): Sampling without replacement\n",
    "In this problem we will create our own version of the numpy choice function, which we used extensively in Lab Three. There are two steps: first create a function shuffle(...) which takes a list and creates a random permutation, and then slice the list to return some number <code>size</code> of elements from the front of the list. It is exactly the same as shuffling a deck and then dealing out a number of cards from the top."
   ]
  },
  {
   "cell_type": "code",
   "execution_count": null,
   "metadata": {},
   "outputs": [],
   "source": [
    "# shuffle a list X by choosing two indices using the function nextRandInt just created\n",
    "# in part (A) and swapping the two elements at those indices. Repeat this 10 * len(X) times.\n",
    "# Do NOT destroy the list, but make a copy before shuffling it.\n",
    "\n",
    "def shuffle(X):\n",
    "    newX = list(X)\n",
    "    # your code here\n",
    "    return newX\n",
    "\n",
    "\n",
    "# Test it!\n",
    "X = [1,2,3,4,5,6,7,8,9,10]\n",
    "for k in range(10):\n",
    "    print(shuffle(X))"
   ]
  },
  {
   "cell_type": "code",
   "execution_count": null,
   "metadata": {},
   "outputs": [],
   "source": [
    "# Return a list of length size of elements from the list X; if replace is True, \n",
    "# simply select elements from the list using next_rand_int if False, shuffle \n",
    "# the list and slice an initial part of the list and return it.\n",
    "\n",
    "def my_choice(X,replace=False,size=1):\n",
    "    return []      # Your code here\n",
    "\n",
    "# Test it!\n",
    "X = [1,2,3,4,5,6]\n",
    "for k in range(10):\n",
    "    print(my_choice(X,replace=True,size=8))\n",
    "    \n",
    "print()\n",
    "for k in range(10):\n",
    "    print(my_choice(X,replace=False,size=5))"
   ]
  },
  {
   "cell_type": "markdown",
   "metadata": {},
   "source": [
    "## Problem Three (A): Generating the Bernoulli Distribution\n",
    "In this problem we will investigate how to implement a random variable that simulates the flipping of a (possibly unfair) coin, where the probability of a heads is p, and returning True (\"success\") if a heads turns up, and False (\"failure\") if tails; the random variable is thus:\n",
    "\n",
    "    S = { False, True }\n",
    "    P = { 1-p,   p }\n",
    "    "
   ]
  },
  {
   "cell_type": "code",
   "execution_count": null,
   "metadata": {
    "scrolled": false
   },
   "outputs": [],
   "source": [
    "def next_bernoulli(p):\n",
    "    return False        # Your code here, use next_uniform()\n",
    "\n",
    "for k in range(10):\n",
    "    print(next_bernoulli(0.6))"
   ]
  },
  {
   "cell_type": "code",
   "execution_count": null,
   "metadata": {
    "scrolled": false
   },
   "outputs": [],
   "source": [
    "num_trials = 10**6\n",
    "\n",
    "# Your code here to show a histogram for p = 0.6"
   ]
  },
  {
   "cell_type": "markdown",
   "metadata": {},
   "source": [
    "### Part (B): Generating a Binomial Random Variable\n",
    "In this problem we will investigate how to implement a random variable that simulates the following problem: Flip a (possibly unfair) coin (where the probability of heads is p) N times -- how many heads appeared? \n",
    "\n",
    "We shall generate these random numbers by a simple technique of simulating the flipping of coins, using the solution to the previous problem. "
   ]
  },
  {
   "cell_type": "code",
   "execution_count": null,
   "metadata": {},
   "outputs": [],
   "source": [
    "def next_binomial(N,p):\n",
    "    return 0              # Your code here\n",
    "\n",
    "# Test it!\n",
    "for k in range(10):\n",
    "    print(next_binomial(5,0.5))"
   ]
  },
  {
   "cell_type": "code",
   "execution_count": null,
   "metadata": {
    "scrolled": true
   },
   "outputs": [],
   "source": [
    "num_trials = 10**6\n",
    "\n",
    "# your code here"
   ]
  },
  {
   "cell_type": "markdown",
   "metadata": {},
   "source": [
    "## Problem Four: Generating a Geometric Random Variable\n",
    "In this problem we will investigate how to implement a random variable that \n",
    "simulates the following problem: Flip a (possibly unfair) coin (where the \n",
    "probability of heads is p) until a head appears -- how many flips did it take?  \n",
    "\n",
    "The key thing to understand is that if it takes k flips, then it took (k-1) tails (with probability 1-p) and then one head (with probability p):\n",
    "\n",
    "      S = { 1, 2,       3,           ....   k                 ....  }\n",
    "      P = { p, (1-p)*p, (1-p)^2 * p, ....   (1-p)^(k-1) * p   ....  } \n",
    "\n",
    "We could do a simulation, as in the last problem, but we will explore two new techniques \n",
    "for generating random variables, one based on the Cumulative Distribution Function, and \n",
    "the other based on an explicit formula for transforming the Uniform distribution for [0..1) into\n",
    "the random variable we are trying to create. "
   ]
  },
  {
   "cell_type": "markdown",
   "metadata": {},
   "source": [
    "###  Part (A) Using the CDF to generate random values\n",
    "\n",
    "The algorithm for doing this is actually very simple: just generate a random value U in the range [0..1) and when you sum up the values in the CDF, stop when you exceed U. For example, if p = 0.3, then the CDF is as follows:"
   ]
  },
  {
   "cell_type": "code",
   "execution_count": null,
   "metadata": {
    "scrolled": false
   },
   "outputs": [],
   "source": [
    "p = 0.3\n",
    "X = range(1,20)\n",
    "probs = [(1-p)**(k-1)*p for k in X]\n",
    "cum_probs = np.zeros(len(probs))\n",
    "for i in range(len(probs)):\n",
    "    for j in range(i+1):\n",
    "        cum_probs[i] += probs[j]\n",
    "\n",
    "plt.bar(X,cum_probs, tick_label=X,width=1.0,edgecolor='black')\n",
    "plt.title('Cumulative Distribution Function')\n",
    "plt.ylabel(\"P(X<=k)\")\n",
    "plt.xlabel(\"k in Range(X)\")\n",
    "plt.show()\n",
    "print(\"Rng(X) = \" + str(list(X)))\n",
    "print(\"  F(X) = \" + str(cum_probs))"
   ]
  },
  {
   "cell_type": "markdown",
   "metadata": {},
   "source": [
    "Therefore, your algorithm would simply generate a random value U in [0..1) and\n",
    "simply add f(1), f(2), f(3), etc. until exceeding the value of U."
   ]
  },
  {
   "cell_type": "code",
   "execution_count": null,
   "metadata": {
    "scrolled": true
   },
   "outputs": [],
   "source": [
    "\n",
    "def next_geometric(p):\n",
    "    return 0           # your code here\n",
    "\n",
    "# Test it\n",
    "for k in range(10):\n",
    "    print(next_geometric(0.3))\n",
    "\n",
    "    "
   ]
  },
  {
   "cell_type": "code",
   "execution_count": null,
   "metadata": {},
   "outputs": [],
   "source": [
    "num_trials = 10**6\n",
    "\n",
    "# your code here"
   ]
  },
  {
   "cell_type": "markdown",
   "metadata": {},
   "source": [
    "###  Part (B) Using an explicit formula to generate random values\n",
    "\n",
    "In the previous problems we considered generating random numbers by simulation and by the inverting the CDF.  Now we will explore using an explicit function for the inverse of the CDF. The following formula is described in the literature: if U is a value uniformly-distributed in the range [0..1), then\n",
    "\n",
    "          1 + floor[ log( U )  /  log( 1 - p )  ]           # log is to the base e\n",
    "          \n",
    "is an integer which is distributed according to the Geometric Distribution with probability p."
   ]
  },
  {
   "cell_type": "code",
   "execution_count": null,
   "metadata": {},
   "outputs": [],
   "source": [
    "def next_geometric2(p):\n",
    "    return 0    # Your code here\n",
    "\n",
    "# Test it!\n",
    "for k in range(10):\n",
    "    print( next_geometric2(0.3) )"
   ]
  },
  {
   "cell_type": "code",
   "execution_count": null,
   "metadata": {},
   "outputs": [],
   "source": [
    "num_trials = 10**6\n",
    "\n",
    "# your code here\n"
   ]
  }
 ],
 "metadata": {
  "kernelspec": {
   "display_name": "Python 3",
   "language": "python",
   "name": "python3"
  },
  "language_info": {
   "codemirror_mode": {
    "name": "ipython",
    "version": 3
   },
   "file_extension": ".py",
   "mimetype": "text/x-python",
   "name": "python",
   "nbconvert_exporter": "python",
   "pygments_lexer": "ipython3",
   "version": "3.6.4"
  }
 },
 "nbformat": 4,
 "nbformat_minor": 2
}
