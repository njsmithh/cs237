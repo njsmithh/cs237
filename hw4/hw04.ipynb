{
 "cells": [
  {
   "cell_type": "markdown",
   "metadata": {},
   "source": [
    "# CS 237 Summer 2018, Homework 04\n",
    "### Due date: Friday June 8th at midnight (10% off if up to 24 hours late) via Websubmit\n",
    "\n",
    "### Hand in HW 04 and Lab\n",
    "\n",
    "### General Instructions\n",
    "\n",
    "Please complete this notebook by filling in solutions where indicated. Be sure to \"Run All\" from the Cell menu before submitting. \n",
    "\n",
    "You may use ordinary ASCII text to write your solutions, or (preferably) Latex. A nice introduction to Latex in Jupyter notebooks may be found here: http://data-blog.udacity.com/posts/2016/10/latex-primer/"
   ]
  },
  {
   "cell_type": "markdown",
   "metadata": {},
   "source": [
    "# Problem One\n",
    "\n",
    "Describe the random variable X = &quot;the number of face cards  in a hand of 5 cards randomly selected <em>without replacement </em>from a normal deck of cards&quot; by \"describe\" I mean give $S$ (the sample space, in this case hands of cards), $Rng(X)$ = the number of face cards, and $P_X$.\n",
    "\n",
    "Hint: S has six patterns of outcomes, corresponding to the number of face and non-face cards, and you'll have to count the number of hands for each pattern set; you can do this with permutations or with combinations. </p>\n",
    "\n"
   ]
  },
  {
   "cell_type": "markdown",
   "metadata": {},
   "source": [
    "Your solution:\n",
    "\n",
    "$S = \\binom{40}{5} + \\Big[\\binom{12}{1}*\\binom{40}{4}\\Big] + \\Big[\\binom{12}{2}*\\binom{40}{3}\\Big] + \\Big[\\binom{12}{3}*\\binom{40}{2}\\Big] + \\Big[\\binom{12}{4}*\\binom{40}{1}\\Big] + \\binom{12}{5}$ <br\\>\n",
    "$Rng(X) = \\{0, 1, 2, 3, 4, 5\\}$ <br/>\n",
    "\n",
    "P_X = <font color=\"red\">Shouldn't this be 100%?"
   ]
  },
  {
   "cell_type": "markdown",
   "metadata": {},
   "source": [
    "# Problem Two\n",
    "\n",
    "An urn contains five balls, two of which are marked \\$1, two \\$5, and one \\$15. The game is played as follows: You pay me $10 to select two balls at random (without replacement) from the urn, at which point I pay you the sum of the amounts marked on the two balls. </p>\n",
    "<blockquote>\n",
    "  <p>(a) Is this a fair game (meaning, is the cost of each turn equal to the expected payout)? Be precise and show all work. </p>\n",
    "  <p>(b) If your answer to (a) is &quot;no,&quot; what should I charge for each turn to make it a fair game?</p>\n",
    "</blockquote>\n"
   ]
  },
  {
   "cell_type": "markdown",
   "metadata": {},
   "source": [
    "Solution:\n",
    "\n",
    "A: After doing a probability tree, we can use the given values of a \"payout\" to calculate the expected result.\n",
    "$E(X) = (2 * 0.1) + (6 * 0.4) + (10 * 0.1) + (16 * 0.2) + (20 * 0.2) = 10.80$ <br\\>\n",
    "The payout is not truly fair, with the game bias towards the player, but just slightly.\n",
    "\n",
    "B: To make it fair, a player should be charged $10.80."
   ]
  },
  {
   "cell_type": "markdown",
   "metadata": {},
   "source": [
    "# Problem Three\n",
    "\n",
    "Let X ~ &quot;the number of spades in a 5-card poker hand&quot; </p>\n",
    "<blockquote>\n",
    "    <p>(a) Give E(X)</p>\n",
    "    <p>(b) Give Var(X)</p>\n",
    "    <p>(c) Give &sigma;<sub>X</sub></p>\n",
    "</blockquote>\n",
    "  <p>Give the formulae and the values; you'll want to use Wolfram Alpha or Python to calculate the values. </p>\n",
    "  \n",
    "  "
   ]
  },
  {
   "cell_type": "markdown",
   "metadata": {},
   "source": [
    "A) <br\\>\n",
    "$E(X) = 0 + \\Big(1 * \\frac{\\binom{13}{1} * \\binom{39}{4}}{\\binom{52}{5}}\\Big) + \\Big(2 * \\frac{\\binom{13}{2} * \\binom{39}{3}}{\\binom{52}{5}}\\Big) + \\Big(3 * \\frac{\\binom{13}{3} * \\binom{39}{2}}{\\binom{52}{5}}\\Big) + \\Big(4 * \\frac{\\binom{13}{4} * \\binom{39}{1}}{\\binom{52}{5}}\\Big) + \\Big(5 * \\frac{\\binom{13}{5}}{\\binom{52}{5}}\\Big) = 1.25$ <br\\>\n",
    "\n",
    "B) Note that $\\bar{x} = 2.5$ <br\\>\n",
    "$Var(X) = \\frac{\\sum {(x - \\bar{x})^2}}{N} = \\frac{(0 - 2.5)^2 + (1 - 2.5)^2 + (2 - 2.5)^2 + (3 - 2.5)^2 + (4 - 2.5)^2 + (5 - 2.5)^2}{6} = 3.5$\n",
    "\n",
    "C) <br\\>\n",
    "$\\sigma_x = \\sqrt{\\frac{\\sum {(x - \\bar{x})^2}}{N}} = \\sqrt{3.5} = 1.8708$"
   ]
  },
  {
   "cell_type": "markdown",
   "metadata": {},
   "source": [
    "\n"
   ]
  },
  {
   "cell_type": "markdown",
   "metadata": {},
   "source": [
    "# Problem Four\n",
    "\n",
    "\n",
    " \n",
    " <p> Let X and Y be two independent RVs  (e.g., X and Y could both be &quot;how many dots show on a tossed die&quot; and (X + Y) could be &quot;the sum of the dots showing on two tossed dice&quot;). Prove the following properties about expected value and variance.</p>\n",
    "<blockquote>\n",
    "    <p>(a) E( X + Y ) = E(X) + E(Y)</p>\n",
    "    <p>(b) E( X\\*Y ) = E(X) \\* E(Y)</p>\n",
    "    <p>(c) Var( X + Y ) = Var(X) + Var(Y)</p>\n",
    "  </blockquote>\n",
    " <p>Note this problem justifies the (simple) formulae for the expected value and variance of a binomial RV. </p>"
   ]
  },
  {
   "cell_type": "markdown",
   "metadata": {},
   "source": []
  },
  {
   "cell_type": "markdown",
   "metadata": {},
   "source": [
    "\n"
   ]
  },
  {
   "cell_type": "markdown",
   "metadata": {},
   "source": [
    "# Problem Five\n",
    "\n",
    "(Binomial) Suppose that in West Campus in January of 2017, out of 12 accidents that resulted in trips to Health Services or the emergency room, 4 happened on Friday the 13th. Is this a good reason for my partner Liz, who is very superstitious, to suppose that this July the 13th, a Friday, I am particularly in danger in my dorm room in Rich Hall?  </p>\n",
    "<p>Hint: The model in question is that we know that 12 accidents occurred in January of 2017, and the probability that any one of them occured on Friday the 13th is the same as any other day, namely 1/31. Therefore the binomial model is X = &quot;how many of the 12 accidents occurred on Friday the 13th?&quot; You want to consider the probability  of at least 4 accidents on that date, i.e., how unusual is this?</p>\n"
   ]
  },
  {
   "cell_type": "markdown",
   "metadata": {},
   "source": []
  },
  {
   "cell_type": "markdown",
   "metadata": {},
   "source": [
    "# Problem Six\n",
    "\n",
    "(Binomial) Suppose that jury members decide on each case independently, and each makes the correct decision randomly with probability p. If the decision of the majority is final, which is preferable in arriving at correct verdicts, a 3-person jury or a single juror?</p>\n",
    "  <p>Hint: This will depend on p. For p &isin; {0, 1/2, 1 }, it will make no difference. For other cases it will make a difference.  Explain carefully how this plays out depending on p and show all the calculations. You need to calculate the probability of a successful decision with a 3-person jury, and compare that with the probability of a correct decision with a single juror (which is just p). When the former is larger than the latter, then the 3-person jury is preferable. That is, assuming you are innocent!</p>\n",
    "  "
   ]
  },
  {
   "cell_type": "markdown",
   "metadata": {},
   "source": []
  },
  {
   "cell_type": "markdown",
   "metadata": {},
   "source": [
    "# Problem Seven\n",
    "\n",
    "(Binomial) Suppose that each day the price of a stock moves up 1/8th of a point with probability 1/3 and moves down 1/8th of a point with probability 2/3. If the price fluctuations from one day to the next are independent, what is the probability that after six days the stock has its original price? </p>\n"
   ]
  },
  {
   "cell_type": "markdown",
   "metadata": {},
   "source": []
  },
  {
   "cell_type": "markdown",
   "metadata": {},
   "source": [
    "# Problem Eight\n",
    "\n",
    "(Geometric) Suppose we draw cards at random and <em>with replacement </em>from a standard deck of 52 cards successively until we draw an Ace.</p>\n",
    "<blockquote>\n",
    "  <p>(a) What is the probability that this occurs on the 5th draw?</p>\n",
    "  <p>(b) What is the probability that at least 10 draws are needed?</p>\n",
    "  <p>(c) What is the probability that between 3 and 7 draws (inclusive) are needed?</p>\n",
    "</blockquote>\n"
   ]
  },
  {
   "cell_type": "markdown",
   "metadata": {},
   "source": []
  },
  {
   "cell_type": "markdown",
   "metadata": {},
   "source": [
    "# Problem Nine\n",
    "\n",
    "Suppose that in a certain region of California, earthquakes occur at the average rate of 7 per year. </p>\n",
    "<blockquote>\n",
    "  <p>(a) What is the probability of no earthquakes in a particular year?</p>\n",
    "  <p>(b) Suppose a year ago, there were 8 earthquakes in this region, and this year again there were 8; what is the probability that next year there will be at least 8 earthquakes?</p>\n",
    "  <p>(c) What is the probability that in exactly three of the next eight years, no earthquakes occur? [ Hint: First use the Poisson, then the Binomial.]</p>\n",
    "</blockquote>\n"
   ]
  },
  {
   "cell_type": "markdown",
   "metadata": {},
   "source": []
  },
  {
   "cell_type": "markdown",
   "metadata": {},
   "source": [
    "# Problem Ten\n",
    "\n",
    "In this problem we will compare the Binomial and the Poisson as an approximation to the Binomial. The probability that a patient will have a bad reaction to a new drug being tested is 0.001. The new drug is administered to 2000 people.</p>\n",
    "<blockquote>\n",
    "  <p>(a) What is the probability that exactly 3 individuals will develop a bad reaction (use the Binomial);</p>\n",
    "  <p>(b) What is the probability that least 2 individuals will develop a bad reaction (use the Binomial);</p>\n",
    "  <p>(c) Redo (a) but using the Poisson, letting &lambda; = the expected value of  the Binomial;</p>\n",
    "  <p>(d) Redo (b) using the Poisson. </p>\n",
    "</blockquote>\n"
   ]
  },
  {
   "cell_type": "markdown",
   "metadata": {},
   "source": []
  }
 ],
 "metadata": {
  "kernelspec": {
   "display_name": "Python 3",
   "language": "python",
   "name": "python3"
  },
  "language_info": {
   "codemirror_mode": {
    "name": "ipython",
    "version": 3
   },
   "file_extension": ".py",
   "mimetype": "text/x-python",
   "name": "python",
   "nbconvert_exporter": "python",
   "pygments_lexer": "ipython3",
   "version": "3.6.4"
  }
 },
 "nbformat": 4,
 "nbformat_minor": 2
}
